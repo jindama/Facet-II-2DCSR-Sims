{
 "cells": [
  {
   "cell_type": "code",
   "execution_count": 1,
   "id": "a69456f0-5836-4b6f-9625-5f68e3ea60f2",
   "metadata": {
    "tags": []
   },
   "outputs": [
    {
     "name": "stderr",
     "output_type": "stream",
     "text": [
      "[nid200000:1191589] shmem: mmap: an error occurred while determining whether or not /tmp/ompi.nid200000.104522/jf.0/2706505728/shared_mem_cuda_pool.nid200000 could be created.\n",
      "[nid200000:1191589] create_and_attach: unable to create shared memory BTL coordinating structure :: size 134217728 \n"
     ]
    }
   ],
   "source": [
    "#%matplotlib widget \n",
    "import sys\n",
    "import numpy as np\n",
    "import mpi4py\n",
    "import os\n",
    "\n",
    "from pyDFCSR_2D import CSR2D\n",
    "import matplotlib.pyplot as plt\n",
    "from matplotlib import cm\n",
    "import h5py\n",
    "\n",
    "from pyDFCSR_2D.tools import plot_surface\n",
    "\n",
    "import pickle\n",
    "import os\n",
    "import re\n",
    "import shutil"
   ]
  },
  {
   "cell_type": "code",
   "execution_count": 2,
   "id": "7c0abc28-9413-4842-ad1c-1760c68ddc3d",
   "metadata": {
    "tags": []
   },
   "outputs": [],
   "source": [
    "def replace_config_content(config_path, keyword, replacement_string):\n",
    "    \"\"\"\n",
    "    Replace content after 'keyword:' in the line starting with keyword: in the given file.\n",
    "\n",
    "    Args:\n",
    "    - filepath (str): Path to the text file.\n",
    "    - replacement_string (str): String to replace the content after 'beamfile:'.\n",
    "\n",
    "    Returns:\n",
    "    - bool: True if the replacement was successful, False otherwise.\n",
    "    \"\"\"\n",
    "    filepath = config_path;\n",
    "    try:\n",
    "        # Read the file line by line\n",
    "        with open(filepath, 'r') as file:\n",
    "            lines = file.readlines()\n",
    "\n",
    "        # Define the keyword to search for\n",
    "        keyword = '  ' + keyword;\n",
    "\n",
    "        # Iterate through the lines\n",
    "        for i, line in enumerate(lines):\n",
    "            if line.startswith(keyword):\n",
    "                # Find the position of 'beamfile:'\n",
    "                index = line.find(keyword)\n",
    "                \n",
    "                # Replace everything after 'beamfile:' with replacement_string\n",
    "                lines[i] = line[:index + len(keyword)] + ' ' + replacement_string + '\\n'  # Include newline if needed\n",
    "                break  # Assuming only one line starts with '  beamfile:'\n",
    "\n",
    "        # Write the modified lines back to the file\n",
    "        with open(filepath, 'w') as file:\n",
    "            file.writelines(lines)\n",
    "\n",
    "        return True  # Return True if successful\n",
    "\n",
    "    except Exception as e:\n",
    "        print(f\"Error occurred: {e}\")\n",
    "        return False  # Return False if there was an error"
   ]
  },
  {
   "cell_type": "code",
   "execution_count": 3,
   "id": "53e5920f-de32-431b-8701-5722a27bf166",
   "metadata": {
    "tags": []
   },
   "outputs": [],
   "source": [
    "lattice_names = ['b1le_0', 'b1le_1',\n",
    "                 'b2le_0', 'b2le_1',\n",
    "                 'b3le_0', 'b3le_1',\n",
    "                 \n",
    "                 'b3re_0', 'b3re_1',\n",
    "                 'b2re_0', 'b2re_1',\n",
    "                 'b1re_0', 'b1re_1',\n",
    "                 \n",
    "                 'FF_line_full_lattice', 'EXPT_to_IP_lattice'\n",
    "                ]"
   ]
  },
  {
   "cell_type": "code",
   "execution_count": 39,
   "id": "31db0664-8c1a-424c-bd37-f69d37011594",
   "metadata": {
    "tags": []
   },
   "outputs": [],
   "source": [
    "input_dir = '/global/homes/o/ocamacho/pydfCSR_sims/beam_files/';\n",
    "phi1 = '-17.0'; phi2 = '-41.5'\n",
    "init_beam = input_dir + 'BEGBC20_1M_-17.0-41.5.h5'\n",
    "init_config = r'/global/homes/o/ocamacho/pydfCSR_sims/config_files/W_chicane_config_base.yaml';\n",
    "output_dir =  '/global/cfs/projectdirs/m669/obed/w_chicane_pydf_outputs/'"
   ]
  },
  {
   "cell_type": "code",
   "execution_count": 5,
   "id": "4f0b2885-95e8-4c73-a548-37a1fbe76023",
   "metadata": {
    "tags": []
   },
   "outputs": [
    {
     "data": {
      "text/plain": [
       "'/global/homes/o/ocamacho/pydfCSR_sims/config_files/W_chicane_config_base.yaml'"
      ]
     },
     "execution_count": 5,
     "metadata": {},
     "output_type": "execute_result"
    }
   ],
   "source": [
    "init_config"
   ]
  },
  {
   "cell_type": "code",
   "execution_count": 6,
   "id": "08729002-5107-4d9f-9e19-b67f1f5e77fd",
   "metadata": {
    "tags": []
   },
   "outputs": [
    {
     "data": {
      "text/plain": [
       "'/global/homes/o/ocamacho/pydfCSR_sims/beam_files/BEGBC20_1M_-17.0-41.5_pg_.h5'"
      ]
     },
     "execution_count": 6,
     "metadata": {},
     "output_type": "execute_result"
    }
   ],
   "source": [
    "init_beam"
   ]
  },
  {
   "cell_type": "code",
   "execution_count": 40,
   "id": "4e38d73e-630d-40ed-be60-60944fda772b",
   "metadata": {
    "tags": []
   },
   "outputs": [
    {
     "name": "stdout",
     "output_type": "stream",
     "text": [
      "start reinterpolation. number of slice 1\n",
      "xbins = 500  zbins =  500\n"
     ]
    }
   ],
   "source": [
    "testCSR = CSR2D(input_file= init_config)\n",
    "testCSR.CSR_params.compute_CSR = 0\n",
    "testCSR.CSR_params.transverse_on = 0"
   ]
  },
  {
   "cell_type": "markdown",
   "id": "2d12ffde-476c-4276-8be0-d1b1631efa6e",
   "metadata": {},
   "source": [
    "### Plot Initial Phase Space"
   ]
  },
  {
   "cell_type": "code",
   "execution_count": 41,
   "id": "369d0783-f2c3-449c-958a-a95ab793c4c5",
   "metadata": {
    "tags": []
   },
   "outputs": [
    {
     "data": {
      "text/plain": [
       "10017424392.34986"
      ]
     },
     "execution_count": 41,
     "metadata": {},
     "output_type": "execute_result"
    }
   ],
   "source": [
    "np.mean(testCSR.beam.energy)"
   ]
  },
  {
   "cell_type": "code",
   "execution_count": 42,
   "id": "8e51de88-1475-4d03-93ee-7caa80c9dba5",
   "metadata": {
    "tags": []
   },
   "outputs": [
    {
     "data": {
      "image/png": "[encoded data removed]",
      "text/plain": [
       "<Figure size 640x480 with 1 Axes>"
      ]
     },
     "metadata": {},
     "output_type": "display_data"
    }
   ],
   "source": [
    "plt.hist2d( 1e6*testCSR.beam.z,  (testCSR.beam.energy - testCSR.beam.energy.mean() )/1e9, 500);\n",
    "plt.xlabel(r'$\\zeta$'); plt.ylabel('$E$ (GeV)');"
   ]
  },
  {
   "cell_type": "markdown",
   "id": "4c56f700-0379-4d45-b8ae-6bf75be2acb5",
   "metadata": {},
   "source": [
    "### Run through B1LE"
   ]
  },
  {
   "cell_type": "code",
   "execution_count": 27,
   "id": "51c89a87-0ed3-4598-bc7a-bf91e434b1a5",
   "metadata": {
    "scrolled": true,
    "tags": []
   },
   "outputs": [
    {
     "name": "stdout",
     "output_type": "stream",
     "text": [
      "start reinterpolation. number of slice 1\n",
      "xbins = 500  zbins =  500\n",
      "CPU times: user 183 ms, sys: 13.3 ms, total: 196 ms\n",
      "Wall time: 283 ms\n"
     ]
    }
   ],
   "source": [
    "%%time\n",
    "B1LE0= CSR2D(input_file= init_config);\n",
    "B1LE0.CSR_params.apply_CSR = 0;\n",
    "B1LE0.CSR_params.compute_CSR = 0;\n",
    "B1LE0.CSR_params.transverse_on = 0;"
   ]
  },
  {
   "cell_type": "code",
   "execution_count": 28,
   "id": "3d767040-cba2-4f9b-b20a-572de481108a",
   "metadata": {
    "scrolled": true,
    "tags": []
   },
   "outputs": [
    {
     "name": "stdout",
     "output_type": "stream",
     "text": [
      "Starting the DFCSR run\n",
      "SBend(L=0.2, P0C=10017424405.383165, G=0.021250112621849206, DG=0.0, E1=0.0, E2=0.0, FINT=0.5, HGAP=0.0115, FINTX=0.5, HGAPX=0.0115, FRINGE_AT='both_ends', FRINGE_TYPE='linear_edge', TILT=0.0)\n",
      "Finish step 1, s = 0.2,  in 0.227006196975708 seconds\n",
      "SBend(L=0.2, P0C=10017424405.383165, G=0.021250112621849206, DG=0.0, E1=0.0, E2=0.0, FINT=0.5, HGAP=0.0115, FINTX=0.5, HGAPX=0.0115, FRINGE_AT='both_ends', FRINGE_TYPE='linear_edge', TILT=0.0)\n",
      "Finish step 2, s = 0.4,  in 0.20966315269470215 seconds\n",
      "SBend(L=0.2, P0C=10017424405.383165, G=0.021250112621849206, DG=0.0, E1=0.0, E2=0.0, FINT=0.5, HGAP=0.0115, FINTX=0.5, HGAPX=0.0115, FRINGE_AT='both_ends', FRINGE_TYPE='linear_edge', TILT=0.0)\n",
      "Finish step 3, s = 0.6000000000000001,  in 0.21312475204467773 seconds\n",
      "SBend(L=0.2, P0C=10017424405.383165, G=0.021250112621849206, DG=0.0, E1=0.0, E2=0.0, FINT=0.5, HGAP=0.0115, FINTX=0.5, HGAPX=0.0115, FRINGE_AT='both_ends', FRINGE_TYPE='linear_edge', TILT=0.0)\n",
      "Finish step 4, s = 0.8,  in 0.19617247581481934 seconds\n",
      "SBend(L=0.2, P0C=10017424405.383165, G=0.021250112621849206, DG=0.0, E1=0.0, E2=0.0, FINT=0.5, HGAP=0.0115, FINTX=0.5, HGAPX=0.0115, FRINGE_AT='both_ends', FRINGE_TYPE='linear_edge', TILT=0.0)\n",
      "Finish step 5, s = 1.0,  in 0.22426295280456543 seconds\n",
      "SBend(L=0.06302260143194727, P0C=10017424405.383165, G=0.021250112621849206, DG=0.0, E1=0.0, E2=0.011294675, FINT=0.5, HGAP=0.0115, FINTX=0.5, HGAPX=0.0115, FRINGE_AT='both_ends', FRINGE_TYPE='linear_edge', TILT=0.0)\n",
      "Drift(L=0.1369773985680529)\n",
      "Finish step 6, s = 1.2000000000000002,  in 0.09747862815856934 seconds\n",
      "Drift(L=0.2)\n",
      "Finish step 7, s = 1.4000000000000001,  in 0.09639501571655273 seconds\n",
      "Drift(L=0.2)\n",
      "Finish step 8, s = 1.6,  in 0.09763216972351074 seconds\n",
      "Drift(L=0.2)\n",
      "Finish step 9, s = 1.8,  in 0.09700441360473633 seconds\n",
      "Drift(L=0.2)\n",
      "Finish step 10, s = 2.0,  in 0.09726715087890625 seconds\n",
      "Drift(L=0.2)\n",
      "Finish step 11, s = 2.2,  in 0.0980691909790039 seconds\n",
      "Drift(L=0.2)\n",
      "Finish step 12, s = 2.4000000000000004,  in 0.09560036659240723 seconds\n",
      "Drift(L=0.2)\n",
      "Finish step 13, s = 2.6000000000000005,  in 0.09633994102478027 seconds\n",
      "Drift(L=0.2)\n",
      "Finish step 14, s = 2.8000000000000007,  in 0.09647035598754883 seconds\n",
      "Drift(L=0.2)\n",
      "Finish step 15, s = 3.000000000000001,  in 0.09590601921081543 seconds\n",
      "Drift(L=0.2)\n",
      "Finish step 16, s = 3.200000000000001,  in 0.09650230407714844 seconds\n",
      "Drift(L=0.2)\n",
      "Finish step 17, s = 3.4000000000000012,  in 0.09586477279663086 seconds\n",
      "Drift(L=0.2)\n",
      "Finish step 18, s = 3.6000000000000014,  in 0.09671831130981445 seconds\n",
      "Drift(L=0.2)\n",
      "Finish step 19, s = 3.8000000000000016,  in 0.09594202041625977 seconds\n",
      "Drift(L=0.2)\n",
      "Finish step 20, s = 4.000000000000002,  in 0.09662699699401855 seconds\n",
      "Drift(L=0.2)\n",
      "Finish step 21, s = 4.200000000000002,  in 0.09566617012023926 seconds\n",
      "Drift(L=0.2)\n",
      "Finish step 22, s = 4.400000000000002,  in 0.09682989120483398 seconds\n",
      "Drift(L=0.2)\n",
      "Finish step 23, s = 4.600000000000002,  in 0.09593915939331055 seconds\n",
      "Drift(L=0.2)\n",
      "Finish step 24, s = 4.8000000000000025,  in 0.09634971618652344 seconds\n",
      "Drift(L=0.2)\n",
      "Finish step 25, s = 5.000000000000003,  in 0.09526300430297852 seconds\n",
      "Drift(L=0.2)\n",
      "Finish step 26, s = 5.200000000000003,  in 0.09646153450012207 seconds\n",
      "Drift(L=0.2)\n",
      "Finish step 27, s = 5.400000000000003,  in 0.09338498115539551 seconds\n",
      "Drift(L=0.2)\n",
      "Finish step 28, s = 5.600000000000003,  in 0.08844566345214844 seconds\n",
      "Drift(L=0.2)\n",
      "Finish step 29, s = 5.800000000000003,  in 0.09552502632141113 seconds\n",
      "Drift(L=0.2)\n",
      "Finish step 30, s = 6.0000000000000036,  in 0.09651970863342285 seconds\n",
      "Drift(L=0.02641130504752187)\n",
      "Quadrupole(L=0.17358869495247475, K1=0.811267045415, NUM_STEPS=1, X_OFFSET=0.0, Y_OFFSET=0.0, TILT=0.0)\n",
      "Finish step 31, s = 6.2,  in 0.23804688453674316 seconds\n",
      "Quadrupole(L=0.2, K1=0.811267045415, NUM_STEPS=1, X_OFFSET=0.0, Y_OFFSET=0.0, TILT=0.0)\n",
      "Finish step 32, s = 6.4,  in 0.24884653091430664 seconds\n",
      "Quadrupole(L=0.2, K1=0.811267045415, NUM_STEPS=1, X_OFFSET=0.0, Y_OFFSET=0.0, TILT=0.0)\n",
      "Finish step 33, s = 6.6000000000000005,  in 0.22885560989379883 seconds\n",
      "Quadrupole(L=0.02261130504752451, K1=0.811267045415, NUM_STEPS=1, X_OFFSET=0.0, Y_OFFSET=0.0, TILT=0.0)\n",
      "Drift(L=0.17738869495247567)\n",
      "Finish step 34, s = 6.800000000000001,  in 0.08779311180114746 seconds\n",
      "Drift(L=0.2)\n",
      "Finish step 35, s = 7.000000000000001,  in 0.08663797378540039 seconds\n",
      "Drift(L=0.2)\n",
      "Finish step 36, s = 7.200000000000001,  in 0.08739614486694336 seconds\n",
      "Drift(L=0.2)\n",
      "Finish step 37, s = 7.400000000000001,  in 0.08678030967712402 seconds\n",
      "Drift(L=0.2)\n",
      "Finish step 38, s = 7.600000000000001,  in 0.09625983238220215 seconds\n",
      "Drift(L=0.2)\n",
      "Finish step 39, s = 7.800000000000002,  in 0.09578680992126465 seconds\n",
      "Drift(L=0.2)\n",
      "Finish step 40, s = 8.000000000000002,  in 0.09826803207397461 seconds\n",
      "Drift(L=0.2)\n",
      "Finish step 41, s = 8.200000000000001,  in 0.0894157886505127 seconds\n",
      "Drift(L=0.2)\n",
      "Finish step 42, s = 8.4,  in 0.09365677833557129 seconds\n",
      "Drift(L=0.2)\n",
      "Finish step 43, s = 8.6,  in 0.09583640098571777 seconds\n",
      "Drift(L=0.02341730504752526)\n",
      "Quadrupole(L=0.1765826949524758, K1=0, NUM_STEPS=1, X_OFFSET=0.0, Y_OFFSET=0.0, TILT=0.7853981633974483)\n",
      "Finish step 44, s = 8.8,  in 0.21474575996398926 seconds\n",
      "Quadrupole(L=0.2, K1=0, NUM_STEPS=1, X_OFFSET=0.0, Y_OFFSET=0.0, TILT=0.7853981633974483)\n",
      "Finish step 45, s = 9.0,  in 0.23134565353393555 seconds\n",
      "Quadrupole(L=0.004717305047524434, K1=0, NUM_STEPS=1, X_OFFSET=0.0, Y_OFFSET=0.0, TILT=0.7853981633974483)\n",
      "Drift(L=0.19528269495247663)\n",
      "Finish step 46, s = 9.200000000000001,  in 0.08778023719787598 seconds\n",
      "Drift(L=0.2)\n",
      "Finish step 47, s = 9.4,  in 0.08705496788024902 seconds\n",
      "Drift(L=0.2)\n",
      "Finish step 48, s = 9.6,  in 0.09528064727783203 seconds\n",
      "Drift(L=0.2)\n",
      "Finish step 49, s = 9.799999999999999,  in 0.09126973152160645 seconds\n",
      "Drift(L=0.2)\n",
      "Finish step 50, s = 9.999999999999998,  in 0.08895730972290039 seconds\n",
      "Drift(L=0.2)\n",
      "Finish step 51, s = 10.199999999999998,  in 0.09819579124450684 seconds\n",
      "Drift(L=0.2)\n",
      "Finish step 52, s = 10.399999999999997,  in 0.09644412994384766 seconds\n",
      "Drift(L=0.013961305047528683)\n",
      "SBend(L=0.18603869495247594, P0C=10017424405.383165, G=-0.017979013319907942, DG=0.0, E1=-0.01640495070375, E2=0.0, FINT=0.5, HGAP=0.00635, FINTX=0.5, HGAPX=0.0, FRINGE_AT='both_ends', FRINGE_TYPE='linear_edge', TILT=0.0)\n",
      "Finish step 53, s = 10.600000000000001,  in 0.2141735553741455 seconds\n",
      "SBend(L=0.2, P0C=10017424405.383165, G=-0.017979013319907942, DG=0.0, E1=0.0, E2=0.0, FINT=0.5, HGAP=0.00635, FINTX=0.5, HGAPX=0.0, FRINGE_AT='both_ends', FRINGE_TYPE='linear_edge', TILT=0.0)\n",
      "Finish step 54, s = 10.8,  in 0.21338391304016113 seconds\n",
      "SBend(L=0.2, P0C=10017424405.383165, G=-0.017979013319907942, DG=0.0, E1=0.0, E2=0.0, FINT=0.5, HGAP=0.00635, FINTX=0.5, HGAPX=0.0, FRINGE_AT='both_ends', FRINGE_TYPE='linear_edge', TILT=0.0)\n",
      "Finish step 55, s = 11.0,  in 0.22108244895935059 seconds\n",
      "SBend(L=0.2, P0C=10017424405.383165, G=-0.017979013319907942, DG=0.0, E1=0.0, E2=0.0, FINT=0.5, HGAP=0.00635, FINTX=0.5, HGAPX=0.0, FRINGE_AT='both_ends', FRINGE_TYPE='linear_edge', TILT=0.0)\n",
      "Finish step 56, s = 11.2,  in 0.21500277519226074 seconds\n",
      "SBend(L=0.2, P0C=10017424405.383165, G=-0.017979013319907942, DG=0.0, E1=0.0, E2=0.0, FINT=0.5, HGAP=0.00635, FINTX=0.5, HGAPX=0.0, FRINGE_AT='both_ends', FRINGE_TYPE='linear_edge', TILT=0.0)\n",
      "Finish step 57, s = 11.399999999999999,  in 0.2121126651763916 seconds\n",
      "SBend(L=0.2, P0C=10017424405.383165, G=-0.017979013319907942, DG=0.0, E1=0.0, E2=0.0, FINT=0.5, HGAP=0.00635, FINTX=0.5, HGAPX=0.0, FRINGE_AT='both_ends', FRINGE_TYPE='linear_edge', TILT=0.0)\n",
      "Finish step 58, s = 11.599999999999998,  in 0.2150571346282959 seconds\n",
      "SBend(L=0.2, P0C=10017424405.383165, G=-0.017979013319907942, DG=0.0, E1=0.0, E2=0.0, FINT=0.5, HGAP=0.00635, FINTX=0.5, HGAPX=0.0, FRINGE_AT='both_ends', FRINGE_TYPE='linear_edge', TILT=0.0)\n",
      "Finish step 59, s = 11.799999999999997,  in 0.21215128898620605 seconds\n",
      "SBend(L=0.2, P0C=10017424405.383165, G=-0.017979013319907942, DG=0.0, E1=0.0, E2=0.0, FINT=0.5, HGAP=0.00635, FINTX=0.5, HGAPX=0.0, FRINGE_AT='both_ends', FRINGE_TYPE='linear_edge', TILT=0.0)\n",
      "Finish step 60, s = 11.999999999999996,  in 0.20610618591308594 seconds\n",
      "SBend(L=0.2, P0C=10017424405.383165, G=-0.017979013319907942, DG=0.0, E1=0.0, E2=0.0, FINT=0.5, HGAP=0.00635, FINTX=0.5, HGAPX=0.0, FRINGE_AT='both_ends', FRINGE_TYPE='linear_edge', TILT=0.0)\n",
      "Finish step 61, s = 12.199999999999996,  in 0.21895551681518555 seconds\n",
      "SBend(L=0.03886130504752927, P0C=10017424405.383165, G=-0.017979013319907942, DG=0.0, E1=0.0, E2=-0.01640495070375, FINT=0.5, HGAP=0.00635, FINTX=0.5, HGAPX=0.0, FRINGE_AT='both_ends', FRINGE_TYPE='linear_edge', TILT=0.0)\n",
      "Drift(L=0.16113869495247535)\n",
      "Finish step 62, s = 12.4,  in 0.0935511589050293 seconds\n",
      "Drift(L=0.03246130504752465)\n",
      "Quadrupole(L=0.16753869495247642, K1=-0.462440331546, NUM_STEPS=1, X_OFFSET=0.0, Y_OFFSET=0.0, TILT=0.0)\n",
      "Finish step 63, s = 12.600000000000001,  in 0.25548720359802246 seconds\n",
      "Quadrupole(L=0.2, K1=-0.462440331546, NUM_STEPS=1, X_OFFSET=0.0, Y_OFFSET=0.0, TILT=0.0)\n",
      "Finish step 64, s = 12.8,  in 0.2549738883972168 seconds\n",
      "Quadrupole(L=0.2, K1=-0.462440331546, NUM_STEPS=1, X_OFFSET=0.0, Y_OFFSET=0.0, TILT=0.0)\n",
      "Finish step 65, s = 13.0,  in 0.26224374771118164 seconds\n",
      "Quadrupole(L=0.2, K1=-0.462440331546, NUM_STEPS=1, X_OFFSET=0.0, Y_OFFSET=0.0, TILT=0.0)\n",
      "Finish step 66, s = 13.2,  in 0.25171685218811035 seconds\n",
      "Quadrupole(L=0.2, K1=-0.462440331546, NUM_STEPS=1, X_OFFSET=0.0, Y_OFFSET=0.0, TILT=0.0)\n",
      "Finish step 67, s = 13.399999999999999,  in 0.24644851684570312 seconds\n",
      "Quadrupole(L=0.03246130504752642, K1=-0.462440331546, NUM_STEPS=1, X_OFFSET=0.0, Y_OFFSET=0.0, TILT=0.0)\n",
      "Drift(L=0.16753869495247642)\n",
      "Finish step 68, s = 13.600000000000001,  in 0.0992271900177002 seconds\n",
      "Drift(L=0.026117305047524297)\n",
      "Sextupole(L=0.173882694952475, K2=9.651773976528, NUM_STEPS=1, X_OFFSET=0.0, Y_OFFSET=0.0, TILT=0.0)\n",
      "Finish step 69, s = 13.8,  in 0.12312912940979004 seconds\n",
      "Sextupole(L=0.07611730504752501, K2=9.651773976528, NUM_STEPS=1, X_OFFSET=0.0, Y_OFFSET=0.0, TILT=0.0)\n",
      "Drift(L=0.12388269495247428)\n",
      "Finish step 70, s = 14.0,  in 0.10531949996948242 seconds\n",
      "Drift(L=0.2)\n",
      "Finish step 71, s = 14.2,  in 0.10198211669921875 seconds\n",
      "Drift(L=0.083711305047526)\n",
      "Quadrupole(L=0.11628869495247507, K1=0.462720996981, NUM_STEPS=1, X_OFFSET=0.0, Y_OFFSET=0.0, TILT=0.0)\n",
      "Finish step 72, s = 14.4,  in 0.26610636711120605 seconds\n",
      "Quadrupole(L=0.2, K1=0.462720996981, NUM_STEPS=1, X_OFFSET=0.0, Y_OFFSET=0.0, TILT=0.0)\n",
      "Finish step 73, s = 14.6,  in 0.242903470993042 seconds\n",
      "Quadrupole(L=0.2, K1=0.462720996981, NUM_STEPS=1, X_OFFSET=0.0, Y_OFFSET=0.0, TILT=0.0)\n",
      "Finish step 74, s = 14.799999999999999,  in 0.2356264591217041 seconds\n",
      "Quadrupole(L=0.1979113050475263, K1=0.462720996981, NUM_STEPS=1, X_OFFSET=0.0, Y_OFFSET=0.0, TILT=0.0)\n",
      "Drift(L=0.0020886949524747678)\n",
      "Finish step 75, s = 15.0,  in 0.09813261032104492 seconds\n",
      "Drift(L=0.2)\n",
      "Finish step 76, s = 15.2,  in 0.10192370414733887 seconds\n",
      "Drift(L=0.02731130504752599)\n",
      "Quadrupole(L=0.17268869495247507, K1=0.462720996981, NUM_STEPS=1, X_OFFSET=0.0, Y_OFFSET=0.0, TILT=0.0)\n",
      "Finish step 77, s = 15.4,  in 0.2673680782318115 seconds\n",
      "Quadrupole(L=0.2, K1=0.462720996981, NUM_STEPS=1, X_OFFSET=0.0, Y_OFFSET=0.0, TILT=0.0)\n",
      "Finish step 78, s = 15.6,  in 0.2367100715637207 seconds\n",
      "Quadrupole(L=0.2, K1=0.462720996981, NUM_STEPS=1, X_OFFSET=0.0, Y_OFFSET=0.0, TILT=0.0)\n",
      "Finish step 79, s = 15.799999999999999,  in 0.2397780418395996 seconds\n",
      "Quadrupole(L=0.1415113050475263, K1=0.462720996981, NUM_STEPS=1, X_OFFSET=0.0, Y_OFFSET=0.0, TILT=0.0)\n",
      "Drift(L=0.05848869495247477)\n",
      "Finish step 80, s = 16.0,  in 0.08991789817810059 seconds\n",
      "Drift(L=0.18238630504752606)\n",
      "Sextupole(L=0.017613694952473224, K2=-8.063275568009, NUM_STEPS=1, X_OFFSET=0.0, Y_OFFSET=0.0, TILT=0.0)\n",
      "Finish step 81, s = 16.2,  in 0.11878180503845215 seconds\n",
      "Sextupole(L=0.2, K2=-8.063275568009, NUM_STEPS=1, X_OFFSET=0.0, Y_OFFSET=0.0, TILT=0.0)\n",
      "Finish step 82, s = 16.4,  in 0.11608648300170898 seconds\n",
      "Sextupole(L=0.2, K2=-8.063275568009, NUM_STEPS=1, X_OFFSET=0.0, Y_OFFSET=0.0, TILT=0.0)\n",
      "Finish step 83, s = 16.599999999999998,  in 0.11609172821044922 seconds\n",
      "Sextupole(L=0.2, K2=-8.063275568009, NUM_STEPS=1, X_OFFSET=0.0, Y_OFFSET=0.0, TILT=0.0)\n",
      "Finish step 84, s = 16.799999999999997,  in 0.11671876907348633 seconds\n",
      "Sextupole(L=0.14438630504752936, K2=-8.063275568009, NUM_STEPS=1, X_OFFSET=0.0, Y_OFFSET=0.0, TILT=0.0)\n",
      "Drift(L=0.05561369495247348)\n",
      "Finish step 85, s = 17.0,  in 0.09840726852416992 seconds\n",
      "Drift(L=0.2)\n",
      "Finish step 86, s = 17.2,  in 0.09646964073181152 seconds\n",
      "Drift(L=0.2)\n",
      "Finish step 87, s = 17.4,  in 0.09717559814453125 seconds\n",
      "Drift(L=0.2)\n",
      "Finish step 88, s = 17.599999999999998,  in 0.09015989303588867 seconds\n",
      "Drift(L=0.2)\n",
      "Finish step 89, s = 17.799999999999997,  in 0.09721827507019043 seconds\n",
      "Drift(L=0.2)\n",
      "Finish step 90, s = 17.999999999999996,  in 0.09433245658874512 seconds\n",
      "Drift(L=0.2)\n",
      "Finish step 91, s = 18.199999999999996,  in 0.09763741493225098 seconds\n",
      "Drift(L=0.2)\n",
      "Finish step 92, s = 18.399999999999995,  in 0.09952616691589355 seconds\n",
      "Drift(L=0.2)\n",
      "Finish step 93, s = 18.599999999999994,  in 0.09808468818664551 seconds\n",
      "Drift(L=0.2)\n",
      "Finish step 94, s = 18.799999999999994,  in 0.09743905067443848 seconds\n",
      "Drift(L=0.09786130504753388)\n",
      "Sextupole(L=0.10213869495247252, K2=-12.223414013976, NUM_STEPS=1, X_OFFSET=0.0, Y_OFFSET=0.0, TILT=0.0)\n",
      "Finish step 95, s = 19.0,  in 0.10621857643127441 seconds\n",
      "Sextupole(L=0.14786130504752748, K2=-12.223414013976, NUM_STEPS=1, X_OFFSET=0.0, Y_OFFSET=0.0, TILT=0.0)\n",
      "Drift(L=0.05213869495247536)\n",
      "Finish step 96, s = 19.200000000000003,  in 0.09802985191345215 seconds\n",
      "Drift(L=0.18756130504752377)\n",
      "Quadrupole(L=0.012438694952475515, K1=0.55529780432, NUM_STEPS=1, X_OFFSET=0.0, Y_OFFSET=0.0, TILT=0.0)\n",
      "Finish step 97, s = 19.400000000000002,  in 0.26361560821533203 seconds\n",
      "Quadrupole(L=0.2, K1=0.55529780432, NUM_STEPS=1, X_OFFSET=0.0, Y_OFFSET=0.0, TILT=0.0)\n",
      "Finish step 98, s = 19.6,  in 0.24610090255737305 seconds\n",
      "Quadrupole(L=0.2, K1=0.55529780432, NUM_STEPS=1, X_OFFSET=0.0, Y_OFFSET=0.0, TILT=0.0)\n",
      "Finish step 99, s = 19.8,  in 0.2625126838684082 seconds\n",
      "Quadrupole(L=0.2, K1=0.55529780432, NUM_STEPS=1, X_OFFSET=0.0, Y_OFFSET=0.0, TILT=0.0)\n",
      "Finish step 100, s = 20.0,  in 0.2414259910583496 seconds\n",
      "Quadrupole(L=0.10176130504752479, K1=0.55529780432, NUM_STEPS=1, X_OFFSET=0.0, Y_OFFSET=0.0, TILT=0.0)\n",
      "Drift(L=0.09823869495247806)\n",
      "Finish step 101, s = 20.200000000000003,  in 0.0973055362701416 seconds\n",
      "Drift(L=0.13116130504752022)\n",
      "Quadrupole(L=0.06883869495247907, K1=0.55529780432, NUM_STEPS=1, X_OFFSET=0.0, Y_OFFSET=0.0, TILT=0.0)\n",
      "Finish step 102, s = 20.400000000000002,  in 0.2399129867553711 seconds\n",
      "Quadrupole(L=0.2, K1=0.55529780432, NUM_STEPS=1, X_OFFSET=0.0, Y_OFFSET=0.0, TILT=0.0)\n",
      "Finish step 103, s = 20.6,  in 0.251422643661499 seconds\n",
      "Quadrupole(L=0.2, K1=0.55529780432, NUM_STEPS=1, X_OFFSET=0.0, Y_OFFSET=0.0, TILT=0.0)\n",
      "Finish step 104, s = 20.8,  in 0.23263978958129883 seconds\n",
      "Quadrupole(L=0.2, K1=0.55529780432, NUM_STEPS=1, X_OFFSET=0.0, Y_OFFSET=0.0, TILT=0.0)\n",
      "Finish step 105, s = 21.0,  in 0.2400190830230713 seconds\n",
      "Quadrupole(L=0.04536130504752123, K1=0.55529780432, NUM_STEPS=1, X_OFFSET=0.0, Y_OFFSET=0.0, TILT=0.0)\n",
      "Drift(L=0.15463869495248161)\n",
      "Finish step 106, s = 21.200000000000003,  in 0.09045004844665527 seconds\n",
      "Drift(L=0.07476130504751666)\n",
      "Quadrupole(L=0.12523869495248263, K1=0.55529780432, NUM_STEPS=1, X_OFFSET=0.0, Y_OFFSET=0.0, TILT=0.0)\n",
      "Finish step 107, s = 21.400000000000002,  in 0.2273256778717041 seconds\n",
      "Quadrupole(L=0.2, K1=0.55529780432, NUM_STEPS=1, X_OFFSET=0.0, Y_OFFSET=0.0, TILT=0.0)\n",
      "Finish step 108, s = 21.6,  in 0.24753212928771973 seconds\n",
      "Quadrupole(L=0.2, K1=0.55529780432, NUM_STEPS=1, X_OFFSET=0.0, Y_OFFSET=0.0, TILT=0.0)\n",
      "Finish step 109, s = 21.8,  in 0.24152660369873047 seconds\n",
      "Quadrupole(L=0.18896130504751696, K1=0.55529780432, NUM_STEPS=1, X_OFFSET=0.0, Y_OFFSET=0.0, TILT=0.0)\n",
      "Drift(L=0.01103869495248233)\n",
      "Finish step 110, s = 22.0,  in 0.0983586311340332 seconds\n",
      "Drift(L=0.2)\n",
      "Finish step 111, s = 22.2,  in 0.09728550910949707 seconds\n",
      "Drift(L=0.028661305047517516)\n",
      "Sextupole(L=0.17133869495248533, K2=-12.223414013976, NUM_STEPS=1, X_OFFSET=0.0, Y_OFFSET=0.0, TILT=0.0)\n",
      "Finish step 112, s = 22.400000000000002,  in 0.1162099838256836 seconds\n",
      "Sextupole(L=0.07866130504751467, K2=-12.223414013976, NUM_STEPS=1, X_OFFSET=0.0, Y_OFFSET=0.0, TILT=0.0)\n",
      "Drift(L=0.12133869495248462)\n",
      "Finish step 113, s = 22.6,  in 0.09608960151672363 seconds\n",
      "Drift(L=0.2)\n",
      "Finish step 114, s = 22.8,  in 0.09664130210876465 seconds\n",
      "Drift(L=0.1586668086508105)\n",
      "Quadrupole(L=0.04133319134918878, K1=-0.163592075808, NUM_STEPS=1, X_OFFSET=0.0, Y_OFFSET=0.0, TILT=0.0)\n",
      "Finish step 115, s = 23.0,  in 0.2443995475769043 seconds\n",
      "Quadrupole(L=0.2, K1=-0.163592075808, NUM_STEPS=1, X_OFFSET=0.0, Y_OFFSET=0.0, TILT=0.0)\n",
      "Finish step 116, s = 23.2,  in 0.2469019889831543 seconds\n",
      "Quadrupole(L=0.18706680865081182, K1=-0.163592075808, NUM_STEPS=1, X_OFFSET=0.0, Y_OFFSET=0.0, TILT=0.0)\n",
      "Drift(L=0.01293319134919102)\n",
      "Finish step 117, s = 23.400000000000002,  in 0.08956623077392578 seconds\n",
      "Drift(L=0.2)\n",
      "Finish step 118, s = 23.6,  in 0.08797454833984375 seconds\n",
      "Drift(L=0.016366808650808196)\n",
      "SBend(L=0.1836331913491911, P0C=10017424405.383165, G=0.019331476087573296, DG=0.0, E1=0.00511027570375, E2=0.0, FINT=0.5, HGAP=0.010325, FINTX=0.5, HGAPX=0.0, FRINGE_AT='both_ends', FRINGE_TYPE='linear_edge', TILT=0.0)\n",
      "Finish step 119, s = 23.8,  in 0.21291184425354004 seconds\n",
      "SBend(L=0.2, P0C=10017424405.383165, G=0.019331476087573296, DG=0.0, E1=0.0, E2=0.0, FINT=0.5, HGAP=0.010325, FINTX=0.5, HGAPX=0.0, FRINGE_AT='both_ends', FRINGE_TYPE='linear_edge', TILT=0.0)\n",
      "Finish step 120, s = 24.0,  in 0.2061302661895752 seconds\n",
      "SBend(L=0.14506680865081023, P0C=10017424405.383165, G=0.019331476087573296, DG=0.0, E1=0.0, E2=0.00511027570375, FINT=0.5, HGAP=0.010325, FINTX=0.5, HGAPX=0.0, FRINGE_AT='both_ends', FRINGE_TYPE='linear_edge', TILT=0.0)\n",
      "Drift(L=0.05493319134919261)\n",
      "Finish step 121, s = 24.200000000000003,  in 0.08963727951049805 seconds\n",
      "Drift(L=0.18686480865080668)\n",
      "Quadrupole(L=0.01313519134919261, K1=-1.376084837022, NUM_STEPS=1, X_OFFSET=0.0, Y_OFFSET=0.0, TILT=0.0)\n",
      "Finish step 122, s = 24.400000000000002,  in 0.27438831329345703 seconds\n",
      "Quadrupole(L=0.2, K1=-1.376084837022, NUM_STEPS=1, X_OFFSET=0.0, Y_OFFSET=0.0, TILT=0.0)\n",
      "Finish step 123, s = 24.6,  in 0.2726716995239258 seconds\n",
      "Quadrupole(L=0.09686480865080682, K1=-1.376084837022, NUM_STEPS=1, X_OFFSET=0.0, Y_OFFSET=0.0, TILT=0.0)\n",
      "Drift(L=0.10313519134919247)\n",
      "Finish step 124, s = 24.8,  in 0.08999252319335938 seconds\n",
      "Drift(L=0.13866280865080682)\n",
      "SBend(L=0.061337191349192466, P0C=10017424405.383165, G=0.019331476087573296, DG=0.0, E1=0.00511027570375, E2=0.0, FINT=0.5, HGAP=0.010325, FINTX=0.5, HGAPX=0.0, FRINGE_AT='both_ends', FRINGE_TYPE='linear_edge', TILT=0.0)\n",
      "Finish step 125, s = 25.0,  in 0.20794963836669922 seconds\n",
      "SBend(L=0.2, P0C=10017424405.383165, G=0.019331476087573296, DG=0.0, E1=0.0, E2=0.0, FINT=0.5, HGAP=0.010325, FINTX=0.5, HGAPX=0.0, FRINGE_AT='both_ends', FRINGE_TYPE='linear_edge', TILT=0.0)\n",
      "Finish step 126, s = 25.2,  in 0.21358036994934082 seconds\n",
      "SBend(L=0.2, P0C=10017424405.383165, G=0.019331476087573296, DG=0.0, E1=0.0, E2=0.0, FINT=0.5, HGAP=0.010325, FINTX=0.5, HGAPX=0.0, FRINGE_AT='both_ends', FRINGE_TYPE='linear_edge', TILT=0.0)\n",
      "Finish step 127, s = 25.4,  in 0.21135997772216797 seconds\n",
      "SBend(L=0.06736280865080957, P0C=10017424405.383165, G=0.019331476087573296, DG=0.0, E1=0.0, E2=0.00511027570375, FINT=0.5, HGAP=0.010325, FINTX=0.5, HGAPX=0.0, FRINGE_AT='both_ends', FRINGE_TYPE='linear_edge', TILT=0.0)\n",
      "Drift(L=0.13263719134919327)\n",
      "Finish step 128, s = 25.6,  in 0.09923505783081055 seconds\n",
      "Drift(L=0.09666280865080523)\n",
      "Quadrupole(L=0.10333719134919406, K1=-0.163597934794, NUM_STEPS=1, X_OFFSET=0.0, Y_OFFSET=0.0, TILT=0.0)\n",
      "Finish step 129, s = 25.8,  in 0.25666236877441406 seconds\n",
      "Quadrupole(L=0.2, K1=-0.163597934794, NUM_STEPS=1, X_OFFSET=0.0, Y_OFFSET=0.0, TILT=0.0)\n",
      "Finish step 130, s = 26.0,  in 0.2384476661682129 seconds\n",
      "Quadrupole(L=0.12506280865080655, K1=-0.163597934794, NUM_STEPS=1, X_OFFSET=0.0, Y_OFFSET=0.0, TILT=0.0)\n",
      "Drift(L=0.0749371913491963)\n",
      "Finish step 131, s = 26.200000000000003,  in 0.09820365905761719 seconds\n",
      "Drift(L=0.2)\n",
      "Finish step 132, s = 26.400000000000002,  in 0.09707379341125488 seconds\n",
      "Drift(L=0.2)\n",
      "Finish step 133, s = 26.6,  in 0.09948420524597168 seconds\n",
      "Drift(L=0.0050683122540995384)\n",
      "Sextupole(L=0.19493168774589975, K2=-12.223414013976, NUM_STEPS=1, X_OFFSET=0.0, Y_OFFSET=0.0, TILT=0.0)\n",
      "Finish step 134, s = 26.8,  in 0.11731290817260742 seconds\n",
      "Sextupole(L=0.05506831225410025, K2=-12.223414013976, NUM_STEPS=1, X_OFFSET=0.0, Y_OFFSET=0.0, TILT=0.0)\n",
      "Drift(L=0.14493168774589904)\n",
      "Finish step 135, s = 27.0,  in 0.09798407554626465 seconds\n",
      "Drift(L=0.0947683122541001)\n",
      "Quadrupole(L=0.10523168774590275, K1=0.55529780432, NUM_STEPS=1, X_OFFSET=0.0, Y_OFFSET=0.0, TILT=0.0)\n",
      "Finish step 136, s = 27.200000000000003,  in 0.26104164123535156 seconds\n",
      "Quadrupole(L=0.2, K1=0.55529780432, NUM_STEPS=1, X_OFFSET=0.0, Y_OFFSET=0.0, TILT=0.0)\n",
      "Finish step 137, s = 27.400000000000002,  in 0.24042177200317383 seconds\n",
      "Quadrupole(L=0.2, K1=0.55529780432, NUM_STEPS=1, X_OFFSET=0.0, Y_OFFSET=0.0, TILT=0.0)\n",
      "Finish step 138, s = 27.6,  in 0.24961209297180176 seconds\n",
      "Quadrupole(L=0.2, K1=0.55529780432, NUM_STEPS=1, X_OFFSET=0.0, Y_OFFSET=0.0, TILT=0.0)\n",
      "Finish step 139, s = 27.8,  in 0.25427865982055664 seconds\n",
      "Quadrupole(L=0.008968312254101107, K1=0.55529780432, NUM_STEPS=1, X_OFFSET=0.0, Y_OFFSET=0.0, TILT=0.0)\n",
      "Drift(L=0.19103168774589818)\n",
      "Finish step 140, s = 28.0,  in 0.09789133071899414 seconds\n",
      "Drift(L=0.03836831225410009)\n",
      "Quadrupole(L=0.16163168774590275, K1=0.55529780432, NUM_STEPS=1, X_OFFSET=0.0, Y_OFFSET=0.0, TILT=0.0)\n",
      "Finish step 141, s = 28.200000000000003,  in 0.2487795352935791 seconds\n",
      "Quadrupole(L=0.2, K1=0.55529780432, NUM_STEPS=1, X_OFFSET=0.0, Y_OFFSET=0.0, TILT=0.0)\n",
      "Finish step 142, s = 28.400000000000002,  in 0.2592129707336426 seconds\n",
      "Quadrupole(L=0.2, K1=0.55529780432, NUM_STEPS=1, X_OFFSET=0.0, Y_OFFSET=0.0, TILT=0.0)\n",
      "Finish step 143, s = 28.6,  in 0.2526817321777344 seconds\n",
      "Quadrupole(L=0.15256831225409684, K1=0.55529780432, NUM_STEPS=1, X_OFFSET=0.0, Y_OFFSET=0.0, TILT=0.0)\n",
      "Drift(L=0.04743168774590245)\n",
      "Finish step 144, s = 28.8,  in 0.09841537475585938 seconds\n",
      "Drift(L=0.18196831225409582)\n",
      "Quadrupole(L=0.01803168774590347, K1=0.55529780432, NUM_STEPS=1, X_OFFSET=0.0, Y_OFFSET=0.0, TILT=0.0)\n",
      "Finish step 145, s = 29.0,  in 0.2391364574432373 seconds\n",
      "Quadrupole(L=0.2, K1=0.55529780432, NUM_STEPS=1, X_OFFSET=0.0, Y_OFFSET=0.0, TILT=0.0)\n",
      "Finish step 146, s = 29.2,  in 0.23474955558776855 seconds\n",
      "Quadrupole(L=0.2, K1=0.55529780432, NUM_STEPS=1, X_OFFSET=0.0, Y_OFFSET=0.0, TILT=0.0)\n",
      "Finish step 147, s = 29.4,  in 0.24280261993408203 seconds\n",
      "Quadrupole(L=0.2, K1=0.55529780432, NUM_STEPS=1, X_OFFSET=0.0, Y_OFFSET=0.0, TILT=0.0)\n",
      "Finish step 148, s = 29.599999999999998,  in 0.25870728492736816 seconds\n",
      "Quadrupole(L=0.09616831225409683, K1=0.55529780432, NUM_STEPS=1, X_OFFSET=0.0, Y_OFFSET=0.0, TILT=0.0)\n",
      "Drift(L=0.10383168774590601)\n",
      "Finish step 149, s = 29.8,  in 0.0987396240234375 seconds\n",
      "Drift(L=0.13586831225409313)\n",
      "Sextupole(L=0.06413168774590616, K2=-12.223414013976, NUM_STEPS=1, X_OFFSET=0.0, Y_OFFSET=0.0, TILT=0.0)\n",
      "Finish step 150, s = 30.0,  in 0.11589670181274414 seconds\n",
      "Sextupole(L=0.18586831225409384, K2=-12.223414013976, NUM_STEPS=1, X_OFFSET=0.0, Y_OFFSET=0.0, TILT=0.0)\n",
      "Drift(L=0.014131687745909005)\n",
      "Finish step 151, s = 30.200000000000003,  in 0.09834885597229004 seconds\n",
      "Drift(L=0.2)\n",
      "Finish step 152, s = 30.400000000000002,  in 0.09754467010498047 seconds\n",
      "Drift(L=0.2)\n",
      "Finish step 153, s = 30.6,  in 0.0974729061126709 seconds\n",
      "Drift(L=0.2)\n",
      "Finish step 154, s = 30.8,  in 0.09834575653076172 seconds\n",
      "Drift(L=0.2)\n",
      "Finish step 155, s = 31.0,  in 0.09761285781860352 seconds\n",
      "Drift(L=0.2)\n",
      "Finish step 156, s = 31.2,  in 0.09627079963684082 seconds\n",
      "Drift(L=0.2)\n",
      "Finish step 157, s = 31.4,  in 0.09647107124328613 seconds\n",
      "Drift(L=0.2)\n",
      "Finish step 158, s = 31.599999999999998,  in 0.09608626365661621 seconds\n",
      "Drift(L=0.2)\n",
      "Finish step 159, s = 31.799999999999997,  in 0.09670138359069824 seconds\n",
      "Drift(L=0.2)\n",
      "Finish step 160, s = 31.999999999999996,  in 0.09622716903686523 seconds\n",
      "Drift(L=0.14251831225410072)\n",
      "Sextupole(L=0.057481687745905674, K2=-8.063275568009, NUM_STEPS=1, X_OFFSET=0.0, Y_OFFSET=0.0, TILT=0.0)\n",
      "Finish step 161, s = 32.2,  in 0.11612915992736816 seconds\n",
      "Sextupole(L=0.2, K2=-8.063275568009, NUM_STEPS=1, X_OFFSET=0.0, Y_OFFSET=0.0, TILT=0.0)\n",
      "Finish step 162, s = 32.400000000000006,  in 0.11586260795593262 seconds\n",
      "Sextupole(L=0.2, K2=-8.063275568009, NUM_STEPS=1, X_OFFSET=0.0, Y_OFFSET=0.0, TILT=0.0)\n",
      "Finish step 163, s = 32.60000000000001,  in 0.10674548149108887 seconds\n",
      "Sextupole(L=0.2, K2=-8.063275568009, NUM_STEPS=1, X_OFFSET=0.0, Y_OFFSET=0.0, TILT=0.0)\n",
      "Finish step 164, s = 32.80000000000001,  in 0.10912156105041504 seconds\n",
      "Sextupole(L=0.10451831225408625, K2=-8.063275568009, NUM_STEPS=1, X_OFFSET=0.0, Y_OFFSET=0.0, TILT=0.0)\n",
      "Drift(L=0.09548168774590238)\n",
      "Finish step 165, s = 33.0,  in 0.09119272232055664 seconds\n",
      "Drift(L=0.14221831225409431)\n",
      "Quadrupole(L=0.05778168774590853, K1=0.462720996981, NUM_STEPS=1, X_OFFSET=0.0, Y_OFFSET=0.0, TILT=0.0)\n",
      "Finish step 166, s = 33.2,  in 0.25846004486083984 seconds\n",
      "Quadrupole(L=0.2, K1=0.462720996981, NUM_STEPS=1, X_OFFSET=0.0, Y_OFFSET=0.0, TILT=0.0)\n",
      "Finish step 167, s = 33.400000000000006,  in 0.2511107921600342 seconds\n",
      "Quadrupole(L=0.2, K1=0.462720996981, NUM_STEPS=1, X_OFFSET=0.0, Y_OFFSET=0.0, TILT=0.0)\n",
      "Finish step 168, s = 33.60000000000001,  in 0.2527353763580322 seconds\n",
      "Quadrupole(L=0.2, K1=0.462720996981, NUM_STEPS=1, X_OFFSET=0.0, Y_OFFSET=0.0, TILT=0.0)\n",
      "Finish step 169, s = 33.80000000000001,  in 0.2353670597076416 seconds\n",
      "Quadrupole(L=0.056418312254081115, K1=0.462720996981, NUM_STEPS=1, X_OFFSET=0.0, Y_OFFSET=0.0, TILT=0.0)\n",
      "Drift(L=0.14358168774590752)\n",
      "Finish step 170, s = 34.0,  in 0.0882420539855957 seconds\n",
      "Drift(L=0.08581831225409076)\n",
      "Quadrupole(L=0.11418168774591209, K1=0.462720996981, NUM_STEPS=1, X_OFFSET=0.0, Y_OFFSET=0.0, TILT=0.0)\n",
      "Finish step 171, s = 34.2,  in 0.23807454109191895 seconds\n",
      "Quadrupole(L=0.2, K1=0.462720996981, NUM_STEPS=1, X_OFFSET=0.0, Y_OFFSET=0.0, TILT=0.0)\n",
      "Finish step 172, s = 34.400000000000006,  in 0.25380873680114746 seconds\n",
      "Quadrupole(L=0.2, K1=0.462720996981, NUM_STEPS=1, X_OFFSET=0.0, Y_OFFSET=0.0, TILT=0.0)\n",
      "Finish step 173, s = 34.60000000000001,  in 0.2527298927307129 seconds\n",
      "Quadrupole(L=0.2, K1=0.462720996981, NUM_STEPS=1, X_OFFSET=0.0, Y_OFFSET=0.0, TILT=0.0)\n",
      "Finish step 174, s = 34.80000000000001,  in 0.2612471580505371 seconds\n",
      "Quadrupole(L=1.83122540775571e-05, K1=0.462720996981, NUM_STEPS=1, X_OFFSET=0.0, Y_OFFSET=0.0, TILT=0.0)\n",
      "Drift(L=0.19998168774591107)\n",
      "Finish step 175, s = 35.0,  in 0.09807348251342773 seconds\n",
      "Drift(L=0.1984683122540858)\n",
      "Sextupole(L=0.0015316877459170541, K2=9.651773976528, NUM_STEPS=1, X_OFFSET=0.0, Y_OFFSET=0.0, TILT=0.0)\n",
      "Finish step 176, s = 35.2,  in 0.11852526664733887 seconds\n",
      "Sextupole(L=0.2, K2=9.651773976528, NUM_STEPS=1, X_OFFSET=0.0, Y_OFFSET=0.0, TILT=0.0)\n",
      "Finish step 177, s = 35.400000000000006,  in 0.11770439147949219 seconds\n",
      "Sextupole(L=0.048468312254080104, K2=9.651773976528, NUM_STEPS=1, X_OFFSET=0.0, Y_OFFSET=0.0, TILT=0.0)\n",
      "Drift(L=0.15153168774591563)\n",
      "Finish step 178, s = 35.6,  in 0.09871482849121094 seconds\n",
      "Drift(L=0.05126831225408779)\n",
      "Quadrupole(L=0.14873168774591505, K1=-0.46243862549, NUM_STEPS=1, X_OFFSET=0.0, Y_OFFSET=0.0, TILT=0.0)\n",
      "Finish step 179, s = 35.800000000000004,  in 0.24416708946228027 seconds\n",
      "Quadrupole(L=0.2, K1=-0.46243862549, NUM_STEPS=1, X_OFFSET=0.0, Y_OFFSET=0.0, TILT=0.0)\n",
      "Finish step 180, s = 36.00000000000001,  in 0.23382163047790527 seconds\n",
      "Quadrupole(L=0.2, K1=-0.46243862549, NUM_STEPS=1, X_OFFSET=0.0, Y_OFFSET=0.0, TILT=0.0)\n",
      "Finish step 181, s = 36.20000000000001,  in 0.2444446086883545 seconds\n",
      "Quadrupole(L=0.2, K1=-0.46243862549, NUM_STEPS=1, X_OFFSET=0.0, Y_OFFSET=0.0, TILT=0.0)\n",
      "Finish step 182, s = 36.40000000000001,  in 0.2426307201385498 seconds\n",
      "Quadrupole(L=0.2, K1=-0.46243862549, NUM_STEPS=1, X_OFFSET=0.0, Y_OFFSET=0.0, TILT=0.0)\n",
      "Finish step 183, s = 36.600000000000016,  in 0.26103782653808594 seconds\n",
      "Quadrupole(L=0.05126831225407358, K1=-0.46243862549, NUM_STEPS=1, X_OFFSET=0.0, Y_OFFSET=0.0, TILT=0.0)\n",
      "Drift(L=0.14873168774591505)\n",
      "Finish step 184, s = 36.800000000000004,  in 0.10047030448913574 seconds\n",
      "Drift(L=0.044868312254088494)\n",
      "SBend(L=0.15513168774590724, P0C=10017424405.383165, G=-0.017979013319907942, DG=0.0, E1=-0.01640495070375, E2=0.0, FINT=0.5, HGAP=0.00635, FINTX=0.0, HGAPX=0.0, FRINGE_AT='both_ends', FRINGE_TYPE='linear_edge', TILT=0.0)\n",
      "Finish step 185, s = 37.0,  in 0.22160553932189941 seconds\n",
      "SBend(L=0.2, P0C=10017424405.383165, G=-0.017979013319907942, DG=0.0, E1=0.0, E2=0.0, FINT=0.5, HGAP=0.00635, FINTX=0.0, HGAPX=0.0, FRINGE_AT='both_ends', FRINGE_TYPE='linear_edge', TILT=0.0)\n",
      "Finish step 186, s = 37.2,  in 0.21526026725769043 seconds\n",
      "SBend(L=0.2, P0C=10017424405.383165, G=-0.017979013319907942, DG=0.0, E1=0.0, E2=0.0, FINT=0.5, HGAP=0.00635, FINTX=0.0, HGAPX=0.0, FRINGE_AT='both_ends', FRINGE_TYPE='linear_edge', TILT=0.0)\n",
      "Finish step 187, s = 37.400000000000006,  in 0.23058104515075684 seconds\n",
      "SBend(L=0.2, P0C=10017424405.383165, G=-0.017979013319907942, DG=0.0, E1=0.0, E2=0.0, FINT=0.5, HGAP=0.00635, FINTX=0.0, HGAPX=0.0, FRINGE_AT='both_ends', FRINGE_TYPE='linear_edge', TILT=0.0)\n",
      "Finish step 188, s = 37.60000000000001,  in 0.21442365646362305 seconds\n",
      "SBend(L=0.2, P0C=10017424405.383165, G=-0.017979013319907942, DG=0.0, E1=0.0, E2=0.0, FINT=0.5, HGAP=0.00635, FINTX=0.0, HGAPX=0.0, FRINGE_AT='both_ends', FRINGE_TYPE='linear_edge', TILT=0.0)\n",
      "Finish step 189, s = 37.80000000000001,  in 0.2240440845489502 seconds\n",
      "SBend(L=0.2, P0C=10017424405.383165, G=-0.017979013319907942, DG=0.0, E1=0.0, E2=0.0, FINT=0.5, HGAP=0.00635, FINTX=0.0, HGAPX=0.0, FRINGE_AT='both_ends', FRINGE_TYPE='linear_edge', TILT=0.0)\n",
      "Finish step 190, s = 38.000000000000014,  in 0.2123241424560547 seconds\n",
      "SBend(L=0.2, P0C=10017424405.383165, G=-0.017979013319907942, DG=0.0, E1=0.0, E2=0.0, FINT=0.5, HGAP=0.00635, FINTX=0.0, HGAPX=0.0, FRINGE_AT='both_ends', FRINGE_TYPE='linear_edge', TILT=0.0)\n",
      "Finish step 191, s = 38.20000000000002,  in 0.21284842491149902 seconds\n",
      "SBend(L=0.2, P0C=10017424405.383165, G=-0.017979013319907942, DG=0.0, E1=0.0, E2=0.0, FINT=0.5, HGAP=0.00635, FINTX=0.0, HGAPX=0.0, FRINGE_AT='both_ends', FRINGE_TYPE='linear_edge', TILT=0.0)\n",
      "Finish step 192, s = 38.40000000000002,  in 0.2132585048675537 seconds\n",
      "SBend(L=0.2, P0C=10017424405.383165, G=-0.017979013319907942, DG=0.0, E1=0.0, E2=0.0, FINT=0.5, HGAP=0.00635, FINTX=0.0, HGAPX=0.0, FRINGE_AT='both_ends', FRINGE_TYPE='linear_edge', TILT=0.0)\n",
      "Finish step 193, s = 38.60000000000002,  in 0.21245479583740234 seconds\n",
      "SBend(L=0.06976831225406954, P0C=10017424405.383165, G=-0.017979013319907942, DG=0.0, E1=0.0, E2=-0.01640495070375, FINT=0.5, HGAP=0.00635, FINTX=0.0, HGAPX=0.0, FRINGE_AT='both_ends', FRINGE_TYPE='linear_edge', TILT=0.0)\n",
      "Drift(L=0.13023168774591198)\n",
      "Finish step 194, s = 38.800000000000004,  in 0.09981966018676758 seconds\n",
      "Drift(L=0.2)\n",
      "Finish step 195, s = 39.00000000000001,  in 0.09646129608154297 seconds\n",
      "Drift(L=0.2)\n",
      "Finish step 196, s = 39.20000000000001,  in 0.09774017333984375 seconds\n",
      "Drift(L=0.2)\n",
      "Finish step 197, s = 39.40000000000001,  in 0.09659719467163086 seconds\n",
      "Drift(L=0.2)\n",
      "Finish step 198, s = 39.600000000000016,  in 0.08904170989990234 seconds\n",
      "Drift(L=0.2)\n",
      "Finish step 199, s = 39.80000000000002,  in 0.09597444534301758 seconds\n",
      "Drift(L=0.2)\n",
      "Finish step 200, s = 40.00000000000002,  in 0.09754610061645508 seconds\n",
      "Drift(L=0.2)\n",
      "Finish step 201, s = 40.200000000000024,  in 0.09681105613708496 seconds\n",
      "Drift(L=0.2)\n",
      "Finish step 202, s = 40.40000000000003,  in 0.09800124168395996 seconds\n",
      "Drift(L=0.2)\n",
      "Finish step 203, s = 40.60000000000003,  in 0.0966486930847168 seconds\n",
      "Drift(L=0.2)\n",
      "Finish step 204, s = 40.80000000000003,  in 0.0979299545288086 seconds\n",
      "Drift(L=0.2)\n",
      "Finish step 205, s = 41.000000000000036,  in 0.09633994102478027 seconds\n",
      "Drift(L=0.2)\n",
      "Finish step 206, s = 41.20000000000004,  in 0.09811973571777344 seconds\n",
      "Drift(L=0.2)\n",
      "Finish step 207, s = 41.40000000000004,  in 0.09681081771850586 seconds\n",
      "Drift(L=0.2)\n",
      "Finish step 208, s = 41.600000000000044,  in 0.09991049766540527 seconds\n",
      "Drift(L=0.2)\n",
      "Finish step 209, s = 41.80000000000005,  in 0.0969247817993164 seconds\n",
      "Drift(L=0.2)\n",
      "Finish step 210, s = 42.00000000000005,  in 0.09777426719665527 seconds\n",
      "Drift(L=0.2)\n",
      "Finish step 211, s = 42.20000000000005,  in 0.08800244331359863 seconds\n",
      "Drift(L=0.2)\n",
      "Finish step 212, s = 42.400000000000055,  in 0.09314942359924316 seconds\n",
      "Drift(L=0.06111831225403819)\n",
      "Quadrupole(L=0.1388816877459078, K1=0.811228495466, NUM_STEPS=1, X_OFFSET=0.0, Y_OFFSET=0.0, TILT=0.0)\n",
      "Finish step 213, s = 42.6,  in 0.24826645851135254 seconds\n",
      "Quadrupole(L=0.2, K1=0.811228495466, NUM_STEPS=1, X_OFFSET=0.0, Y_OFFSET=0.0, TILT=0.0)\n",
      "Finish step 214, s = 42.800000000000004,  in 0.25212597846984863 seconds\n",
      "Quadrupole(L=0.2, K1=0.811228495466, NUM_STEPS=1, X_OFFSET=0.0, Y_OFFSET=0.0, TILT=0.0)\n",
      "Finish step 215, s = 43.00000000000001,  in 0.2446918487548828 seconds\n",
      "Quadrupole(L=0.057318312254089676, K1=0.811228495466, NUM_STEPS=1, X_OFFSET=0.0, Y_OFFSET=0.0, TILT=0.0)\n",
      "Drift(L=0.14268168774590606)\n",
      "Finish step 216, s = 43.2,  in 0.0901787281036377 seconds\n",
      "Drift(L=0.2)\n",
      "Finish step 217, s = 43.400000000000006,  in 0.09584856033325195 seconds\n",
      "Drift(L=0.2)\n",
      "Finish step 218, s = 43.60000000000001,  in 0.09450411796569824 seconds\n",
      "Drift(L=0.2)\n",
      "Finish step 219, s = 43.80000000000001,  in 0.08821749687194824 seconds\n",
      "Drift(L=0.2)\n",
      "Finish step 220, s = 44.000000000000014,  in 0.08815741539001465 seconds\n",
      "Drift(L=0.2)\n",
      "Finish step 221, s = 44.20000000000002,  in 0.09314227104187012 seconds\n",
      "Drift(L=0.2)\n",
      "Finish step 222, s = 44.40000000000002,  in 0.08981466293334961 seconds\n",
      "Drift(L=0.2)\n",
      "Finish step 223, s = 44.60000000000002,  in 0.08764410018920898 seconds\n",
      "Drift(L=0.2)\n",
      "Finish step 224, s = 44.800000000000026,  in 0.09192538261413574 seconds\n",
      "Drift(L=0.2)\n",
      "Finish step 225, s = 45.00000000000003,  in 0.09176230430603027 seconds\n",
      "Drift(L=0.2)\n",
      "Finish step 226, s = 45.20000000000003,  in 0.09731459617614746 seconds\n",
      "Drift(L=0.2)\n",
      "Finish step 227, s = 45.400000000000034,  in 0.09666061401367188 seconds\n",
      "Drift(L=0.2)\n",
      "Finish step 228, s = 45.60000000000004,  in 0.09721589088439941 seconds\n",
      "Drift(L=0.2)\n",
      "Finish step 229, s = 45.80000000000004,  in 0.09627342224121094 seconds\n",
      "Drift(L=0.2)\n",
      "Finish step 230, s = 46.00000000000004,  in 0.09698033332824707 seconds\n",
      "Drift(L=0.2)\n",
      "Finish step 231, s = 46.200000000000045,  in 0.09680533409118652 seconds\n",
      "Drift(L=0.2)\n",
      "Finish step 232, s = 46.40000000000005,  in 0.09689450263977051 seconds\n",
      "Drift(L=0.2)\n",
      "Finish step 233, s = 46.60000000000005,  in 0.09650635719299316 seconds\n",
      "Drift(L=0.2)\n",
      "Finish step 234, s = 46.800000000000054,  in 0.09717130661010742 seconds\n",
      "Drift(L=0.2)\n",
      "Finish step 235, s = 47.00000000000006,  in 0.09711670875549316 seconds\n",
      "Drift(L=0.2)\n",
      "Finish step 236, s = 47.20000000000006,  in 0.09705042839050293 seconds\n",
      "Drift(L=0.2)\n",
      "Finish step 237, s = 47.40000000000006,  in 0.09647679328918457 seconds\n",
      "Drift(L=0.2)\n",
      "Finish step 238, s = 47.600000000000065,  in 0.09725260734558105 seconds\n",
      "Drift(L=0.2)\n",
      "Finish step 239, s = 47.80000000000007,  in 0.09733819961547852 seconds\n",
      "Drift(L=0.2)\n",
      "Finish step 240, s = 48.00000000000007,  in 0.09674692153930664 seconds\n",
      "Drift(L=0.020707015869604106)\n",
      "SBend(L=0.17929298413032768, P0C=10017424405.383165, G=0.021250112621849206, DG=0.0, E1=0.011294675, E2=0.0, FINT=0.5, HGAP=0.0115, FINTX=0.5, HGAPX=0.0, FRINGE_AT='both_ends', FRINGE_TYPE='linear_edge', TILT=0.0)\n",
      "Finish step 241, s = 48.2,  in 0.23298859596252441 seconds\n",
      "SBend(L=0.2, P0C=10017424405.383165, G=0.021250112621849206, DG=0.0, E1=0.0, E2=0.0, FINT=0.5, HGAP=0.0115, FINTX=0.5, HGAPX=0.0, FRINGE_AT='both_ends', FRINGE_TYPE='linear_edge', TILT=0.0)\n",
      "Finish step 242, s = 48.400000000000006,  in 0.2170090675354004 seconds\n",
      "SBend(L=0.2, P0C=10017424405.383165, G=0.021250112621849206, DG=0.0, E1=0.0, E2=0.0, FINT=0.5, HGAP=0.0115, FINTX=0.5, HGAPX=0.0, FRINGE_AT='both_ends', FRINGE_TYPE='linear_edge', TILT=0.0)\n",
      "Finish step 243, s = 48.60000000000001,  in 0.21428513526916504 seconds\n",
      "SBend(L=0.2, P0C=10017424405.383165, G=0.021250112621849206, DG=0.0, E1=0.0, E2=0.0, FINT=0.5, HGAP=0.0115, FINTX=0.5, HGAPX=0.0, FRINGE_AT='both_ends', FRINGE_TYPE='linear_edge', TILT=0.0)\n",
      "Finish step 244, s = 48.80000000000001,  in 0.2119920253753662 seconds\n",
      "SBend(L=0.2, P0C=10017424405.383165, G=0.021250112621849206, DG=0.0, E1=0.0, E2=0.0, FINT=0.5, HGAP=0.0115, FINTX=0.5, HGAPX=0.0, FRINGE_AT='both_ends', FRINGE_TYPE='linear_edge', TILT=0.0)\n",
      "Finish step 245, s = 49.000000000000014,  in 0.21341824531555176 seconds\n",
      "Beam at position 49.000000000000014 is written to /global/cfs/projectdirs/m669/obed/w_chicane_pydf_outputs/bc20_-17.0_-41.5-2024-08-20T20_17_45-07_00-particles-end.h5\n",
      "Statistics written to  /global/cfs/projectdirs/m669/obed/w_chicane_pydf_outputs/bc20_-17.0_-41.5-2024-08-20T20_17_45-07_00-statistics.h5\n"
     ]
    }
   ],
   "source": [
    "B1LE0.run();"
   ]
  },
  {
   "cell_type": "code",
   "execution_count": 14,
   "id": "0a66b1e5-2500-48cd-a34d-a54439eff9a3",
   "metadata": {
    "tags": []
   },
   "outputs": [],
   "source": [
    "i = 0;"
   ]
  },
  {
   "cell_type": "code",
   "execution_count": 15,
   "id": "3a258e3f-3e8a-4fd2-8060-697f650db102",
   "metadata": {
    "tags": []
   },
   "outputs": [
    {
     "name": "stdout",
     "output_type": "stream",
     "text": [
      "Just finished lattice 0: b1le_0, moving onto 1: b1le_1\n",
      "Using b1le_0_1M_-17.0_-41.5-particles-end.h5 as next input for b1le_1\n",
      "Done\n"
     ]
    }
   ],
   "source": [
    "#Change config\n",
    "name = '';\n",
    "for file in os.listdir(output_dir):\n",
    "    if file.endswith('-particles-end.h5') and file.startswith(lattice_names[i]):\n",
    "        name = file;\n",
    "print(f\"Just finished lattice {i}: {lattice_names[i]}, moving onto {i + 1}: {lattice_names[i+1]}\")\n",
    "print(f\"Using {name} as next input for {lattice_names[i+1]}\")\n",
    "i += 1;\n",
    "### Go to config, change input beam, lattice, and writename\n",
    "# Replace the beam file\n",
    "replace_config_content(init_config, 'style:', 'ParticleGroup');\n",
    "replace_config_content(init_config, 'ParticleGroup_h5:', output_dir + name);\n",
    "# Replace lattice with next in the list\n",
    "replace_config_content(init_config, 'lattice_input_file:', 'lattice_files/' + lattice_names[i] + '.yaml');\n",
    "# Replace output write name\n",
    "replace_config_content(init_config, 'write_name:', '\\'' + lattice_names[i] + '_1M_' + phi1 + '_' + phi2 + '\\'');\n",
    "curr_config = init_config;\n",
    "print('Done')"
   ]
  },
  {
   "cell_type": "code",
   "execution_count": 13,
   "id": "583a2454-0383-4c68-bebb-5b235e64a9e4",
   "metadata": {
    "tags": []
   },
   "outputs": [],
   "source": []
  },
  {
   "cell_type": "code",
   "execution_count": null,
   "id": "2f4efbbc-e942-488d-be1d-bb2d68c490a6",
   "metadata": {
    "tags": []
   },
   "outputs": [],
   "source": []
  },
  {
   "cell_type": "code",
   "execution_count": null,
   "id": "751e5c40-c229-4106-8047-ae9e5f908a2f",
   "metadata": {
    "tags": []
   },
   "outputs": [],
   "source": []
  },
  {
   "cell_type": "code",
   "execution_count": null,
   "id": "593e07e2-f474-40a7-be81-bcd86358634a",
   "metadata": {
    "tags": []
   },
   "outputs": [],
   "source": [
    "### Run Up to B2LE Entrance"
   ]
  },
  {
   "cell_type": "code",
   "execution_count": 17,
   "id": "17846578-3649-4714-a8c1-76dc2fa40e36",
   "metadata": {
    "scrolled": true,
    "tags": []
   },
   "outputs": [
    {
     "name": "stdout",
     "output_type": "stream",
     "text": [
      "start reinterpolation. number of slice 1\n",
      "xbins = 500  zbins =  500\n",
      "CPU times: user 175 ms, sys: 19.2 ms, total: 194 ms\n",
      "Wall time: 228 ms\n"
     ]
    }
   ],
   "source": [
    "%%time\n",
    "B1LE1= CSR2D(input_file= curr_config);\n",
    "# Turn off CSR\n",
    "B1LE1.CSR_params.apply_CSR = 0;\n",
    "B1LE1.CSR_params.compute_CSR = 0;\n",
    "B1LE1.CSR_params.transverse_on = 0;"
   ]
  },
  {
   "cell_type": "code",
   "execution_count": 18,
   "id": "1fb514ab-1411-425b-b8c0-20da5fbad5c1",
   "metadata": {
    "scrolled": true,
    "tags": []
   },
   "outputs": [
    {
     "name": "stdout",
     "output_type": "stream",
     "text": [
      "Starting the DFCSR run\n",
      "Finish step 1, s = 0.0425209036,  in 0.09952521324157715 seconds\n",
      "Finish step 2, s = 0.0850418072,  in 0.08930754661560059 seconds\n",
      "Finish step 3, s = 0.1275627108,  in 0.08860206604003906 seconds\n",
      "Finish step 4, s = 0.1700836144,  in 0.08900141716003418 seconds\n",
      "Finish step 5, s = 0.212604518,  in 0.09086084365844727 seconds\n",
      "Finish step 6, s = 0.2551254216,  in 0.08899521827697754 seconds\n",
      "Finish step 7, s = 0.2976463252,  in 0.09366059303283691 seconds\n",
      "Finish step 8, s = 0.3401672288,  in 0.0884408950805664 seconds\n",
      "Finish step 9, s = 0.3826881324,  in 0.0903923511505127 seconds\n",
      "Finish step 10, s = 0.425209036,  in 0.09411883354187012 seconds\n",
      "Finish step 11, s = 0.4677299396,  in 0.0965886116027832 seconds\n",
      "Finish step 12, s = 0.5102508432,  in 0.09905123710632324 seconds\n",
      "Finish step 13, s = 0.5527717468000001,  in 0.09720993041992188 seconds\n",
      "Finish step 14, s = 0.5952926504000001,  in 0.09765791893005371 seconds\n",
      "Finish step 15, s = 0.6378135540000002,  in 0.09908413887023926 seconds\n",
      "Finish step 16, s = 0.6803344576000002,  in 0.09744524955749512 seconds\n",
      "Finish step 17, s = 0.7228553612000003,  in 0.09702515602111816 seconds\n",
      "Finish step 18, s = 0.7653762648000003,  in 0.10084247589111328 seconds\n",
      "Finish step 19, s = 0.8078971684000004,  in 0.0965280532836914 seconds\n",
      "Finish step 20, s = 0.8504180720000004,  in 0.09703969955444336 seconds\n",
      "Finish step 21, s = 0.8929389756000005,  in 0.1007378101348877 seconds\n",
      "Finish step 22, s = 0.9354598792000005,  in 0.08837628364562988 seconds\n",
      "Finish step 23, s = 0.9779807828000006,  in 0.08850216865539551 seconds\n",
      "Finish step 24, s = 1.0205016864000005,  in 0.09870147705078125 seconds\n",
      "Finish step 25, s = 1.0630225900000005,  in 0.09679317474365234 seconds\n",
      "Finish step 26, s = 1.1055434936000006,  in 0.09627723693847656 seconds\n",
      "Finish step 27, s = 1.1480643972000006,  in 0.10087203979492188 seconds\n",
      "Finish step 28, s = 1.1905853008000007,  in 0.09686779975891113 seconds\n",
      "Finish step 29, s = 1.2331062044000007,  in 0.09698605537414551 seconds\n",
      "Finish step 30, s = 1.2756271080000008,  in 0.10098004341125488 seconds\n",
      "Finish step 31, s = 1.3181480116000008,  in 0.09708142280578613 seconds\n",
      "Finish step 32, s = 1.3606689152000009,  in 0.09723472595214844 seconds\n",
      "Finish step 33, s = 1.403189818800001,  in 0.10090065002441406 seconds\n",
      "Finish step 34, s = 1.445710722400001,  in 0.09050345420837402 seconds\n",
      "Finish step 35, s = 1.488231626000001,  in 0.09294676780700684 seconds\n",
      "Finish step 36, s = 1.530752529600001,  in 0.09237241744995117 seconds\n",
      "Finish step 37, s = 1.5732734332000011,  in 0.09684133529663086 seconds\n",
      "Finish step 38, s = 1.6157943368000012,  in 0.09644198417663574 seconds\n",
      "Finish step 39, s = 1.6583152404000012,  in 0.0996403694152832 seconds\n",
      "Finish step 40, s = 1.7008361440000013,  in 0.09793329238891602 seconds\n",
      "Finish step 41, s = 1.7433570476000013,  in 0.09681963920593262 seconds\n",
      "Finish step 42, s = 1.7858779512000014,  in 0.10110235214233398 seconds\n",
      "Finish step 43, s = 1.8283988548000014,  in 0.09652233123779297 seconds\n",
      "Finish step 44, s = 1.8709197584000015,  in 0.09688353538513184 seconds\n",
      "Finish step 45, s = 1.9134406620000015,  in 0.09842491149902344 seconds\n",
      "Finish step 46, s = 1.9559615656000016,  in 0.09753680229187012 seconds\n",
      "Finish step 47, s = 1.9984824692000016,  in 0.09675121307373047 seconds\n",
      "Finish step 48, s = 2.0410033728000014,  in 0.10069131851196289 seconds\n",
      "Finish step 49, s = 2.0835242764000013,  in 0.0967245101928711 seconds\n",
      "Finish step 50, s = 2.126045180000001,  in 0.09727716445922852 seconds\n",
      "Finish step 51, s = 2.168566083600001,  in 0.09945297241210938 seconds\n",
      "Finish step 52, s = 2.2110869872000007,  in 0.09665822982788086 seconds\n",
      "Finish step 53, s = 2.2536078908000006,  in 0.09639906883239746 seconds\n",
      "Finish step 54, s = 2.2961287944000004,  in 0.10041117668151855 seconds\n",
      "Finish step 55, s = 2.338649698,  in 0.096466064453125 seconds\n",
      "Finish step 56, s = 2.3811706016,  in 0.09609484672546387 seconds\n",
      "Finish step 57, s = 2.4236915052,  in 0.09942841529846191 seconds\n",
      "Finish step 58, s = 2.4662124087999997,  in 0.09646987915039062 seconds\n",
      "Finish step 59, s = 2.5087333123999995,  in 0.10109782218933105 seconds\n",
      "Finish step 60, s = 2.5512542159999994,  in 0.09877538681030273 seconds\n",
      "Finish step 61, s = 2.593775119599999,  in 0.09709644317626953 seconds\n",
      "Finish step 62, s = 2.636296023199999,  in 0.09654855728149414 seconds\n",
      "Finish step 63, s = 2.678816926799999,  in 0.10065793991088867 seconds\n",
      "Finish step 64, s = 2.7213378303999987,  in 0.09719324111938477 seconds\n",
      "Finish step 65, s = 2.7638587339999985,  in 0.09695720672607422 seconds\n",
      "Finish step 66, s = 2.8063796375999983,  in 0.10023331642150879 seconds\n",
      "Finish step 67, s = 2.848900541199998,  in 0.0963742733001709 seconds\n",
      "Finish step 68, s = 2.891421444799998,  in 0.09340715408325195 seconds\n",
      "Finish step 69, s = 2.933942348399998,  in 0.09848141670227051 seconds\n",
      "Finish step 70, s = 2.9764632519999976,  in 0.09686565399169922 seconds\n",
      "Finish step 71, s = 3.0189841555999974,  in 0.09667325019836426 seconds\n",
      "Finish step 72, s = 3.0615050591999973,  in 0.10043883323669434 seconds\n",
      "Finish step 73, s = 3.104025962799997,  in 0.0913541316986084 seconds\n",
      "Finish step 74, s = 3.146546866399997,  in 0.08771896362304688 seconds\n",
      "Finish step 75, s = 3.1890677699999967,  in 0.09755206108093262 seconds\n",
      "Finish step 76, s = 3.2315886735999966,  in 0.09643149375915527 seconds\n",
      "Finish step 77, s = 3.2741095771999964,  in 0.09730124473571777 seconds\n",
      "Finish step 78, s = 3.3166304807999962,  in 0.09865808486938477 seconds\n",
      "Finish step 79, s = 3.359151384399996,  in 0.09665226936340332 seconds\n",
      "Finish step 80, s = 3.401672287999996,  in 0.09669971466064453 seconds\n",
      "Finish step 81, s = 3.4441931915999957,  in 0.09897255897521973 seconds\n",
      "Finish step 82, s = 3.4867140951999955,  in 0.0973503589630127 seconds\n",
      "Finish step 83, s = 3.5292349987999954,  in 0.09671807289123535 seconds\n",
      "Finish step 84, s = 3.571755902399995,  in 0.09415721893310547 seconds\n",
      "Finish step 85, s = 3.614276805999995,  in 0.09442830085754395 seconds\n",
      "Finish step 86, s = 3.656797709599995,  in 0.08845233917236328 seconds\n",
      "Finish step 87, s = 3.6993186131999947,  in 0.09151458740234375 seconds\n",
      "Finish step 88, s = 3.7418395167999945,  in 0.08784341812133789 seconds\n",
      "Finish step 89, s = 3.7843604203999943,  in 0.0956265926361084 seconds\n",
      "Finish step 90, s = 3.826881323999994,  in 0.09872031211853027 seconds\n",
      "Finish step 91, s = 3.869402227599994,  in 0.09683012962341309 seconds\n",
      "Finish step 92, s = 3.9119231312,  in 0.26662302017211914 seconds\n",
      "Finish step 93, s = 3.9544440348,  in 0.2414233684539795 seconds\n",
      "Finish step 94, s = 3.9969649383999997,  in 0.24525809288024902 seconds\n",
      "Finish step 95, s = 4.0394858419999995,  in 0.24677562713623047 seconds\n",
      "Finish step 96, s = 4.082006745599999,  in 0.25575804710388184 seconds\n",
      "Finish step 97, s = 4.124527649199999,  in 0.24897408485412598 seconds\n",
      "Finish step 98, s = 4.167048552799999,  in 0.24898886680603027 seconds\n",
      "Finish step 99, s = 4.209569456399999,  in 0.2420792579650879 seconds\n",
      "Finish step 100, s = 4.252090359999999,  in 0.24970173835754395 seconds\n",
      "Finish step 101, s = 4.2946112635999985,  in 0.24910855293273926 seconds\n",
      "Finish step 102, s = 4.337132167199998,  in 0.2414870262145996 seconds\n",
      "Finish step 103, s = 4.379653070799998,  in 0.24944472312927246 seconds\n",
      "Finish step 104, s = 4.422173974399998,  in 0.2467482089996338 seconds\n",
      "Finish step 105, s = 4.464694877999998,  in 0.2395782470703125 seconds\n",
      "Finish step 106, s = 4.507215781599998,  in 0.2496166229248047 seconds\n",
      "Finish step 107, s = 4.549736685199997,  in 0.2425096035003662 seconds\n",
      "Finish step 108, s = 4.592257588799997,  in 0.24355673789978027 seconds\n",
      "Finish step 109, s = 4.634778492399997,  in 0.2500746250152588 seconds\n",
      "Finish step 110, s = 4.677299395999997,  in 0.2295060157775879 seconds\n",
      "Finish step 111, s = 4.719820299599997,  in 0.23905229568481445 seconds\n",
      "Finish step 112, s = 4.7623412031999965,  in 0.24691295623779297 seconds\n",
      "Finish step 113, s = 4.804862106799996,  in 0.24864554405212402 seconds\n",
      "Finish step 114, s = 4.847383010399996,  in 0.24926066398620605 seconds\n",
      "Finish step 115, s = 4.889903913999996,  in 0.24277663230895996 seconds\n",
      "Finish step 116, s = 4.932424817599996,  in 0.2501225471496582 seconds\n",
      "Finish step 117, s = 4.974945721199996,  in 0.2494657039642334 seconds\n",
      "Finish step 118, s = 5.0174666247999955,  in 0.24834489822387695 seconds\n",
      "Finish step 119, s = 5.059987528399995,  in 0.22908711433410645 seconds\n",
      "Finish step 120, s = 5.102508432,  in 0.10069751739501953 seconds\n",
      "Finish step 121, s = 5.145029335599999,  in 0.10168933868408203 seconds\n",
      "Finish step 122, s = 5.187550239199999,  in 0.09729170799255371 seconds\n",
      "Finish step 123, s = 5.230071142799999,  in 0.10216069221496582 seconds\n",
      "Finish step 124, s = 5.272592046399999,  in 0.10052776336669922 seconds\n",
      "Finish step 125, s = 5.315112949999999,  in 0.09847331047058105 seconds\n",
      "Finish step 126, s = 5.3576338535999986,  in 0.09726214408874512 seconds\n",
      "Finish step 127, s = 5.400154757199998,  in 0.10133767127990723 seconds\n",
      "Finish step 128, s = 5.442675660799998,  in 0.09747529029846191 seconds\n",
      "Finish step 129, s = 5.485196564399998,  in 0.10030937194824219 seconds\n",
      "Finish step 130, s = 5.527717467999998,  in 0.09654712677001953 seconds\n",
      "Finish step 131, s = 5.570238371599998,  in 0.09303665161132812 seconds\n",
      "Finish step 132, s = 5.6127592751999975,  in 0.09769368171691895 seconds\n",
      "Finish step 133, s = 5.655280178799997,  in 0.09754395484924316 seconds\n",
      "Finish step 134, s = 5.697801082399997,  in 0.08909368515014648 seconds\n",
      "Finish step 135, s = 5.740321985999997,  in 0.0926048755645752 seconds\n",
      "Finish step 136, s = 5.782842889599997,  in 0.09221124649047852 seconds\n",
      "Finish step 137, s = 5.825363793199997,  in 0.09199213981628418 seconds\n",
      "Finish step 138, s = 5.8678846967999965,  in 0.08899068832397461 seconds\n",
      "Finish step 139, s = 5.910405600399996,  in 0.09303593635559082 seconds\n",
      "Finish step 140, s = 5.952926503999996,  in 0.09720349311828613 seconds\n",
      "Finish step 141, s = 5.995447407599996,  in 0.10145902633666992 seconds\n",
      "Finish step 142, s = 6.037968311199996,  in 0.09807610511779785 seconds\n",
      "Finish step 143, s = 6.080489214799996,  in 0.09872746467590332 seconds\n",
      "Finish step 144, s = 6.123010118399995,  in 0.09116768836975098 seconds\n",
      "Finish step 145, s = 6.165531021999995,  in 0.09235620498657227 seconds\n",
      "Finish step 146, s = 6.208051925599995,  in 0.08911871910095215 seconds\n",
      "Finish step 147, s = 6.250572829199995,  in 0.09974908828735352 seconds\n",
      "Finish step 148, s = 6.293093732799995,  in 0.09711384773254395 seconds\n",
      "Finish step 149, s = 6.335614636399995,  in 0.09880828857421875 seconds\n",
      "Finish step 150, s = 6.378135539999994,  in 0.09765744209289551 seconds\n",
      "Finish step 151, s = 6.420656443599994,  in 0.09536385536193848 seconds\n",
      "Finish step 152, s = 6.463177347199994,  in 0.08945512771606445 seconds\n",
      "Finish step 153, s = 6.505698250799994,  in 0.09394955635070801 seconds\n",
      "Finish step 154, s = 6.548219154399994,  in 0.09777951240539551 seconds\n",
      "Finish step 155, s = 6.5907400579999935,  in 0.10081911087036133 seconds\n",
      "Finish step 156, s = 6.633260961599993,  in 0.09777259826660156 seconds\n",
      "Finish step 157, s = 6.675781865199993,  in 0.10123515129089355 seconds\n",
      "Finish step 158, s = 6.718302768799993,  in 0.09831047058105469 seconds\n",
      "Finish step 159, s = 6.760823672399993,  in 0.09802103042602539 seconds\n",
      "Finish step 160, s = 6.803344575999993,  in 0.09762215614318848 seconds\n",
      "Finish step 161, s = 6.8458654795999925,  in 0.09956169128417969 seconds\n",
      "Finish step 162, s = 6.888386383199992,  in 0.09798407554626465 seconds\n",
      "Finish step 163, s = 6.930907286799992,  in 0.10120058059692383 seconds\n",
      "Finish step 164, s = 6.973428190399992,  in 0.09746241569519043 seconds\n",
      "Finish step 165, s = 7.015949093999992,  in 0.1009986400604248 seconds\n",
      "Finish step 166, s = 7.058469997599992,  in 0.0976860523223877 seconds\n",
      "Finish step 167, s = 7.1009909012,  in 0.23090839385986328 seconds\n",
      "Finish step 168, s = 7.1435118048,  in 0.23607969284057617 seconds\n",
      "Finish step 169, s = 7.1860327084,  in 0.21721339225769043 seconds\n",
      "Finish step 170, s = 7.228553612,  in 0.2280282974243164 seconds\n",
      "Finish step 171, s = 7.2710745156,  in 0.23204302787780762 seconds\n",
      "Finish step 172, s = 7.3135954191999994,  in 0.23296236991882324 seconds\n",
      "Finish step 173, s = 7.356116322799999,  in 0.23335838317871094 seconds\n",
      "Finish step 174, s = 7.398637226399999,  in 0.2375166416168213 seconds\n",
      "Finish step 175, s = 7.441158129999999,  in 0.23159170150756836 seconds\n",
      "Finish step 176, s = 7.4836790336,  in 0.09907698631286621 seconds\n",
      "Finish step 177, s = 7.5261999371999995,  in 0.0883791446685791 seconds\n",
      "Finish step 178, s = 7.568720840799999,  in 0.08955216407775879 seconds\n",
      "Finish step 179, s = 7.611241744399999,  in 0.09301400184631348 seconds\n",
      "Finish step 180, s = 7.653762647999999,  in 0.0922694206237793 seconds\n",
      "Finish step 181, s = 7.696283551599999,  in 0.09716963768005371 seconds\n",
      "Finish step 182, s = 7.738804455199999,  in 0.09284234046936035 seconds\n",
      "Finish step 183, s = 7.781325358799998,  in 0.09592843055725098 seconds\n",
      "Finish step 184, s = 7.823846262399998,  in 0.0966482162475586 seconds\n",
      "Finish step 185, s = 7.866367165999998,  in 0.09816670417785645 seconds\n",
      "Finish step 186, s = 7.908888069599998,  in 0.10065746307373047 seconds\n",
      "Finish step 187, s = 7.951408973199998,  in 0.09871196746826172 seconds\n",
      "Finish step 188, s = 7.993929876799998,  in 0.1013193130493164 seconds\n",
      "Finish step 189, s = 8.036450780399997,  in 0.0963590145111084 seconds\n",
      "Finish step 190, s = 8.078971683999997,  in 0.09953951835632324 seconds\n",
      "Finish step 191, s = 8.121492587599997,  in 0.09812021255493164 seconds\n",
      "Finish step 192, s = 8.164013491199997,  in 0.10047483444213867 seconds\n",
      "Finish step 193, s = 8.206534394799997,  in 0.09757709503173828 seconds\n",
      "Finish step 194, s = 8.249055298399997,  in 0.10112118721008301 seconds\n",
      "Finish step 195, s = 8.291576201999996,  in 0.09716796875 seconds\n",
      "Finish step 196, s = 8.334097105599996,  in 0.09990596771240234 seconds\n",
      "Finish step 197, s = 8.376618009199996,  in 0.08941888809204102 seconds\n",
      "Finish step 198, s = 8.419138912799996,  in 0.09233999252319336 seconds\n",
      "Finish step 199, s = 8.461659816399996,  in 0.0889434814453125 seconds\n",
      "Finish step 200, s = 8.504180719999995,  in 0.09221839904785156 seconds\n",
      "Finish step 201, s = 8.546701623599995,  in 0.0943758487701416 seconds\n",
      "Finish step 202, s = 8.589222527199995,  in 0.10102200508117676 seconds\n",
      "Finish step 203, s = 8.631743430799995,  in 0.09759068489074707 seconds\n",
      "Finish step 204, s = 8.674264334399995,  in 0.09557175636291504 seconds\n",
      "Finish step 205, s = 8.716785237999995,  in 0.08861327171325684 seconds\n",
      "Finish step 206, s = 8.759306141599994,  in 0.09148406982421875 seconds\n",
      "Finish step 207, s = 8.801827045199994,  in 0.09067749977111816 seconds\n",
      "Finish step 208, s = 8.844347948799994,  in 0.09481358528137207 seconds\n",
      "Finish step 209, s = 8.886868852399994,  in 0.09427404403686523 seconds\n",
      "Beam at position 8.886868852399994 is written to /global/cfs/projectdirs/m669/obed/w_chicane_pydf_outputs/b1le_1_1M_-17.0_-41.5-particles-end.h5\n",
      "Statistics written to  /global/cfs/projectdirs/m669/obed/w_chicane_pydf_outputs/b1le_1_1M_-17.0_-41.5-statistics.h5\n"
     ]
    }
   ],
   "source": [
    "B1LE1.run();"
   ]
  },
  {
   "cell_type": "code",
   "execution_count": 38,
   "id": "54cea601-774f-464d-ac60-499b9c265f80",
   "metadata": {},
   "outputs": [
    {
     "data": {
      "text/plain": [
       "<matplotlib.collections.PathCollection at 0x7f0b1cb14f20>"
      ]
     },
     "execution_count": 38,
     "metadata": {},
     "output_type": "execute_result"
    },
    {
     "data": {
      "image/png": "[encoded data removed]",
      "text/plain": [
       "<Figure size 640x480 with 1 Axes>"
      ]
     },
     "metadata": {},
     "output_type": "display_data"
    }
   ],
   "source": [
    "import pmd_beamphysics as pmd\n",
    "\n",
    "m_dir = r'/global/cfs/cdirs/m669/obed/w_chicane_pydf_outputs/';\n",
    "\n",
    "out_beam = pmd.ParticleGroup( m_dir + 'bc20_-17.0_-41.5-2024-08-20T20_17_45-07_00-particles-end.h5');\n",
    "\n",
    "plt.scatter(out_beam.z, out_beam.pz)"
   ]
  },
  {
   "cell_type": "code",
   "execution_count": 33,
   "id": "6cadf351-a16d-4d32-a329-c079bda1285e",
   "metadata": {
    "tags": []
   },
   "outputs": [
    {
     "name": "stdout",
     "output_type": "stream",
     "text": [
      "<KeysViewHDF5 ['momentum', 'particleStatus', 'position', 'time', 'weight']>\n"
     ]
    }
   ],
   "source": [
    "with h5py.File(m_dir+'bc20_-17.0_-41.5-2024-08-20T20_17_45-07_00-particles-end.h5','r') as beam:\n",
    "    print(beam.keys() )"
   ]
  },
  {
   "cell_type": "code",
   "execution_count": 19,
   "id": "3d08274f-2cca-4104-9b23-8f99dc05e74d",
   "metadata": {},
   "outputs": [
    {
     "name": "stdout",
     "output_type": "stream",
     "text": [
      "Just finished lattice 1: b1le_1, moving onto 2: b2le_0\n",
      "Using b1le_1_1M_-17.0_-41.5-particles-end.h5 as next input for b2le_0\n",
      "Done\n"
     ]
    }
   ],
   "source": [
    "#Change config\n",
    "name = '';\n",
    "for file in os.listdir(output_dir):\n",
    "    if file.endswith('-particles-end.h5') and file.startswith(lattice_names[i]):\n",
    "        name = file;\n",
    "print(f\"Just finished lattice {i}: {lattice_names[i]}, moving onto {i + 1}: {lattice_names[i+1]}\")\n",
    "print(f\"Using {name} as next input for {lattice_names[i+1]}\")\n",
    "i += 1;\n",
    "### Go to config, change input beam, lattice, and writename\n",
    "# Replace the beam file\n",
    "replace_config_content(init_config, 'style:', 'ParticleGroup');\n",
    "replace_config_content(init_config, 'ParticleGroup_h5:', output_dir + name);\n",
    "# Replace lattice with next in the list\n",
    "replace_config_content(init_config, 'lattice_input_file:', 'lattice_files/' + lattice_names[i] + '.yaml');\n",
    "# Replace output write name\n",
    "replace_config_content(init_config, 'write_name:', '\\'' + lattice_names[i] + '_1M_' + phi1 + '_' + phi2 + '\\'');\n",
    "curr_config = init_config;\n",
    "print('Done')"
   ]
  },
  {
   "cell_type": "code",
   "execution_count": null,
   "id": "d7429845-1ea7-4b3a-a77c-339644940df8",
   "metadata": {},
   "outputs": [],
   "source": [
    "### Run through B2LE"
   ]
  },
  {
   "cell_type": "code",
   "execution_count": 22,
   "id": "d3333292-9b05-41f2-9d09-be27e7bd1162",
   "metadata": {
    "scrolled": true,
    "tags": []
   },
   "outputs": [
    {
     "name": "stdout",
     "output_type": "stream",
     "text": [
      "start reinterpolation. number of slice 1\n",
      "xbins = 500  zbins =  500\n",
      "CPU times: user 172 ms, sys: 8 ms, total: 180 ms\n",
      "Wall time: 237 ms\n"
     ]
    }
   ],
   "source": [
    "%%time\n",
    "B2LE0= CSR2D(input_file= curr_config);\n",
    "# Turn on CSR\n",
    "B2LE0.CSR_params.apply_CSR = 1;\n",
    "B2LE0.CSR_params.compute_CSR = 1;\n",
    "B2LE0.CSR_params.transverse_on = 1;"
   ]
  },
  {
   "cell_type": "code",
   "execution_count": null,
   "id": "fc299ab9-185d-48e5-8d09-59531246f793",
   "metadata": {
    "scrolled": true,
    "tags": []
   },
   "outputs": [
    {
     "name": "stdout",
     "output_type": "stream",
     "text": [
      "Starting the DFCSR run\n",
      "Existing file /global/cfs/projectdirs/m669/obed/w_chicane_pydf_outputs/b2le_0_1M_-17.0_-41.5-wakes.h5 deleted.\n",
      "Wakes written to  /global/cfs/projectdirs/m669/obed/w_chicane_pydf_outputs/b2le_0_1M_-17.0_-41.5-wakes.h5\n",
      "Finish step 1, s = 0.072996,  in 3.4053213596343994 seconds\n",
      "Finish step 2, s = 0.145992,  in 3.499500036239624 seconds\n",
      "Finish step 3, s = 0.21898800000000002,  in 3.456598997116089 seconds\n",
      "Finish step 4, s = 0.291984,  in 3.4107513427734375 seconds\n",
      "Finish step 5, s = 0.36498,  in 3.4920902252197266 seconds\n",
      "Finish step 6, s = 0.43797600000000003,  in 3.4349024295806885 seconds\n",
      "Finish step 7, s = 0.510972,  in 3.5240440368652344 seconds\n",
      "Finish step 8, s = 0.583968,  in 3.4443368911743164 seconds\n",
      "Finish step 9, s = 0.6569640000000001,  in 3.509833574295044 seconds\n",
      "Finish step 10, s = 0.7299600000000002,  in 3.5032448768615723 seconds\n",
      "Finish step 11, s = 0.8029560000000002,  in 3.437070608139038 seconds\n",
      "Finish step 12, s = 0.8759520000000003,  in 3.5064949989318848 seconds\n",
      "Finish step 13, s = 0.9489480000000003,  in 3.4854488372802734 seconds\n",
      "Finish step 14, s = 1.0219440000000004,  in 3.485168695449829 seconds\n",
      "Finish step 15, s = 1.0949400000000005,  in 3.475597381591797 seconds\n",
      "Finish step 16, s = 1.1679360000000005,  in 3.644784927368164 seconds\n",
      "Finish step 17, s = 1.2409320000000006,  in 3.5198817253112793 seconds\n"
     ]
    }
   ],
   "source": [
    "B2LE0.run();"
   ]
  },
  {
   "cell_type": "code",
   "execution_count": 8,
   "id": "416a2c96-610a-436d-8381-bc91edebd07c",
   "metadata": {
    "tags": []
   },
   "outputs": [],
   "source": [
    "i = 2"
   ]
  },
  {
   "cell_type": "code",
   "execution_count": 9,
   "id": "e002d56d-aa9e-4916-9bc8-e483b8ae5819",
   "metadata": {
    "tags": []
   },
   "outputs": [
    {
     "name": "stdout",
     "output_type": "stream",
     "text": [
      "Just finished lattice 2: b2le_0, moving onto 3: b2le_1\n",
      "Done\n"
     ]
    }
   ],
   "source": [
    "name = '';\n",
    "for file in os.listdir(output_dir):\n",
    "    if file.endswith('-particles-end.h5') and file.startswith(lattice_names[i]):\n",
    "        name = file;\n",
    "name\n",
    "\n",
    "#Change config\n",
    "print(f\"Just finished lattice {i}: {lattice_names[i]}, moving onto {i+1}: {lattice_names[i+1]}\")\n",
    "i += 1;\n",
    "### Go to config, change input beam, lattice, and writename\n",
    "# Replace the beam file\n",
    "replace_config_content(init_config, 'style:', 'ParticleGroup');\n",
    "replace_config_content(init_config, 'ParticleGroup_h5:', output_dir + name);\n",
    "# Replace lattice with next in the list\n",
    "replace_config_content(init_config, 'lattice_input_file:', 'lattice_files/' + lattice_names[i] + '.yaml');\n",
    "# Replace output write name\n",
    "replace_config_content(init_config, 'write_name:', '\\'' + lattice_names[i] + '_1M_' + phi1 + '_' + phi2 + '\\'');\n",
    "curr_config = init_config;\n",
    "print('Done')"
   ]
  },
  {
   "cell_type": "code",
   "execution_count": null,
   "id": "bc93ca69-1895-455c-a843-c417568340bf",
   "metadata": {},
   "outputs": [],
   "source": [
    "### Run Up to B3LE Entrance"
   ]
  },
  {
   "cell_type": "code",
   "execution_count": 10,
   "id": "2942cfc6-028a-48b2-a44b-8459042a81a9",
   "metadata": {
    "scrolled": true,
    "tags": []
   },
   "outputs": [
    {
     "name": "stdout",
     "output_type": "stream",
     "text": [
      "start reinterpolation. number of slice 1\n",
      "xbins = 500  zbins =  500\n",
      "CPU times: user 177 ms, sys: 14.5 ms, total: 192 ms\n",
      "Wall time: 320 ms\n"
     ]
    }
   ],
   "source": [
    "%%time\n",
    "B2LE1= CSR2D(input_file= curr_config);\n",
    "# Turn on CSR\n",
    "B2LE1.CSR_params.apply_CSR = 0;\n",
    "B2LE1.CSR_params.compute_CSR = 0;\n",
    "B2LE1.CSR_params.transverse_on = 0;"
   ]
  },
  {
   "cell_type": "code",
   "execution_count": 11,
   "id": "dc8a5cd2-d9f0-4767-b32b-4f3b5d0740db",
   "metadata": {
    "scrolled": true,
    "tags": []
   },
   "outputs": [
    {
     "name": "stdout",
     "output_type": "stream",
     "text": [
      "Starting the DFCSR run\n",
      "Finish step 1, s = 0.072996,  in 0.10456228256225586 seconds\n",
      "Finish step 2, s = 0.145992,  in 0.10644292831420898 seconds\n",
      "Finish step 3, s = 0.21898800000000002,  in 0.2537205219268799 seconds\n",
      "Finish step 4, s = 0.291984,  in 0.24066472053527832 seconds\n",
      "Finish step 5, s = 0.36498,  in 0.24622750282287598 seconds\n",
      "Finish step 6, s = 0.43797600000000003,  in 0.22839927673339844 seconds\n",
      "Finish step 7, s = 0.510972,  in 0.23598170280456543 seconds\n",
      "Finish step 8, s = 0.583968,  in 0.2336101531982422 seconds\n",
      "Finish step 9, s = 0.6569640000000001,  in 0.23906803131103516 seconds\n",
      "Finish step 10, s = 0.7299600000000002,  in 0.24950647354125977 seconds\n",
      "Finish step 11, s = 0.8029560000000002,  in 0.25370097160339355 seconds\n",
      "Finish step 12, s = 0.8759520000000003,  in 0.2401890754699707 seconds\n",
      "Finish step 13, s = 0.9489480000000001,  in 0.09733915328979492 seconds\n",
      "Finish step 14, s = 1.0219440000000002,  in 0.09301877021789551 seconds\n",
      "Finish step 15, s = 1.0949400000000002,  in 0.09867596626281738 seconds\n",
      "Finish step 16, s = 1.167936,  in 0.2385711669921875 seconds\n",
      "Finish step 17, s = 1.2409320000000001,  in 0.23892712593078613 seconds\n",
      "Finish step 18, s = 1.3139280000000002,  in 0.23792600631713867 seconds\n",
      "Finish step 19, s = 1.3869240000000003,  in 0.2403888702392578 seconds\n",
      "Finish step 20, s = 1.4599200000000003,  in 0.2375960350036621 seconds\n",
      "Finish step 21, s = 1.5329160000000004,  in 0.2388908863067627 seconds\n",
      "Finish step 22, s = 1.6059120000000005,  in 0.2370302677154541 seconds\n",
      "Finish step 23, s = 1.6789080000000005,  in 0.24701905250549316 seconds\n",
      "Finish step 24, s = 1.7519040000000006,  in 0.2405252456665039 seconds\n",
      "Finish step 25, s = 1.8249000000000006,  in 0.2401561737060547 seconds\n",
      "Finish step 26, s = 1.8978960000000002,  in 0.09648466110229492 seconds\n",
      "Finish step 27, s = 1.9708920000000003,  in 0.10963630676269531 seconds\n",
      "Finish step 28, s = 2.0438880000000004,  in 0.09512591361999512 seconds\n",
      "Finish step 29, s = 2.116884,  in 0.1141505241394043 seconds\n",
      "Finish step 30, s = 2.18988,  in 0.11656713485717773 seconds\n",
      "Finish step 31, s = 2.262876,  in 0.1117854118347168 seconds\n",
      "Finish step 32, s = 2.3358719999999997,  in 0.12121438980102539 seconds\n",
      "Finish step 33, s = 2.4088679999999996,  in 0.11354398727416992 seconds\n",
      "Finish step 34, s = 2.4818639999999994,  in 0.11591172218322754 seconds\n",
      "Finish step 35, s = 2.5548599999999992,  in 0.11823916435241699 seconds\n",
      "Finish step 36, s = 2.627855999999999,  in 0.1166374683380127 seconds\n",
      "Finish step 37, s = 2.700851999999999,  in 0.11635732650756836 seconds\n",
      "Finish step 38, s = 2.7738479999999988,  in 0.11819195747375488 seconds\n",
      "Finish step 39, s = 2.8468439999999986,  in 0.11672830581665039 seconds\n",
      "Finish step 40, s = 2.91984,  in 0.09217214584350586 seconds\n",
      "Finish step 41, s = 2.992836,  in 0.09355664253234863 seconds\n",
      "Finish step 42, s = 3.065832,  in 0.09320402145385742 seconds\n",
      "Finish step 43, s = 3.1388279999999997,  in 0.0932166576385498 seconds\n",
      "Finish step 44, s = 3.2118239999999996,  in 0.09457135200500488 seconds\n",
      "Finish step 45, s = 3.2848199999999994,  in 0.0987706184387207 seconds\n",
      "Finish step 46, s = 3.3578159999999992,  in 0.10795831680297852 seconds\n",
      "Finish step 47, s = 3.430811999999999,  in 0.09372115135192871 seconds\n",
      "Finish step 48, s = 3.503807999999999,  in 0.09203839302062988 seconds\n",
      "Finish step 49, s = 3.5768039999999988,  in 0.09132599830627441 seconds\n",
      "Finish step 50, s = 3.6497999999999986,  in 0.08980679512023926 seconds\n",
      "Finish step 51, s = 3.7227959999999984,  in 0.09446406364440918 seconds\n",
      "Finish step 52, s = 3.7957919999999983,  in 0.10858798027038574 seconds\n",
      "Finish step 53, s = 3.868787999999998,  in 0.09719133377075195 seconds\n",
      "Finish step 54, s = 3.941783999999998,  in 0.09561967849731445 seconds\n",
      "Finish step 55, s = 4.014779999999998,  in 0.09360027313232422 seconds\n",
      "Finish step 56, s = 4.087775999999998,  in 0.09700250625610352 seconds\n",
      "Finish step 57, s = 4.160771999999998,  in 0.09778499603271484 seconds\n",
      "Finish step 58, s = 4.233767999999998,  in 0.10706949234008789 seconds\n",
      "Finish step 59, s = 4.306763999999998,  in 0.09475350379943848 seconds\n",
      "Finish step 60, s = 4.379759999999997,  in 0.09294414520263672 seconds\n",
      "Finish step 61, s = 4.452755999999997,  in 0.0912325382232666 seconds\n",
      "Finish step 62, s = 4.525751999999997,  in 0.09473752975463867 seconds\n",
      "Finish step 63, s = 4.598747999999997,  in 0.0931394100189209 seconds\n",
      "Finish step 64, s = 4.671743999999997,  in 0.11170315742492676 seconds\n",
      "Finish step 65, s = 4.744739999999997,  in 0.09590959548950195 seconds\n",
      "Finish step 66, s = 4.817736,  in 0.11609315872192383 seconds\n",
      "Finish step 67, s = 4.890732,  in 0.11370110511779785 seconds\n",
      "Finish step 68, s = 4.963728,  in 0.11806702613830566 seconds\n",
      "Finish step 69, s = 5.0367239999999995,  in 0.11443376541137695 seconds\n",
      "Finish step 70, s = 5.10972,  in 0.09783005714416504 seconds\n",
      "Finish step 71, s = 5.182716,  in 0.09454512596130371 seconds\n",
      "Finish step 72, s = 5.255712,  in 0.094085693359375 seconds\n",
      "Finish step 73, s = 5.328708000000001,  in 0.2666313648223877 seconds\n",
      "Finish step 74, s = 5.4017040000000005,  in 0.2433631420135498 seconds\n",
      "Finish step 75, s = 5.4747,  in 0.23997235298156738 seconds\n",
      "Finish step 76, s = 5.547696,  in 0.2425220012664795 seconds\n",
      "Finish step 77, s = 5.620692,  in 0.24143409729003906 seconds\n",
      "Finish step 78, s = 5.693688,  in 0.23683905601501465 seconds\n",
      "Finish step 79, s = 5.766684,  in 0.23617911338806152 seconds\n",
      "Finish step 80, s = 5.8396799999999995,  in 0.23618865013122559 seconds\n",
      "Finish step 81, s = 5.912675999999999,  in 0.2515115737915039 seconds\n",
      "Finish step 82, s = 5.985671999999999,  in 0.23853707313537598 seconds\n",
      "Finish step 83, s = 6.058668000000001,  in 0.09729218482971191 seconds\n",
      "Finish step 84, s = 6.131664000000001,  in 0.09604215621948242 seconds\n",
      "Finish step 85, s = 6.2046600000000005,  in 0.09534859657287598 seconds\n",
      "Finish step 86, s = 6.277656,  in 0.2388901710510254 seconds\n",
      "Finish step 87, s = 6.350652,  in 0.23511838912963867 seconds\n",
      "Finish step 88, s = 6.423648,  in 0.24448561668395996 seconds\n",
      "Finish step 89, s = 6.496644,  in 0.23465347290039062 seconds\n",
      "Finish step 90, s = 6.56964,  in 0.23820900917053223 seconds\n",
      "Finish step 91, s = 6.6426359999999995,  in 0.23971843719482422 seconds\n",
      "Finish step 92, s = 6.715631999999999,  in 0.23570680618286133 seconds\n",
      "Finish step 93, s = 6.788627999999999,  in 0.22954726219177246 seconds\n",
      "Finish step 94, s = 6.861623999999999,  in 0.24242806434631348 seconds\n",
      "Finish step 95, s = 6.934619999999999,  in 0.2416365146636963 seconds\n",
      "Finish step 96, s = 7.0076160000000005,  in 0.09661364555358887 seconds\n",
      "Finish step 97, s = 7.080612,  in 0.10815072059631348 seconds\n",
      "Finish step 98, s = 7.153608,  in 0.09291601181030273 seconds\n",
      "Finish step 99, s = 7.226604000000001,  in 0.23805022239685059 seconds\n",
      "Finish step 100, s = 7.299600000000001,  in 0.23446989059448242 seconds\n",
      "Finish step 101, s = 7.372596000000001,  in 0.2396864891052246 seconds\n",
      "Finish step 102, s = 7.445592,  in 0.2354598045349121 seconds\n",
      "Finish step 103, s = 7.518588,  in 0.239485502243042 seconds\n",
      "Finish step 104, s = 7.591584,  in 0.23969030380249023 seconds\n",
      "Finish step 105, s = 7.66458,  in 0.23952221870422363 seconds\n",
      "Finish step 106, s = 7.737576,  in 0.24136781692504883 seconds\n",
      "Finish step 107, s = 7.810572,  in 0.25215649604797363 seconds\n",
      "Finish step 108, s = 7.8835679999999995,  in 0.24564528465270996 seconds\n",
      "Finish step 109, s = 7.956564,  in 0.09836554527282715 seconds\n",
      "Finish step 110, s = 8.02956,  in 0.0951528549194336 seconds\n",
      "Finish step 111, s = 8.102556,  in 0.09788107872009277 seconds\n",
      "Finish step 112, s = 8.175552,  in 0.11712479591369629 seconds\n",
      "Finish step 113, s = 8.248548,  in 0.1194918155670166 seconds\n",
      "Finish step 114, s = 8.321544,  in 0.11591649055480957 seconds\n",
      "Finish step 115, s = 8.394540000000001,  in 0.09876632690429688 seconds\n",
      "Finish step 116, s = 8.467536,  in 0.0969398021697998 seconds\n",
      "Finish step 117, s = 8.540532,  in 0.10012555122375488 seconds\n",
      "Finish step 118, s = 8.613528,  in 0.09973502159118652 seconds\n",
      "Finish step 119, s = 8.686524,  in 0.11281156539916992 seconds\n",
      "Finish step 120, s = 8.75952,  in 0.09842777252197266 seconds\n",
      "Finish step 121, s = 8.832516,  in 0.09953927993774414 seconds\n",
      "Finish step 122, s = 8.905512,  in 0.25916361808776855 seconds\n",
      "Finish step 123, s = 8.978508,  in 0.24817395210266113 seconds\n",
      "Finish step 124, s = 9.051504,  in 0.2474837303161621 seconds\n",
      "Finish step 125, s = 9.1245,  in 0.24714899063110352 seconds\n",
      "Finish step 126, s = 9.197496,  in 0.2557222843170166 seconds\n",
      "Finish step 127, s = 9.270491999999999,  in 0.2485332489013672 seconds\n",
      "Finish step 128, s = 9.343488,  in 0.10011053085327148 seconds\n",
      "Finish step 129, s = 9.416484,  in 0.0994725227355957 seconds\n",
      "Finish step 130, s = 9.48948,  in 0.09921741485595703 seconds\n",
      "Beam at position 9.48948 is written to /global/cfs/projectdirs/m669/obed/w_chicane_pydf_outputs/b2le_1_1M_-17.0_-41.5-particles-end.h5\n",
      "Statistics written to  /global/cfs/projectdirs/m669/obed/w_chicane_pydf_outputs/b2le_1_1M_-17.0_-41.5-statistics.h5\n"
     ]
    }
   ],
   "source": [
    "B2LE1.run();"
   ]
  },
  {
   "cell_type": "code",
   "execution_count": 12,
   "id": "77c5a650-929e-4257-9907-b28296a00774",
   "metadata": {
    "tags": []
   },
   "outputs": [
    {
     "name": "stdout",
     "output_type": "stream",
     "text": [
      "Just finished lattice 3: b2le_1, moving onto 4: b3le_0\n",
      "Done\n"
     ]
    }
   ],
   "source": [
    "name = '';\n",
    "for file in os.listdir(output_dir):\n",
    "    if file.endswith('-particles-end.h5') and file.startswith(lattice_names[i]):\n",
    "        name = file;\n",
    "name\n",
    "\n",
    "#Change config\n",
    "print(f\"Just finished lattice {i}: {lattice_names[i]}, moving onto {i+1}: {lattice_names[i+1]}\")\n",
    "i += 1;\n",
    "### Go to config, change input beam, lattice, and writename\n",
    "# Replace the beam file\n",
    "replace_config_content(init_config, 'style:', 'ParticleGroup');\n",
    "replace_config_content(init_config, 'ParticleGroup_h5:', output_dir + name);\n",
    "# Replace lattice with next in the list\n",
    "replace_config_content(init_config, 'lattice_input_file:', 'lattice_files/' + lattice_names[i] + '.yaml');\n",
    "# Replace output write name\n",
    "replace_config_content(init_config, 'write_name:', '\\'' + lattice_names[i] + '_1M_' + phi1 + '_' + phi2 + '\\'');\n",
    "curr_config = init_config;\n",
    "print('Done')"
   ]
  },
  {
   "cell_type": "code",
   "execution_count": null,
   "id": "10359230-1699-4fbe-b614-447b3e7bec14",
   "metadata": {},
   "outputs": [],
   "source": [
    "### Run Through B3LE"
   ]
  },
  {
   "cell_type": "code",
   "execution_count": 13,
   "id": "9c4aa711-af46-465f-b892-bbb973815cd9",
   "metadata": {
    "scrolled": true,
    "tags": []
   },
   "outputs": [
    {
     "name": "stdout",
     "output_type": "stream",
     "text": [
      "start reinterpolation. number of slice 1\n",
      "xbins = 500  zbins =  500\n",
      "CPU times: user 175 ms, sys: 8.3 ms, total: 183 ms\n",
      "Wall time: 236 ms\n"
     ]
    }
   ],
   "source": [
    "%%time\n",
    "B3LE0= CSR2D(input_file= curr_config);\n",
    "# Turn on CSR\n",
    "B3LE0.CSR_params.apply_CSR = 1;\n",
    "B3LE0.CSR_params.compute_CSR = 1;\n",
    "B3LE0.CSR_params.transverse_on = 1;"
   ]
  },
  {
   "cell_type": "code",
   "execution_count": 14,
   "id": "bc3e540a-1201-4c89-bf9e-cf68e34d9bdb",
   "metadata": {
    "scrolled": true,
    "tags": []
   },
   "outputs": [
    {
     "name": "stdout",
     "output_type": "stream",
     "text": [
      "Starting the DFCSR run\n",
      "Wakes written to  /global/cfs/projectdirs/m669/obed/w_chicane_pydf_outputs/b3le_0_1M_-17.0_-41.5-wakes.h5\n",
      "Finish step 1, s = 0.021148,  in 3.411992311477661 seconds\n",
      "Finish step 2, s = 0.042296,  in 3.3856029510498047 seconds\n",
      "Finish step 3, s = 0.063444,  in 3.4038290977478027 seconds\n",
      "Finish step 4, s = 0.084592,  in 3.454688787460327 seconds\n",
      "Finish step 5, s = 0.10574,  in 3.4763119220733643 seconds\n",
      "Finish step 6, s = 0.126888,  in 3.4186882972717285 seconds\n",
      "Finish step 7, s = 0.148036,  in 3.3621246814727783 seconds\n",
      "Finish step 8, s = 0.169184,  in 3.4026474952697754 seconds\n",
      "Finish step 9, s = 0.190332,  in 3.5136401653289795 seconds\n",
      "Finish step 10, s = 0.21148,  in 3.4487667083740234 seconds\n",
      "Finish step 11, s = 0.232628,  in 3.546565294265747 seconds\n",
      "Finish step 12, s = 0.253776,  in 3.571028470993042 seconds\n",
      "Finish step 13, s = 0.274924,  in 3.5073342323303223 seconds\n",
      "Finish step 14, s = 0.296072,  in 3.5310587882995605 seconds\n",
      "Finish step 15, s = 0.31722,  in 3.529453754425049 seconds\n",
      "Finish step 16, s = 0.338368,  in 3.523552179336548 seconds\n",
      "Finish step 17, s = 0.359516,  in 3.544318199157715 seconds\n",
      "Finish step 18, s = 0.380664,  in 3.590338945388794 seconds\n",
      "Finish step 19, s = 0.401812,  in 3.5906341075897217 seconds\n",
      "Finish step 20, s = 0.42296,  in 3.533723831176758 seconds\n",
      "Finish step 21, s = 0.444108,  in 3.5652999877929688 seconds\n",
      "Finish step 22, s = 0.465256,  in 3.5529861450195312 seconds\n",
      "Finish step 23, s = 0.486404,  in 3.5748908519744873 seconds\n",
      "Finish step 24, s = 0.507552,  in 3.6368460655212402 seconds\n",
      "Beam at position 0.5287 is written to /global/cfs/projectdirs/m669/obed/w_chicane_pydf_outputs/b3le_0_1M_-17.0_-41.5-particles-25.h5\n",
      "Finish step 25, s = 0.5287,  in 4.069328546524048 seconds\n",
      "Finish step 26, s = 0.549848,  in 3.4990389347076416 seconds\n",
      "Finish step 27, s = 0.5709960000000001,  in 3.6227831840515137 seconds\n",
      "Finish step 28, s = 0.592144,  in 3.643242120742798 seconds\n",
      "Finish step 29, s = 0.613292,  in 3.591665029525757 seconds\n",
      "Finish step 30, s = 0.6344399999999999,  in 3.663198709487915 seconds\n",
      "start reinterpolation. number of slice 32\n",
      "xbins = 1016  zbins =  512\n",
      "Finish step 31, s = 0.6555879999999998,  in 6.347455263137817 seconds\n",
      "start reinterpolation. number of slice 33\n",
      "xbins = 1048  zbins =  512\n",
      "Finish step 32, s = 0.6767359999999998,  in 6.812424898147583 seconds\n",
      "start reinterpolation. number of slice 34\n",
      "xbins = 1082  zbins =  512\n",
      "Finish step 33, s = 0.6978839999999997,  in 7.057790517807007 seconds\n",
      "start reinterpolation. number of slice 35\n",
      "xbins = 1119  zbins =  512\n",
      "Finish step 34, s = 0.7190319999999997,  in 7.703092575073242 seconds\n",
      "start reinterpolation. number of slice 36\n",
      "xbins = 1157  zbins =  512\n",
      "Finish step 35, s = 0.7401799999999996,  in 7.625051975250244 seconds\n",
      "start reinterpolation. number of slice 37\n",
      "xbins = 1197  zbins =  512\n",
      "Finish step 36, s = 0.7613279999999996,  in 7.776161193847656 seconds\n",
      "start reinterpolation. number of slice 38\n",
      "xbins = 1240  zbins =  512\n",
      "Finish step 37, s = 0.782476,  in 8.583139419555664 seconds\n",
      "start reinterpolation. number of slice 39\n",
      "xbins = 1285  zbins =  512\n",
      "Finish step 38, s = 0.8036239999999999,  in 8.34217643737793 seconds\n",
      "start reinterpolation. number of slice 40\n",
      "xbins = 1331  zbins =  512\n",
      "Finish step 39, s = 0.8247719999999998,  in 8.695402383804321 seconds\n",
      "start reinterpolation. number of slice 41\n",
      "xbins = 1379  zbins =  512\n",
      "Finish step 40, s = 0.8459199999999998,  in 8.951275825500488 seconds\n",
      "start reinterpolation. number of slice 42\n",
      "xbins = 1429  zbins =  512\n",
      "Finish step 41, s = 0.8670679999999997,  in 9.362215757369995 seconds\n",
      "start reinterpolation. number of slice 43\n",
      "xbins = 1480  zbins =  512\n",
      "Finish step 42, s = 0.8882159999999997,  in 10.171437501907349 seconds\n",
      "start reinterpolation. number of slice 44\n",
      "xbins = 1533  zbins =  512\n",
      "Finish step 43, s = 0.9093639999999996,  in 10.350173473358154 seconds\n",
      "start reinterpolation. number of slice 45\n",
      "xbins = 1586  zbins =  512\n",
      "Finish step 44, s = 0.9305119999999996,  in 10.77869963645935 seconds\n",
      "start reinterpolation. number of slice 46\n",
      "xbins = 1641  zbins =  512\n",
      "Finish step 45, s = 0.9516599999999995,  in 10.922722578048706 seconds\n",
      "start reinterpolation. number of slice 47\n",
      "xbins = 1695  zbins =  512\n",
      "Finish step 46, s = 0.9728079999999995,  in 11.037089347839355 seconds\n",
      "start reinterpolation. number of slice 48\n",
      "xbins = 1750  zbins =  512\n",
      "Finish step 47, s = 0.9939559999999994,  in 11.531079530715942 seconds\n",
      "start reinterpolation. number of slice 49\n",
      "xbins = 1803  zbins =  512\n",
      "Finish step 48, s = 1.0151039999999993,  in 11.771748781204224 seconds\n",
      "start reinterpolation. number of slice 50\n",
      "xbins = 1855  zbins =  512\n",
      "Finish step 49, s = 1.0362519999999993,  in 12.362126588821411 seconds\n",
      "start reinterpolation. number of slice 51\n",
      "xbins = 1904  zbins =  512\n",
      "Finish step 50, s = 1.0573999999999992,  in 12.73000717163086 seconds\n",
      "Beam at position 1.0573999999999992 is written to /global/cfs/projectdirs/m669/obed/w_chicane_pydf_outputs/b3le_0_1M_-17.0_-41.5-particles-end.h5\n",
      "Statistics written to  /global/cfs/projectdirs/m669/obed/w_chicane_pydf_outputs/b3le_0_1M_-17.0_-41.5-statistics.h5\n"
     ]
    }
   ],
   "source": [
    "B3LE0.run();"
   ]
  },
  {
   "cell_type": "code",
   "execution_count": 15,
   "id": "f5fa533a-3342-480c-8f92-4b155c25c3f4",
   "metadata": {
    "tags": []
   },
   "outputs": [
    {
     "name": "stdout",
     "output_type": "stream",
     "text": [
      "Just finished lattice 4: b3le_0, moving onto 5: b3le_1\n",
      "Done\n"
     ]
    }
   ],
   "source": [
    "name = '';\n",
    "for file in os.listdir(output_dir):\n",
    "    if file.endswith('-particles-end.h5') and file.startswith(lattice_names[i]):\n",
    "        name = file;\n",
    "name\n",
    "\n",
    "#Change config\n",
    "print(f\"Just finished lattice {i}: {lattice_names[i]}, moving onto {i+1}: {lattice_names[i+1]}\")\n",
    "i += 1;\n",
    "### Go to config, change input beam, lattice, and writename\n",
    "# Replace the beam file\n",
    "replace_config_content(init_config, 'style:', 'ParticleGroup');\n",
    "replace_config_content(init_config, 'ParticleGroup_h5:', output_dir + name);\n",
    "# Replace lattice with next in the list\n",
    "replace_config_content(init_config, 'lattice_input_file:', 'lattice_files/' + lattice_names[i] + '.yaml');\n",
    "# Replace output write name\n",
    "replace_config_content(init_config, 'write_name:', '\\'' + lattice_names[i] + '_1M_' + phi1 + '_' + phi2 + '\\'');\n",
    "curr_config = init_config;\n",
    "print('Done')"
   ]
  },
  {
   "cell_type": "code",
   "execution_count": 16,
   "id": "c59131c5-4b68-4f65-a958-178ac0039682",
   "metadata": {},
   "outputs": [
    {
     "name": "stdout",
     "output_type": "stream",
     "text": [
      "start reinterpolation. number of slice 1\n",
      "xbins = 500  zbins =  500\n"
     ]
    }
   ],
   "source": [
    "### Run Up to B3RE Entrance\n",
    "B3LE1= CSR2D(input_file= curr_config);\n",
    "B3LE1.CSR_params.apply_CSR = 0;\n",
    "B3LE1.CSR_params.compute_CSR = 0;\n",
    "B3LE1.CSR_params.transverse_on = 0;"
   ]
  },
  {
   "cell_type": "code",
   "execution_count": 17,
   "id": "b6d6b7d1-0be9-47a2-b477-8fc46cd5f446",
   "metadata": {
    "scrolled": true,
    "tags": []
   },
   "outputs": [
    {
     "name": "stdout",
     "output_type": "stream",
     "text": [
      "Starting the DFCSR run\n",
      "Finish step 1, s = 0.0395,  in 0.09550738334655762 seconds\n",
      "Finish step 2, s = 0.079,  in 0.0967552661895752 seconds\n",
      "Finish step 3, s = 0.1185,  in 0.09412240982055664 seconds\n",
      "Finish step 4, s = 0.158,  in 0.09772276878356934 seconds\n",
      "Finish step 5, s = 0.1975,  in 0.09440422058105469 seconds\n",
      "Finish step 6, s = 0.23700000000000002,  in 0.09345221519470215 seconds\n",
      "Beam at position 0.23700000000000002 is written to /global/cfs/projectdirs/m669/obed/w_chicane_pydf_outputs/b3le_1_1M_-17.0_-41.5-particles-end.h5\n",
      "Statistics written to  /global/cfs/projectdirs/m669/obed/w_chicane_pydf_outputs/b3le_1_1M_-17.0_-41.5-statistics.h5\n",
      "CPU times: user 973 ms, sys: 32.1 ms, total: 1 s\n",
      "Wall time: 1.26 s\n"
     ]
    }
   ],
   "source": [
    "%%time\n",
    "B3LE1.run();"
   ]
  },
  {
   "cell_type": "code",
   "execution_count": 18,
   "id": "1df85dcf-e9c2-4c48-86c2-df35bae644d7",
   "metadata": {},
   "outputs": [
    {
     "name": "stdout",
     "output_type": "stream",
     "text": [
      "Just finished lattice 5: b3le_1, moving onto 6: b3re_0\n",
      "Using b3le_0_1M_-17.0_-41.5-particles-end.h5 as input\n",
      "Done\n"
     ]
    }
   ],
   "source": [
    "#Change config\n",
    "print(f\"Just finished lattice {i}: {lattice_names[i]}, moving onto {i+1}: {lattice_names[i+1]}\")\n",
    "i += 1;\n",
    "print(f\"Using {name} as input\")\n",
    "### Go to config, change input beam, lattice, and writename\n",
    "# Replace the beam file\n",
    "replace_config_content(init_config, 'style:', 'ParticleGroup');\n",
    "replace_config_content(init_config, 'ParticleGroup_h5:', output_dir + name);\n",
    "# Replace lattice with next in the list\n",
    "replace_config_content(init_config, 'lattice_input_file:', 'lattice_files/' + lattice_names[i] + '.yaml');\n",
    "# Replace output write name\n",
    "replace_config_content(init_config, 'write_name:', '\\'' + lattice_names[i] + '_1M_' + phi1 + '_' + phi2 + '\\'');\n",
    "curr_config = init_config;\n",
    "print('Done')"
   ]
  },
  {
   "cell_type": "code",
   "execution_count": 19,
   "id": "99d01e10-6c48-493b-be5a-feb31593ca53",
   "metadata": {},
   "outputs": [
    {
     "name": "stdout",
     "output_type": "stream",
     "text": [
      "start reinterpolation. number of slice 1\n",
      "xbins = 500  zbins =  500\n"
     ]
    }
   ],
   "source": [
    "### Run Through B3RE\n",
    "B3RE0= CSR2D(input_file= curr_config);\n",
    "B3RE0.CSR_params.apply_CSR = 1;\n",
    "B3RE0.CSR_params.compute_CSR = 1;\n",
    "B3RE0.CSR_params.transverse_on = 1;"
   ]
  },
  {
   "cell_type": "code",
   "execution_count": 20,
   "id": "8cce41f9-7732-47e0-9760-5e716f4af76b",
   "metadata": {
    "scrolled": true,
    "tags": []
   },
   "outputs": [
    {
     "name": "stdout",
     "output_type": "stream",
     "text": [
      "Starting the DFCSR run\n",
      "Wakes written to  /global/cfs/projectdirs/m669/obed/w_chicane_pydf_outputs/b3re_0_1M_-17.0_-41.5-wakes.h5\n",
      "Finish step 1, s = 0.0395,  in 2.637563467025757 seconds\n",
      "Finish step 2, s = 0.079,  in 2.6517341136932373 seconds\n",
      "Finish step 3, s = 0.1185,  in 2.605790853500366 seconds\n",
      "Finish step 4, s = 0.158,  in 2.6406524181365967 seconds\n",
      "Finish step 5, s = 0.1975,  in 2.6500401496887207 seconds\n",
      "Finish step 6, s = 0.23700000000000002,  in 2.7018964290618896 seconds\n",
      "Finish step 7, s = 0.2765,  in 2.7749288082122803 seconds\n",
      "Finish step 8, s = 0.316,  in 2.695694923400879 seconds\n",
      "Finish step 9, s = 0.3555,  in 2.6936967372894287 seconds\n",
      "Finish step 10, s = 0.39499999999999996,  in 2.6293134689331055 seconds\n",
      "Finish step 11, s = 0.43449999999999994,  in 2.685293197631836 seconds\n",
      "Finish step 12, s = 0.4739999999999999,  in 2.67834734916687 seconds\n",
      "Finish step 13, s = 0.5135,  in 2.581096649169922 seconds\n",
      "Finish step 14, s = 0.553,  in 2.4675281047821045 seconds\n",
      "Finish step 15, s = 0.5925,  in 2.5045619010925293 seconds\n",
      "Finish step 16, s = 0.632,  in 2.5077545642852783 seconds\n",
      "Finish step 17, s = 0.6715,  in 2.532078504562378 seconds\n",
      "Finish step 18, s = 0.711,  in 2.462068796157837 seconds\n",
      "Finish step 19, s = 0.7505,  in 2.4823601245880127 seconds\n",
      "Finish step 20, s = 0.79,  in 2.6265127658843994 seconds\n",
      "Finish step 21, s = 0.8295,  in 2.6349596977233887 seconds\n",
      "start reinterpolation. number of slice 23\n",
      "xbins = 1127  zbins =  500\n",
      "Finish step 22, s = 0.869,  in 5.30846095085144 seconds\n",
      "Finish step 23, s = 0.9085,  in 3.506983757019043 seconds\n",
      "Finish step 24, s = 0.948,  in 3.5531232357025146 seconds\n",
      "Beam at position 0.9874999999999999 is written to /global/cfs/projectdirs/m669/obed/w_chicane_pydf_outputs/b3re_0_1M_-17.0_-41.5-particles-25.h5\n",
      "Finish step 25, s = 0.9874999999999999,  in 3.9614572525024414 seconds\n",
      "Finish step 26, s = 1.027,  in 3.520106077194214 seconds\n",
      "Beam at position 1.027 is written to /global/cfs/projectdirs/m669/obed/w_chicane_pydf_outputs/b3re_0_1M_-17.0_-41.5-particles-end.h5\n",
      "Statistics written to  /global/cfs/projectdirs/m669/obed/w_chicane_pydf_outputs/b3re_0_1M_-17.0_-41.5-statistics.h5\n",
      "CPU times: user 1min 13s, sys: 307 ms, total: 1min 13s\n",
      "Wall time: 1min 15s\n"
     ]
    }
   ],
   "source": [
    "%%time\n",
    "B3RE0.run();"
   ]
  },
  {
   "cell_type": "code",
   "execution_count": 21,
   "id": "a72884a2-f0df-4637-a586-eb4268a87538",
   "metadata": {},
   "outputs": [
    {
     "name": "stdout",
     "output_type": "stream",
     "text": [
      "Just finished lattice 6: b3re_0, moving onto 7: b3re_1\n",
      "Using b3le_0_1M_-17.0_-41.5-particles-end.h5 as input\n",
      "Done\n"
     ]
    }
   ],
   "source": [
    "#Change config\n",
    "print(f\"Just finished lattice {i}: {lattice_names[i]}, moving onto {i+1}: {lattice_names[i+1]}\")\n",
    "i += 1;\n",
    "print(f\"Using {name} as input\")\n",
    "### Go to config, change input beam, lattice, and writename\n",
    "# Replace the beam file\n",
    "replace_config_content(init_config, 'style:', 'ParticleGroup');\n",
    "replace_config_content(init_config, 'ParticleGroup_h5:', output_dir + name);\n",
    "# Replace lattice with next in the list\n",
    "replace_config_content(init_config, 'lattice_input_file:', 'lattice_files/' + lattice_names[i] + '.yaml');\n",
    "# Replace output write name\n",
    "replace_config_content(init_config, 'write_name:', '\\'' + lattice_names[i] + '_1M_' + phi1 + '_' + phi2 + '\\'');\n",
    "curr_config = init_config;\n",
    "print('Done')"
   ]
  },
  {
   "cell_type": "code",
   "execution_count": 22,
   "id": "cdb32fdd-a888-4051-a396-0bf1868d2a0c",
   "metadata": {},
   "outputs": [],
   "source": [
    "### Run Up to B2RE Entrance"
   ]
  },
  {
   "cell_type": "code",
   "execution_count": 23,
   "id": "a19bbed9-d3e6-4033-8923-bf7396216bd6",
   "metadata": {
    "tags": []
   },
   "outputs": [
    {
     "name": "stdout",
     "output_type": "stream",
     "text": [
      "start reinterpolation. number of slice 1\n",
      "xbins = 500  zbins =  500\n"
     ]
    }
   ],
   "source": [
    "B3RE1= CSR2D(input_file= curr_config);"
   ]
  },
  {
   "cell_type": "code",
   "execution_count": 24,
   "id": "09e86a15-58d8-4543-98b0-9b8897498ec6",
   "metadata": {
    "tags": []
   },
   "outputs": [],
   "source": [
    "# Turn off CSR"
   ]
  },
  {
   "cell_type": "code",
   "execution_count": 25,
   "id": "482b04e5-42b2-44ee-a87e-76d8a51f3b3e",
   "metadata": {
    "tags": []
   },
   "outputs": [],
   "source": [
    "B3RE1.CSR_params.apply_CSR = 0;\n",
    "B3RE1.CSR_params.compute_CSR = 0;\n",
    "B3RE1.CSR_params.transverse_on = 0;"
   ]
  },
  {
   "cell_type": "code",
   "execution_count": 26,
   "id": "bd423c85-2ec6-4651-8556-6256604a77b3",
   "metadata": {
    "scrolled": true,
    "tags": []
   },
   "outputs": [
    {
     "name": "stdout",
     "output_type": "stream",
     "text": [
      "Starting the DFCSR run\n",
      "Finish step 1, s = 0.0395,  in 0.23990917205810547 seconds\n",
      "Finish step 2, s = 0.079,  in 0.23066949844360352 seconds\n",
      "Finish step 3, s = 0.1185,  in 0.22953128814697266 seconds\n",
      "Finish step 4, s = 0.158,  in 0.09467935562133789 seconds\n",
      "Finish step 5, s = 0.1975,  in 0.08990263938903809 seconds\n",
      "Finish step 6, s = 0.23700000000000002,  in 0.08796119689941406 seconds\n",
      "Finish step 7, s = 0.2765,  in 0.09129476547241211 seconds\n",
      "Finish step 8, s = 0.316,  in 0.0908660888671875 seconds\n",
      "Finish step 9, s = 0.3555,  in 0.09089159965515137 seconds\n",
      "Finish step 10, s = 0.39499999999999996,  in 0.08996701240539551 seconds\n",
      "Finish step 11, s = 0.43449999999999994,  in 0.09083914756774902 seconds\n",
      "Finish step 12, s = 0.4739999999999999,  in 0.09040045738220215 seconds\n",
      "Finish step 13, s = 0.5135,  in 0.0919039249420166 seconds\n",
      "Finish step 14, s = 0.5529999999999999,  in 0.09298253059387207 seconds\n",
      "Finish step 15, s = 0.5924999999999999,  in 0.09282350540161133 seconds\n",
      "Finish step 16, s = 0.632,  in 0.10886335372924805 seconds\n",
      "Finish step 17, s = 0.6715,  in 0.10477232933044434 seconds\n",
      "Finish step 18, s = 0.711,  in 0.1070101261138916 seconds\n",
      "Finish step 19, s = 0.7505,  in 0.10756802558898926 seconds\n",
      "Finish step 20, s = 0.7899999999999999,  in 0.11442041397094727 seconds\n",
      "Finish step 21, s = 0.8294999999999999,  in 0.11611270904541016 seconds\n",
      "Finish step 22, s = 0.869,  in 0.09136128425598145 seconds\n",
      "Finish step 23, s = 0.9085,  in 0.09096574783325195 seconds\n",
      "Finish step 24, s = 0.948,  in 0.08909130096435547 seconds\n",
      "Finish step 25, s = 0.9874999999999999,  in 0.08962059020996094 seconds\n",
      "Finish step 26, s = 1.027,  in 0.08709335327148438 seconds\n",
      "Finish step 27, s = 1.0665,  in 0.0909264087677002 seconds\n",
      "Finish step 28, s = 1.106,  in 0.23869109153747559 seconds\n",
      "Finish step 29, s = 1.1455000000000002,  in 0.23137617111206055 seconds\n",
      "Finish step 30, s = 1.1850000000000003,  in 0.2289588451385498 seconds\n",
      "Finish step 31, s = 1.2245000000000004,  in 0.22923707962036133 seconds\n",
      "Finish step 32, s = 1.2640000000000005,  in 0.2269892692565918 seconds\n",
      "Finish step 33, s = 1.3035000000000005,  in 0.23198652267456055 seconds\n",
      "Finish step 34, s = 1.3430000000000006,  in 0.23629975318908691 seconds\n",
      "Finish step 35, s = 1.3825000000000007,  in 0.23267388343811035 seconds\n",
      "Finish step 36, s = 1.4220000000000008,  in 0.23921513557434082 seconds\n",
      "Finish step 37, s = 1.461500000000001,  in 0.22967147827148438 seconds\n",
      "Finish step 38, s = 1.501000000000001,  in 0.24047207832336426 seconds\n",
      "Finish step 39, s = 1.540500000000001,  in 0.22880029678344727 seconds\n",
      "Finish step 40, s = 1.5800000000000012,  in 0.24774408340454102 seconds\n",
      "Finish step 41, s = 1.6195000000000013,  in 0.2440643310546875 seconds\n",
      "Finish step 42, s = 1.6590000000000014,  in 0.24398350715637207 seconds\n",
      "Finish step 43, s = 1.6985000000000015,  in 0.23190855979919434 seconds\n",
      "Finish step 44, s = 1.7380000000000015,  in 0.2306835651397705 seconds\n",
      "Finish step 45, s = 1.7775000000000016,  in 0.22961020469665527 seconds\n",
      "Finish step 46, s = 1.817,  in 0.09272313117980957 seconds\n",
      "Finish step 47, s = 1.8565,  in 0.09160041809082031 seconds\n",
      "Finish step 48, s = 1.8960000000000001,  in 0.09140944480895996 seconds\n",
      "Finish step 49, s = 1.9355000000000002,  in 0.09061789512634277 seconds\n",
      "Finish step 50, s = 1.9750000000000003,  in 0.08835959434509277 seconds\n",
      "Finish step 51, s = 2.0145000000000004,  in 0.09021782875061035 seconds\n",
      "Finish step 52, s = 2.054,  in 0.2293076515197754 seconds\n",
      "Finish step 53, s = 2.0934999999999997,  in 0.23393821716308594 seconds\n",
      "Finish step 54, s = 2.1329999999999996,  in 0.23363184928894043 seconds\n",
      "Finish step 55, s = 2.1724999999999994,  in 0.23926186561584473 seconds\n",
      "Finish step 56, s = 2.2119999999999993,  in 0.22980761528015137 seconds\n",
      "Finish step 57, s = 2.251499999999999,  in 0.23138928413391113 seconds\n",
      "Finish step 58, s = 2.290999999999999,  in 0.23060083389282227 seconds\n",
      "Finish step 59, s = 2.330499999999999,  in 0.23723816871643066 seconds\n",
      "Finish step 60, s = 2.3699999999999988,  in 0.2315349578857422 seconds\n",
      "Finish step 61, s = 2.4094999999999986,  in 0.23093962669372559 seconds\n",
      "Finish step 62, s = 2.4489999999999985,  in 0.2352886199951172 seconds\n",
      "Finish step 63, s = 2.4884999999999984,  in 0.23793315887451172 seconds\n",
      "Finish step 64, s = 2.5279999999999982,  in 0.2318260669708252 seconds\n",
      "Finish step 65, s = 2.567499999999998,  in 0.22821855545043945 seconds\n",
      "Finish step 66, s = 2.606999999999998,  in 0.234330415725708 seconds\n",
      "Finish step 67, s = 2.646499999999998,  in 0.2363574504852295 seconds\n",
      "Finish step 68, s = 2.6859999999999977,  in 0.2318108081817627 seconds\n",
      "Finish step 69, s = 2.7254999999999976,  in 0.22936391830444336 seconds\n",
      "Finish step 70, s = 2.765,  in 0.09378170967102051 seconds\n",
      "Finish step 71, s = 2.8045,  in 0.09418511390686035 seconds\n",
      "Finish step 72, s = 2.844,  in 0.09972929954528809 seconds\n",
      "Finish step 73, s = 2.8834999999999997,  in 0.09973406791687012 seconds\n",
      "Finish step 74, s = 2.9229999999999996,  in 0.09679436683654785 seconds\n",
      "Finish step 75, s = 2.9624999999999995,  in 0.0936286449432373 seconds\n",
      "Finish step 76, s = 3.0020000000000002,  in 0.24178147315979004 seconds\n",
      "Finish step 77, s = 3.0415,  in 0.2297828197479248 seconds\n",
      "Finish step 78, s = 3.081,  in 0.22855186462402344 seconds\n",
      "Finish step 79, s = 3.1205,  in 0.2378249168395996 seconds\n",
      "Finish step 80, s = 3.1599999999999997,  in 0.2397627830505371 seconds\n",
      "Finish step 81, s = 3.1994999999999996,  in 0.23628759384155273 seconds\n",
      "Finish step 82, s = 3.2389999999999994,  in 0.24289536476135254 seconds\n",
      "Finish step 83, s = 3.2784999999999993,  in 0.23192477226257324 seconds\n",
      "Finish step 84, s = 3.317999999999999,  in 0.23467683792114258 seconds\n",
      "Finish step 85, s = 3.357499999999999,  in 0.23304986953735352 seconds\n",
      "Finish step 86, s = 3.396999999999999,  in 0.22887301445007324 seconds\n",
      "Finish step 87, s = 3.4364999999999988,  in 0.23146605491638184 seconds\n",
      "Finish step 88, s = 3.4759999999999986,  in 0.23724675178527832 seconds\n",
      "Finish step 89, s = 3.5154999999999985,  in 0.23161005973815918 seconds\n",
      "Finish step 90, s = 3.5549999999999984,  in 0.23192811012268066 seconds\n",
      "Finish step 91, s = 3.5944999999999983,  in 0.23113679885864258 seconds\n",
      "Finish step 92, s = 3.633999999999998,  in 0.2420048713684082 seconds\n",
      "Finish step 93, s = 3.673499999999998,  in 0.22904443740844727 seconds\n",
      "Finish step 94, s = 3.713,  in 0.09375357627868652 seconds\n",
      "Finish step 95, s = 3.7525,  in 0.09278559684753418 seconds\n",
      "Finish step 96, s = 3.792,  in 0.09516263008117676 seconds\n",
      "Finish step 97, s = 3.8314999999999997,  in 0.08962869644165039 seconds\n",
      "Finish step 98, s = 3.8709999999999996,  in 0.09319067001342773 seconds\n",
      "Finish step 99, s = 3.9104999999999994,  in 0.1017904281616211 seconds\n",
      "Finish step 100, s = 3.95,  in 0.11355948448181152 seconds\n",
      "Finish step 101, s = 3.9895,  in 0.11693620681762695 seconds\n",
      "Finish step 102, s = 4.029,  in 0.11315774917602539 seconds\n",
      "Finish step 103, s = 4.0685,  in 0.11021852493286133 seconds\n",
      "Finish step 104, s = 4.1080000000000005,  in 0.11574125289916992 seconds\n",
      "Finish step 105, s = 4.147500000000001,  in 0.10674238204956055 seconds\n",
      "Finish step 106, s = 4.187000000000001,  in 0.10666680335998535 seconds\n",
      "Finish step 107, s = 4.2265,  in 0.09160065650939941 seconds\n",
      "Finish step 108, s = 4.266,  in 0.08951735496520996 seconds\n",
      "Finish step 109, s = 4.3055,  in 0.09165501594543457 seconds\n",
      "Finish step 110, s = 4.345000000000001,  in 0.0980064868927002 seconds\n",
      "Finish step 111, s = 4.384500000000001,  in 0.10108399391174316 seconds\n",
      "Finish step 112, s = 4.424000000000001,  in 0.09295034408569336 seconds\n",
      "Finish step 113, s = 4.463500000000002,  in 0.09096097946166992 seconds\n",
      "Finish step 114, s = 4.503000000000002,  in 0.08829069137573242 seconds\n",
      "Finish step 115, s = 4.542500000000002,  in 0.0914299488067627 seconds\n",
      "Finish step 116, s = 4.5820000000000025,  in 0.0880424976348877 seconds\n",
      "Finish step 117, s = 4.621500000000003,  in 0.09166383743286133 seconds\n",
      "Finish step 118, s = 4.661000000000003,  in 0.09100985527038574 seconds\n",
      "Finish step 119, s = 4.7005000000000035,  in 0.09468626976013184 seconds\n",
      "Finish step 120, s = 4.740000000000004,  in 0.09092879295349121 seconds\n",
      "Finish step 121, s = 4.779500000000004,  in 0.09336733818054199 seconds\n",
      "Finish step 122, s = 4.819000000000004,  in 0.08971095085144043 seconds\n",
      "Finish step 123, s = 4.858500000000005,  in 0.09255409240722656 seconds\n",
      "Finish step 124, s = 4.898000000000005,  in 0.0905909538269043 seconds\n",
      "Finish step 125, s = 4.937500000000005,  in 0.09289407730102539 seconds\n",
      "Finish step 126, s = 4.977000000000006,  in 0.0916280746459961 seconds\n",
      "Finish step 127, s = 5.016500000000006,  in 0.09342551231384277 seconds\n",
      "Finish step 128, s = 5.056000000000006,  in 0.09082365036010742 seconds\n",
      "Finish step 129, s = 5.095500000000007,  in 0.0950009822845459 seconds\n",
      "Finish step 130, s = 5.135000000000007,  in 0.09157061576843262 seconds\n",
      "Finish step 131, s = 5.174500000000007,  in 0.0933077335357666 seconds\n",
      "Finish step 132, s = 5.2140000000000075,  in 0.09244465827941895 seconds\n",
      "Finish step 133, s = 5.253500000000008,  in 0.0961310863494873 seconds\n",
      "Finish step 134, s = 5.293000000000008,  in 0.09058618545532227 seconds\n",
      "Finish step 135, s = 5.3325000000000085,  in 0.09128665924072266 seconds\n",
      "Finish step 136, s = 5.372000000000009,  in 0.08812570571899414 seconds\n",
      "Finish step 137, s = 5.411500000000009,  in 0.09234309196472168 seconds\n",
      "Finish step 138, s = 5.451000000000009,  in 0.09116554260253906 seconds\n",
      "Finish step 139, s = 5.49050000000001,  in 0.09615325927734375 seconds\n",
      "Finish step 140, s = 5.53000000000001,  in 0.08920645713806152 seconds\n",
      "Finish step 141, s = 5.56950000000001,  in 0.09372687339782715 seconds\n",
      "Finish step 142, s = 5.609000000000011,  in 0.09110283851623535 seconds\n",
      "Finish step 143, s = 5.648500000000011,  in 0.09262800216674805 seconds\n",
      "Finish step 144, s = 5.688000000000011,  in 0.09095454216003418 seconds\n",
      "Finish step 145, s = 5.727500000000012,  in 0.09308385848999023 seconds\n",
      "Finish step 146, s = 5.767000000000012,  in 0.09116792678833008 seconds\n",
      "Finish step 147, s = 5.806500000000012,  in 0.09431171417236328 seconds\n",
      "Finish step 148, s = 5.8460000000000125,  in 0.09102082252502441 seconds\n",
      "Finish step 149, s = 5.885500000000013,  in 0.09950947761535645 seconds\n",
      "Finish step 150, s = 5.925000000000013,  in 0.09085822105407715 seconds\n",
      "Finish step 151, s = 5.9645000000000135,  in 0.0921468734741211 seconds\n",
      "Finish step 152, s = 6.004000000000014,  in 0.08899807929992676 seconds\n",
      "Finish step 153, s = 6.043500000000014,  in 0.1014401912689209 seconds\n",
      "Finish step 154, s = 6.083000000000014,  in 0.09656929969787598 seconds\n",
      "Finish step 155, s = 6.122500000000015,  in 0.09471893310546875 seconds\n",
      "Finish step 156, s = 6.162,  in 0.10860705375671387 seconds\n",
      "Finish step 157, s = 6.2015,  in 0.10652637481689453 seconds\n",
      "Finish step 158, s = 6.2410000000000005,  in 0.10999274253845215 seconds\n",
      "Finish step 159, s = 6.280500000000001,  in 0.10811066627502441 seconds\n",
      "Finish step 160, s = 6.320000000000001,  in 0.10781478881835938 seconds\n",
      "Finish step 161, s = 6.3595000000000015,  in 0.1072087287902832 seconds\n",
      "Finish step 162, s = 6.399000000000002,  in 0.11100006103515625 seconds\n",
      "Finish step 163, s = 6.438500000000002,  in 0.10994935035705566 seconds\n",
      "Finish step 164, s = 6.478000000000002,  in 0.11182427406311035 seconds\n",
      "Finish step 165, s = 6.517500000000003,  in 0.11382460594177246 seconds\n",
      "Finish step 166, s = 6.557000000000003,  in 0.1148989200592041 seconds\n",
      "Finish step 167, s = 6.596500000000003,  in 0.11584043502807617 seconds\n",
      "Finish step 168, s = 6.636000000000004,  in 0.11234807968139648 seconds\n",
      "Finish step 169, s = 6.675500000000004,  in 0.11282849311828613 seconds\n",
      "Finish step 170, s = 6.715000000000004,  in 0.11227035522460938 seconds\n",
      "Finish step 171, s = 6.754500000000005,  in 0.1102607250213623 seconds\n",
      "Finish step 172, s = 6.794000000000005,  in 0.11124634742736816 seconds\n",
      "Finish step 173, s = 6.833500000000005,  in 0.11078739166259766 seconds\n",
      "Finish step 174, s = 6.8730000000000055,  in 0.1162271499633789 seconds\n",
      "Finish step 175, s = 6.9125,  in 0.08927321434020996 seconds\n",
      "Finish step 176, s = 6.952,  in 0.08950328826904297 seconds\n",
      "Finish step 177, s = 6.9915,  in 0.09130430221557617 seconds\n",
      "Finish step 178, s = 7.031000000000001,  in 0.09003925323486328 seconds\n",
      "Finish step 179, s = 7.070500000000001,  in 0.09357452392578125 seconds\n",
      "Finish step 180, s = 7.110000000000001,  in 0.09333062171936035 seconds\n",
      "Finish step 181, s = 7.1495,  in 0.2430710792541504 seconds\n",
      "Finish step 182, s = 7.189,  in 0.23740649223327637 seconds\n",
      "Finish step 183, s = 7.2285,  in 0.2347548007965088 seconds\n",
      "Finish step 184, s = 7.268000000000001,  in 0.23694634437561035 seconds\n",
      "Finish step 185, s = 7.307500000000001,  in 0.24947476387023926 seconds\n",
      "Finish step 186, s = 7.347000000000001,  in 0.23606204986572266 seconds\n",
      "Finish step 187, s = 7.386500000000002,  in 0.2355048656463623 seconds\n",
      "Finish step 188, s = 7.426000000000002,  in 0.229567289352417 seconds\n",
      "Finish step 189, s = 7.465500000000002,  in 0.24198150634765625 seconds\n",
      "Finish step 190, s = 7.505000000000003,  in 0.23637175559997559 seconds\n",
      "Finish step 191, s = 7.544500000000003,  in 0.2351982593536377 seconds\n",
      "Finish step 192, s = 7.584000000000003,  in 0.23546123504638672 seconds\n",
      "Finish step 193, s = 7.6235000000000035,  in 0.2405714988708496 seconds\n",
      "Finish step 194, s = 7.663000000000004,  in 0.23821783065795898 seconds\n",
      "Finish step 195, s = 7.702500000000004,  in 0.24396705627441406 seconds\n",
      "Finish step 196, s = 7.742000000000004,  in 0.2437291145324707 seconds\n",
      "Finish step 197, s = 7.781500000000005,  in 0.2390451431274414 seconds\n",
      "Finish step 198, s = 7.821000000000005,  in 0.22992920875549316 seconds\n",
      "Finish step 199, s = 7.8605,  in 0.09660005569458008 seconds\n",
      "Finish step 200, s = 7.9,  in 0.09964418411254883 seconds\n",
      "Finish step 201, s = 7.939500000000001,  in 0.09838390350341797 seconds\n",
      "Finish step 202, s = 7.979000000000001,  in 0.09643101692199707 seconds\n",
      "Finish step 203, s = 8.018500000000001,  in 0.09637308120727539 seconds\n",
      "Finish step 204, s = 8.058000000000002,  in 0.09633684158325195 seconds\n",
      "Finish step 205, s = 8.0975,  in 0.25019192695617676 seconds\n",
      "Finish step 206, s = 8.137,  in 0.23454689979553223 seconds\n",
      "Finish step 207, s = 8.1765,  in 0.23737859725952148 seconds\n",
      "Finish step 208, s = 8.216000000000001,  in 0.24416422843933105 seconds\n",
      "Finish step 209, s = 8.255500000000001,  in 0.23827719688415527 seconds\n",
      "Finish step 210, s = 8.295000000000002,  in 0.23646998405456543 seconds\n",
      "Finish step 211, s = 8.334500000000002,  in 0.23782873153686523 seconds\n",
      "Finish step 212, s = 8.374000000000002,  in 0.2478163242340088 seconds\n",
      "Finish step 213, s = 8.413500000000003,  in 0.23935365676879883 seconds\n",
      "Finish step 214, s = 8.453000000000003,  in 0.26412391662597656 seconds\n",
      "Finish step 215, s = 8.492500000000003,  in 0.23760461807250977 seconds\n",
      "Finish step 216, s = 8.532000000000004,  in 0.23583579063415527 seconds\n",
      "Finish step 217, s = 8.571500000000004,  in 0.2287003993988037 seconds\n",
      "Finish step 218, s = 8.611000000000004,  in 0.22971034049987793 seconds\n",
      "Finish step 219, s = 8.650500000000005,  in 0.23353362083435059 seconds\n",
      "Finish step 220, s = 8.690000000000005,  in 0.2381269931793213 seconds\n",
      "Finish step 221, s = 8.729500000000005,  in 0.23092222213745117 seconds\n",
      "Finish step 222, s = 8.769000000000005,  in 0.23453545570373535 seconds\n",
      "Finish step 223, s = 8.8085,  in 0.09367752075195312 seconds\n",
      "Finish step 224, s = 8.848,  in 0.08819198608398438 seconds\n",
      "Finish step 225, s = 8.887500000000001,  in 0.09087967872619629 seconds\n",
      "Finish step 226, s = 8.927000000000001,  in 0.08814692497253418 seconds\n",
      "Finish step 227, s = 8.966500000000002,  in 0.09129023551940918 seconds\n",
      "Finish step 228, s = 9.006000000000002,  in 0.09412240982055664 seconds\n",
      "Finish step 229, s = 9.045500000000002,  in 0.09294772148132324 seconds\n",
      "Finish step 230, s = 9.085000000000003,  in 0.09050822257995605 seconds\n",
      "Finish step 231, s = 9.124500000000003,  in 0.09187769889831543 seconds\n",
      "Finish step 232, s = 9.164000000000003,  in 0.08881330490112305 seconds\n",
      "Finish step 233, s = 9.2035,  in 0.11133146286010742 seconds\n",
      "Finish step 234, s = 9.243,  in 0.10893583297729492 seconds\n",
      "Finish step 235, s = 9.2825,  in 0.10745573043823242 seconds\n",
      "Finish step 236, s = 9.322000000000001,  in 0.10716700553894043 seconds\n",
      "Finish step 237, s = 9.361500000000001,  in 0.10818314552307129 seconds\n",
      "Finish step 238, s = 9.401000000000002,  in 0.10804629325866699 seconds\n",
      "Finish step 239, s = 9.440500000000002,  in 0.11260533332824707 seconds\n",
      "Finish step 240, s = 9.48,  in 0.09508967399597168 seconds\n",
      "Finish step 241, s = 9.5195,  in 0.09263253211975098 seconds\n",
      "Finish step 242, s = 9.559000000000001,  in 0.08942174911499023 seconds\n",
      "Finish step 243, s = 9.598500000000001,  in 0.09130334854125977 seconds\n",
      "Finish step 244, s = 9.638000000000002,  in 0.09149813652038574 seconds\n",
      "Finish step 245, s = 9.6775,  in 0.24354815483093262 seconds\n",
      "Finish step 246, s = 9.717,  in 0.23472952842712402 seconds\n",
      "Finish step 247, s = 9.7565,  in 0.2518594264984131 seconds\n",
      "Finish step 248, s = 9.796000000000001,  in 0.23667645454406738 seconds\n",
      "Finish step 249, s = 9.835500000000001,  in 0.2383122444152832 seconds\n",
      "Finish step 250, s = 9.875000000000002,  in 0.23264837265014648 seconds\n",
      "Finish step 251, s = 9.914500000000002,  in 0.24050641059875488 seconds\n",
      "Finish step 252, s = 9.954000000000002,  in 0.23059344291687012 seconds\n",
      "Finish step 253, s = 9.993500000000003,  in 0.2378067970275879 seconds\n",
      "Finish step 254, s = 10.033000000000003,  in 0.2386770248413086 seconds\n",
      "Finish step 255, s = 10.072500000000003,  in 0.2317519187927246 seconds\n",
      "Finish step 256, s = 10.112000000000004,  in 0.23337173461914062 seconds\n",
      "Finish step 257, s = 10.151500000000004,  in 0.2406632900238037 seconds\n",
      "Finish step 258, s = 10.191000000000004,  in 0.23624634742736816 seconds\n",
      "Finish step 259, s = 10.230500000000005,  in 0.23287463188171387 seconds\n",
      "Finish step 260, s = 10.270000000000005,  in 0.23764419555664062 seconds\n",
      "Finish step 261, s = 10.309500000000005,  in 0.24669528007507324 seconds\n",
      "Finish step 262, s = 10.349000000000006,  in 0.23941731452941895 seconds\n",
      "Finish step 263, s = 10.388500000000006,  in 0.24112701416015625 seconds\n",
      "Finish step 264, s = 10.428000000000006,  in 0.23615193367004395 seconds\n",
      "Finish step 265, s = 10.467500000000006,  in 0.24332118034362793 seconds\n",
      "Finish step 266, s = 10.507000000000007,  in 0.23572182655334473 seconds\n",
      "Finish step 267, s = 10.546500000000007,  in 0.23900246620178223 seconds\n",
      "Finish step 268, s = 10.586000000000007,  in 0.24664688110351562 seconds\n",
      "Finish step 269, s = 10.625500000000008,  in 0.24973320960998535 seconds\n",
      "Finish step 270, s = 10.665000000000001,  in 0.09897017478942871 seconds\n",
      "Finish step 271, s = 10.704500000000001,  in 0.10009312629699707 seconds\n",
      "Finish step 272, s = 10.744000000000002,  in 0.09900808334350586 seconds\n",
      "Finish step 273, s = 10.783500000000002,  in 0.09717559814453125 seconds\n",
      "Finish step 274, s = 10.823000000000002,  in 0.09255313873291016 seconds\n",
      "Beam at position 10.823000000000002 is written to /global/cfs/projectdirs/m669/obed/w_chicane_pydf_outputs/b3re_1_1M_-17.0_-41.5-particles-end.h5\n",
      "Statistics written to  /global/cfs/projectdirs/m669/obed/w_chicane_pydf_outputs/b3re_1_1M_-17.0_-41.5-statistics.h5\n",
      "CPU times: user 45.5 s, sys: 332 ms, total: 45.8 s\n",
      "Wall time: 45.9 s\n"
     ]
    }
   ],
   "source": [
    "%%time\n",
    "B3RE1.run();"
   ]
  },
  {
   "cell_type": "code",
   "execution_count": 2,
   "id": "4b635f0c-216a-4feb-bd0e-5a30dd1b5772",
   "metadata": {},
   "outputs": [
    {
     "ename": "NameError",
     "evalue": "name 'i' is not defined",
     "output_type": "error",
     "traceback": [
      "\u001b[0;31m---------------------------------------------------------------------------\u001b[0m",
      "\u001b[0;31mNameError\u001b[0m                                 Traceback (most recent call last)",
      "Cell \u001b[0;32mIn[2], line 2\u001b[0m\n\u001b[1;32m      1\u001b[0m \u001b[38;5;66;03m#Change config\u001b[39;00m\n\u001b[0;32m----> 2\u001b[0m \u001b[38;5;28mprint\u001b[39m(\u001b[38;5;124mf\u001b[39m\u001b[38;5;124m\"\u001b[39m\u001b[38;5;124mJust finished lattice \u001b[39m\u001b[38;5;132;01m{\u001b[39;00m\u001b[43mi\u001b[49m\u001b[38;5;132;01m}\u001b[39;00m\u001b[38;5;124m: \u001b[39m\u001b[38;5;132;01m{\u001b[39;00mlattice_names[i]\u001b[38;5;132;01m}\u001b[39;00m\u001b[38;5;124m, moving onto \u001b[39m\u001b[38;5;132;01m{\u001b[39;00mi\u001b[38;5;241m+\u001b[39m\u001b[38;5;241m1\u001b[39m\u001b[38;5;132;01m}\u001b[39;00m\u001b[38;5;124m: \u001b[39m\u001b[38;5;132;01m{\u001b[39;00mlattice_names[i\u001b[38;5;241m+\u001b[39m\u001b[38;5;241m1\u001b[39m]\u001b[38;5;132;01m}\u001b[39;00m\u001b[38;5;124m\"\u001b[39m)\n\u001b[1;32m      3\u001b[0m i \u001b[38;5;241m+\u001b[39m\u001b[38;5;241m=\u001b[39m \u001b[38;5;241m1\u001b[39m;\n\u001b[1;32m      4\u001b[0m \u001b[38;5;28mprint\u001b[39m(\u001b[38;5;124mf\u001b[39m\u001b[38;5;124m\"\u001b[39m\u001b[38;5;124mUsing \u001b[39m\u001b[38;5;132;01m{\u001b[39;00mname\u001b[38;5;132;01m}\u001b[39;00m\u001b[38;5;124m as input\u001b[39m\u001b[38;5;124m\"\u001b[39m)\n",
      "\u001b[0;31mNameError\u001b[0m: name 'i' is not defined"
     ]
    }
   ],
   "source": [
    "#Change config\n",
    "print(f\"Just finished lattice {i}: {lattice_names[i]}, moving onto {i+1}: {lattice_names[i+1]}\")\n",
    "i += 1;\n",
    "print(f\"Using {name} as input\")\n",
    "### Go to config, change input beam, lattice, and writename\n",
    "# Replace the beam file\n",
    "replace_config_content(init_config, 'style:', 'ParticleGroup');\n",
    "replace_config_content(init_config, 'ParticleGroup_h5:', output_dir + name);\n",
    "# Replace lattice with next in the list\n",
    "replace_config_content(init_config, 'lattice_input_file:', 'lattice_files/' + lattice_names[i] + '.yaml');\n",
    "# Replace output write name\n",
    "replace_config_content(init_config, 'write_name:', '\\'' + lattice_names[i] + '_1M_' + phi1 + '_' + phi2 + '\\'');\n",
    "curr_config = init_config;\n",
    "print('Done')"
   ]
  },
  {
   "cell_type": "code",
   "execution_count": null,
   "id": "9bebee94-c2dd-4bac-8e33-b98e6a0ad3fd",
   "metadata": {},
   "outputs": [],
   "source": [
    "### Run Through B2RE\n",
    "B2RE0= CSR2D(input_file= curr_config);\n",
    "# Turn on CSR\n",
    "B3RE1.CSR_params.apply_CSR = 1;\n",
    "B3RE1.CSR_params.compute_CSR = 1;\n",
    "B3RE1.CSR_params.transverse_on = 1;"
   ]
  },
  {
   "cell_type": "code",
   "execution_count": null,
   "id": "9ab56430-fda2-49d1-a174-58f7fbe10598",
   "metadata": {
    "scrolled": true,
    "tags": []
   },
   "outputs": [
    {
     "name": "stdout",
     "output_type": "stream",
     "text": [
      "Starting the DFCSR run\n",
      "Wakes written to  /global/cfs/projectdirs/m669/obed/w_chicane_pydf_outputs/b2re_0_1M_-17.0_-41.5-wakes.h5\n",
      "Finish step 1, s = 0.072996,  in 2.6924593448638916 seconds\n",
      "Finish step 2, s = 0.145992,  in 2.647350549697876 seconds\n",
      "Finish step 3, s = 0.21898800000000002,  in 2.608074188232422 seconds\n",
      "Finish step 4, s = 0.291984,  in 2.607999086380005 seconds\n",
      "Finish step 5, s = 0.36498,  in 2.6360890865325928 seconds\n",
      "Finish step 6, s = 0.43797600000000003,  in 2.619907855987549 seconds\n",
      "Finish step 7, s = 0.510972,  in 2.637097120285034 seconds\n",
      "Finish step 8, s = 0.583968,  in 2.589387893676758 seconds\n",
      "Finish step 9, s = 0.6569640000000001,  in 2.922868013381958 seconds\n",
      "Finish step 10, s = 0.7299600000000002,  in 2.6665120124816895 seconds\n",
      "Finish step 11, s = 0.8029560000000002,  in 3.177131175994873 seconds\n",
      "start reinterpolation. number of slice 13\n",
      "xbins = 1208  zbins =  502\n",
      "Finish step 12, s = 0.8759520000000003,  in 4.5657734870910645 seconds\n",
      "Finish step 13, s = 0.9489480000000003,  in 3.8043243885040283 seconds\n",
      "Finish step 14, s = 1.0219440000000004,  in 3.638381242752075 seconds\n",
      "Finish step 15, s = 1.0949400000000005,  in 3.635087490081787 seconds\n",
      "Finish step 16, s = 1.1679360000000005,  in 3.4705443382263184 seconds\n",
      "Finish step 17, s = 1.2409320000000006,  in 3.4393246173858643 seconds\n",
      "Finish step 18, s = 1.3139280000000007,  in 3.5140044689178467 seconds\n",
      "Finish step 19, s = 1.3869240000000007,  in 3.4858787059783936 seconds\n",
      "Finish step 20, s = 1.4599200000000008,  in 3.42771577835083 seconds\n",
      "Finish step 21, s = 1.5329160000000008,  in 3.4659805297851562 seconds\n",
      "Finish step 22, s = 1.605912000000001,  in 3.533233642578125 seconds\n",
      "start reinterpolation. number of slice 24\n",
      "xbins = 2000  zbins =  518\n",
      "Finish step 23, s = 1.678908000000001,  in 7.462539911270142 seconds\n",
      "Finish step 24, s = 1.751904000000001,  in 3.8633081912994385 seconds\n",
      "Beam at position 1.8249000000000002 is written to /global/cfs/projectdirs/m669/obed/w_chicane_pydf_outputs/b2re_0_1M_-17.0_-41.5-particles-25.h5\n",
      "Finish step 25, s = 1.8249000000000002,  in 4.178509473800659 seconds\n",
      "Finish step 26, s = 1.8978960000000002,  in 3.7810006141662598 seconds\n",
      "Finish step 27, s = 1.9708920000000003,  in 3.7973222732543945 seconds\n",
      "Finish step 28, s = 2.0438880000000004,  in 3.740800619125366 seconds\n",
      "Finish step 29, s = 2.116884,  in 3.836540699005127 seconds\n",
      "Finish step 30, s = 2.18988,  in 3.7470781803131104 seconds\n",
      "Finish step 31, s = 2.262876,  in 3.737929344177246 seconds\n",
      "Finish step 32, s = 2.3358719999999997,  in 3.7808682918548584 seconds\n",
      "Finish step 33, s = 2.4088679999999996,  in 3.888333559036255 seconds\n",
      "Finish step 34, s = 2.4818639999999994,  in 4.165163516998291 seconds\n",
      "Finish step 35, s = 2.5548599999999992,  in 4.062128067016602 seconds\n",
      "Finish step 36, s = 2.627855999999999,  in 3.619497060775757 seconds\n",
      "Finish step 37, s = 2.700851999999999,  in 3.6773037910461426 seconds\n",
      "Finish step 38, s = 2.7738479999999988,  in 3.5724904537200928 seconds\n",
      "Finish step 39, s = 2.8468439999999986,  in 3.600093364715576 seconds\n",
      "Finish step 40, s = 2.9198399999999984,  in 3.668461799621582 seconds\n",
      "Finish step 41, s = 2.9928359999999983,  in 3.6009609699249268 seconds\n",
      "Finish step 42, s = 3.065831999999998,  in 3.646702527999878 seconds\n",
      "start reinterpolation. number of slice 43\n",
      "xbins = 2000  zbins =  522\n",
      "Finish step 43, s = 3.138827999999998,  in 10.82790231704712 seconds\n",
      "Finish step 44, s = 3.211823999999998,  in 4.057431936264038 seconds\n",
      "Finish step 45, s = 3.2848199999999976,  in 4.020464658737183 seconds\n",
      "Finish step 46, s = 3.3578159999999975,  in 3.9435112476348877 seconds\n",
      "Finish step 47, s = 3.4308119999999973,  in 3.969425916671753 seconds\n",
      "Finish step 48, s = 3.503807999999997,  in 3.9184086322784424 seconds\n",
      "Finish step 49, s = 3.576803999999997,  in 3.8878486156463623 seconds\n",
      "Beam at position 3.576803999999997 is written to /global/cfs/projectdirs/m669/obed/w_chicane_pydf_outputs/b2re_0_1M_-17.0_-41.5-particles-end.h5\n",
      "Statistics written to  /global/cfs/projectdirs/m669/obed/w_chicane_pydf_outputs/b2re_0_1M_-17.0_-41.5-statistics.h5\n",
      "CPU times: user 2min 56s, sys: 3.71 s, total: 3min\n",
      "Wall time: 3min 4s\n"
     ]
    }
   ],
   "source": [
    "%%time\n",
    "B2RE0.run();"
   ]
  },
  {
   "cell_type": "code",
   "execution_count": 32,
   "id": "df74edc1-6efd-42dd-8c18-6b0f80b35be9",
   "metadata": {},
   "outputs": [
    {
     "name": "stdout",
     "output_type": "stream",
     "text": [
      "Just finished lattice 8: b2re_0, moving onto 9: b2re_1\n",
      "Using b3le_0_1M_-17.0_-41.5-particles-end.h5 as input\n",
      "Done\n"
     ]
    }
   ],
   "source": [
    "#Change config\n",
    "print(f\"Just finished lattice {i}: {lattice_names[i]}, moving onto {i+1}: {lattice_names[i+1]}\")\n",
    "i += 1;\n",
    "print(f\"Using {name} as input\")\n",
    "### Go to config, change input beam, lattice, and writename\n",
    "# Replace the beam file\n",
    "replace_config_content(init_config, 'style:', 'ParticleGroup');\n",
    "replace_config_content(init_config, 'ParticleGroup_h5:', output_dir + name);\n",
    "# Replace lattice with next in the list\n",
    "replace_config_content(init_config, 'lattice_input_file:', 'lattice_files/' + lattice_names[i] + '.yaml');\n",
    "# Replace output write name\n",
    "replace_config_content(init_config, 'write_name:', '\\'' + lattice_names[i] + '_1M_' + phi1 + '_' + phi2 + '\\'');\n",
    "curr_config = init_config;\n",
    "print('Done')"
   ]
  },
  {
   "cell_type": "code",
   "execution_count": 33,
   "id": "50b1eb10-c51c-4079-8629-ea179f27585c",
   "metadata": {},
   "outputs": [],
   "source": [
    "### Run Up to B1RE Start"
   ]
  },
  {
   "cell_type": "code",
   "execution_count": 34,
   "id": "45c741b0-91cd-45f0-ae64-9b3c25252cde",
   "metadata": {
    "scrolled": true,
    "tags": []
   },
   "outputs": [
    {
     "name": "stdout",
     "output_type": "stream",
     "text": [
      "start reinterpolation. number of slice 1\n",
      "xbins = 500  zbins =  500\n",
      "CPU times: user 168 ms, sys: 4.04 ms, total: 172 ms\n",
      "Wall time: 395 ms\n"
     ]
    }
   ],
   "source": [
    "%%time\n",
    "B2RE1= CSR2D(input_file= curr_config);\n",
    "# Turn off CSR\n",
    "B2RE1.CSR_params.apply_CSR = 0;\n",
    "B2RE1.CSR_params.compute_CSR = 0;\n",
    "B2RE1.CSR_params.transverse_on = 0;"
   ]
  },
  {
   "cell_type": "code",
   "execution_count": 35,
   "id": "8795265b-77bf-4181-b90f-80a815a15ecb",
   "metadata": {
    "scrolled": true,
    "tags": []
   },
   "outputs": [
    {
     "name": "stdout",
     "output_type": "stream",
     "text": [
      "Starting the DFCSR run\n",
      "Finish step 1, s = 0.072996,  in 0.09316229820251465 seconds\n",
      "Finish step 2, s = 0.145992,  in 0.09170746803283691 seconds\n",
      "Finish step 3, s = 0.21898800000000002,  in 0.08875775337219238 seconds\n",
      "Finish step 4, s = 0.291984,  in 0.08774495124816895 seconds\n",
      "Finish step 5, s = 0.36498,  in 0.0891721248626709 seconds\n",
      "Finish step 6, s = 0.43797600000000003,  in 0.08921694755554199 seconds\n",
      "Finish step 7, s = 0.510972,  in 0.09100151062011719 seconds\n",
      "Finish step 8, s = 0.583968,  in 0.09322881698608398 seconds\n",
      "Finish step 9, s = 0.6569640000000001,  in 0.09107780456542969 seconds\n",
      "Finish step 10, s = 0.7299600000000002,  in 0.09028244018554688 seconds\n",
      "Finish step 11, s = 0.8029560000000002,  in 0.08985495567321777 seconds\n",
      "Finish step 12, s = 0.8759520000000003,  in 0.08859443664550781 seconds\n",
      "Finish step 13, s = 0.9489480000000003,  in 0.08981037139892578 seconds\n",
      "Finish step 14, s = 1.0219440000000004,  in 0.08974170684814453 seconds\n",
      "Finish step 15, s = 1.0949400000000005,  in 0.09156227111816406 seconds\n",
      "Finish step 16, s = 1.1679360000000005,  in 0.0903325080871582 seconds\n",
      "Finish step 17, s = 1.2409320000000006,  in 0.09436678886413574 seconds\n",
      "Finish step 18, s = 1.3139280000000007,  in 0.09027504920959473 seconds\n",
      "Finish step 19, s = 1.3869240000000007,  in 0.0918416976928711 seconds\n",
      "Finish step 20, s = 1.4599200000000008,  in 0.08777928352355957 seconds\n",
      "Finish step 21, s = 1.5329160000000008,  in 0.0898292064666748 seconds\n",
      "Finish step 22, s = 1.605912000000001,  in 0.0885009765625 seconds\n",
      "Finish step 23, s = 1.678908000000001,  in 0.09009027481079102 seconds\n",
      "Finish step 24, s = 1.751904000000001,  in 0.08930563926696777 seconds\n",
      "Finish step 25, s = 1.824900000000001,  in 0.09490609169006348 seconds\n",
      "Finish step 26, s = 1.8978960000000011,  in 0.09120059013366699 seconds\n",
      "Finish step 27, s = 1.970892,  in 0.24815964698791504 seconds\n",
      "Finish step 28, s = 2.043888,  in 0.23262906074523926 seconds\n",
      "Finish step 29, s = 2.1168839999999998,  in 0.24628472328186035 seconds\n",
      "Finish step 30, s = 2.1898799999999996,  in 0.2440471649169922 seconds\n",
      "Finish step 31, s = 2.2628759999999994,  in 0.24959707260131836 seconds\n",
      "Finish step 32, s = 2.3358719999999993,  in 0.23670554161071777 seconds\n",
      "Finish step 33, s = 2.408867999999999,  in 0.23817157745361328 seconds\n",
      "Finish step 34, s = 2.481863999999999,  in 0.23759818077087402 seconds\n",
      "Finish step 35, s = 2.554859999999999,  in 0.2301652431488037 seconds\n",
      "Finish step 36, s = 2.6278560000000004,  in 0.09226226806640625 seconds\n",
      "Finish step 37, s = 2.7008520000000003,  in 0.09114956855773926 seconds\n",
      "Finish step 38, s = 2.773848,  in 0.08821606636047363 seconds\n",
      "Finish step 39, s = 2.846844,  in 0.0875089168548584 seconds\n",
      "Finish step 40, s = 2.9198399999999998,  in 0.08893251419067383 seconds\n",
      "Finish step 41, s = 2.9928359999999996,  in 0.08823490142822266 seconds\n",
      "Finish step 42, s = 3.0658319999999994,  in 0.08919763565063477 seconds\n",
      "Finish step 43, s = 3.1388279999999993,  in 0.09002685546875 seconds\n",
      "Finish step 44, s = 3.211823999999999,  in 0.0892801284790039 seconds\n",
      "Finish step 45, s = 3.284819999999999,  in 0.09093308448791504 seconds\n",
      "Finish step 46, s = 3.357815999999999,  in 0.09377384185791016 seconds\n",
      "Finish step 47, s = 3.4308119999999986,  in 0.0922095775604248 seconds\n",
      "Finish step 48, s = 3.5038079999999985,  in 0.0915679931640625 seconds\n",
      "Finish step 49, s = 3.5768039999999983,  in 0.08958077430725098 seconds\n",
      "Finish step 50, s = 3.649799999999998,  in 0.08996200561523438 seconds\n",
      "Finish step 51, s = 3.722795999999998,  in 0.09141016006469727 seconds\n",
      "Finish step 52, s = 3.795791999999998,  in 0.08942365646362305 seconds\n",
      "Finish step 53, s = 3.8687879999999977,  in 0.08743572235107422 seconds\n",
      "Finish step 54, s = 3.9417839999999975,  in 0.09209728240966797 seconds\n",
      "Finish step 55, s = 4.014779999999997,  in 0.09297585487365723 seconds\n",
      "Finish step 56, s = 4.087775999999997,  in 0.08928465843200684 seconds\n",
      "Finish step 57, s = 4.160771999999997,  in 0.0873570442199707 seconds\n",
      "Finish step 58, s = 4.233767999999997,  in 0.08748936653137207 seconds\n",
      "Finish step 59, s = 4.306763999999997,  in 0.0888066291809082 seconds\n",
      "Finish step 60, s = 4.3797599999999965,  in 0.08870506286621094 seconds\n",
      "Finish step 61, s = 4.452755999999996,  in 0.08800029754638672 seconds\n",
      "Finish step 62, s = 4.525751999999996,  in 0.08921957015991211 seconds\n",
      "Finish step 63, s = 4.598747999999996,  in 0.08962202072143555 seconds\n",
      "Finish step 64, s = 4.671743999999996,  in 0.09247779846191406 seconds\n",
      "Finish step 65, s = 4.744739999999996,  in 0.09218573570251465 seconds\n",
      "Finish step 66, s = 4.817735999999996,  in 0.08853673934936523 seconds\n",
      "Finish step 67, s = 4.890731999999995,  in 0.08831644058227539 seconds\n",
      "Finish step 68, s = 4.963727999999995,  in 0.08738493919372559 seconds\n",
      "Finish step 69, s = 5.036723999999995,  in 0.08739447593688965 seconds\n",
      "Finish step 70, s = 5.109719999999995,  in 0.08823037147521973 seconds\n",
      "Finish step 71, s = 5.182715999999995,  in 0.08789324760437012 seconds\n",
      "Finish step 72, s = 5.255711999999995,  in 0.08904457092285156 seconds\n",
      "Finish step 73, s = 5.3287079999999944,  in 0.09207606315612793 seconds\n",
      "Finish step 74, s = 5.401703999999994,  in 0.09124517440795898 seconds\n",
      "Finish step 75, s = 5.474699999999994,  in 0.09424066543579102 seconds\n",
      "Finish step 76, s = 5.547695999999994,  in 0.08975791931152344 seconds\n",
      "Finish step 77, s = 5.620691999999994,  in 0.1017308235168457 seconds\n",
      "Finish step 78, s = 5.693687999999994,  in 0.09266781806945801 seconds\n",
      "Finish step 79, s = 5.7666839999999935,  in 0.0884549617767334 seconds\n",
      "Finish step 80, s = 5.839679999999993,  in 0.08926653861999512 seconds\n",
      "Finish step 81, s = 5.912675999999993,  in 0.09112739562988281 seconds\n",
      "Finish step 82, s = 5.985671999999993,  in 0.09347152709960938 seconds\n",
      "Finish step 83, s = 6.058667999999993,  in 0.08896374702453613 seconds\n",
      "Finish step 84, s = 6.131663999999993,  in 0.09015655517578125 seconds\n",
      "Finish step 85, s = 6.2046599999999925,  in 0.08812284469604492 seconds\n",
      "Finish step 86, s = 6.277655999999992,  in 0.09170103073120117 seconds\n",
      "Finish step 87, s = 6.350651999999992,  in 0.0879371166229248 seconds\n",
      "Finish step 88, s = 6.423647999999992,  in 0.09000802040100098 seconds\n",
      "Finish step 89, s = 6.496643999999992,  in 0.0912468433380127 seconds\n",
      "Finish step 90, s = 6.569639999999992,  in 0.09419035911560059 seconds\n",
      "Finish step 91, s = 6.6426359999999915,  in 0.08980417251586914 seconds\n",
      "Finish step 92, s = 6.715631999999991,  in 0.09379935264587402 seconds\n",
      "Finish step 93, s = 6.788627999999991,  in 0.09627461433410645 seconds\n",
      "Finish step 94, s = 6.861623999999991,  in 0.09148263931274414 seconds\n",
      "Finish step 95, s = 6.934619999999991,  in 0.09612464904785156 seconds\n",
      "Finish step 96, s = 7.007615999999991,  in 0.09644150733947754 seconds\n",
      "Finish step 97, s = 7.080611999999991,  in 0.0910654067993164 seconds\n",
      "Finish step 98, s = 7.15360799999999,  in 0.08967304229736328 seconds\n",
      "Finish step 99, s = 7.22660399999999,  in 0.09180140495300293 seconds\n",
      "Finish step 100, s = 7.29959999999999,  in 0.08868622779846191 seconds\n",
      "Finish step 101, s = 7.37259599999999,  in 0.087432861328125 seconds\n",
      "Finish step 102, s = 7.44559199999999,  in 0.08740639686584473 seconds\n",
      "Finish step 103, s = 7.51858799999999,  in 0.08835220336914062 seconds\n",
      "Beam at position 7.51858799999999 is written to /global/cfs/projectdirs/m669/obed/w_chicane_pydf_outputs/b2re_1_1M_-17.0_-41.5-particles-end.h5\n",
      "Statistics written to  /global/cfs/projectdirs/m669/obed/w_chicane_pydf_outputs/b2re_1_1M_-17.0_-41.5-statistics.h5\n"
     ]
    }
   ],
   "source": [
    "B2RE1.run();"
   ]
  },
  {
   "cell_type": "code",
   "execution_count": 37,
   "id": "0dd62237-24a8-4b43-8623-5c131eced7ca",
   "metadata": {},
   "outputs": [
    {
     "name": "stdout",
     "output_type": "stream",
     "text": [
      "Just finished lattice 9: b2re_1, moving onto 10: b1re_0\n",
      "Using b3le_0_1M_-17.0_-41.5-particles-end.h5 as input\n",
      "Done\n"
     ]
    }
   ],
   "source": [
    "#Change config\n",
    "print(f\"Just finished lattice {i}: {lattice_names[i]}, moving onto {i+1}: {lattice_names[i+1]}\")\n",
    "i += 1;\n",
    "print(f\"Using {name} as input\")\n",
    "### Go to config, change input beam, lattice, and writename\n",
    "# Replace the beam file\n",
    "replace_config_content(init_config, 'style:', 'ParticleGroup');\n",
    "replace_config_content(init_config, 'ParticleGroup_h5:', output_dir + name);\n",
    "# Replace lattice with next in the list\n",
    "replace_config_content(init_config, 'lattice_input_file:', 'lattice_files/' + lattice_names[i] + '.yaml');\n",
    "# Replace output write name\n",
    "replace_config_content(init_config, 'write_name:', '\\'' + lattice_names[i] + '_1M_' + phi1 + '_' + phi2 + '\\'');\n",
    "curr_config = init_config;\n",
    "print('Done')"
   ]
  },
  {
   "cell_type": "code",
   "execution_count": 38,
   "id": "3be0e1b4-8493-4201-bb63-56bb78208c55",
   "metadata": {},
   "outputs": [],
   "source": [
    "### Run Through B1RE"
   ]
  },
  {
   "cell_type": "code",
   "execution_count": 40,
   "id": "49885cf2-29d9-48c0-8593-7ecc76c3e0ec",
   "metadata": {},
   "outputs": [
    {
     "name": "stdout",
     "output_type": "stream",
     "text": [
      "start reinterpolation. number of slice 1\n",
      "xbins = 500  zbins =  500\n",
      "CPU times: user 157 ms, sys: 11.9 ms, total: 169 ms\n",
      "Wall time: 286 ms\n"
     ]
    }
   ],
   "source": [
    "%%time\n",
    "B1RE0= CSR2D(input_file= curr_config);\n",
    "# Turn off CSR\n",
    "B1RE0.CSR_params.apply_CSR = 1;\n",
    "B1RE0.CSR_params.compute_CSR = 1;\n",
    "B1RE0.CSR_params.transverse_on = 1;"
   ]
  },
  {
   "cell_type": "code",
   "execution_count": 41,
   "id": "c4a3dee3-eec6-4c7d-8c10-0cc325652a61",
   "metadata": {
    "scrolled": true,
    "tags": []
   },
   "outputs": [
    {
     "name": "stdout",
     "output_type": "stream",
     "text": [
      "Starting the DFCSR run\n",
      "Wakes written to  /global/cfs/projectdirs/m669/obed/w_chicane_pydf_outputs/b1re_0_1M_-17.0_-41.5-wakes.h5\n",
      "Finish step 1, s = 0.0425209036,  in 2.682424306869507 seconds\n",
      "Finish step 2, s = 0.0850418072,  in 2.537076950073242 seconds\n",
      "Finish step 3, s = 0.1275627108,  in 2.726689338684082 seconds\n",
      "Finish step 4, s = 0.1700836144,  in 2.642847776412964 seconds\n",
      "Finish step 5, s = 0.212604518,  in 2.6446151733398438 seconds\n",
      "Finish step 6, s = 0.2551254216,  in 2.7449522018432617 seconds\n",
      "Finish step 7, s = 0.2976463252,  in 2.9212646484375 seconds\n",
      "Finish step 8, s = 0.3401672288,  in 2.58393931388855 seconds\n",
      "Finish step 9, s = 0.3826881324,  in 2.5833969116210938 seconds\n",
      "Finish step 10, s = 0.425209036,  in 2.604198694229126 seconds\n",
      "Finish step 11, s = 0.4677299396,  in 2.654926300048828 seconds\n",
      "Finish step 12, s = 0.5102508432,  in 2.5637035369873047 seconds\n",
      "Finish step 13, s = 0.5527717468000001,  in 2.6012473106384277 seconds\n",
      "Finish step 14, s = 0.5952926504000001,  in 2.6755685806274414 seconds\n",
      "Finish step 15, s = 0.6378135540000002,  in 2.7208993434906006 seconds\n",
      "Finish step 16, s = 0.6803344576000002,  in 2.6476259231567383 seconds\n",
      "Finish step 17, s = 0.7228553612000003,  in 2.677851438522339 seconds\n",
      "Finish step 18, s = 0.7653762648000003,  in 2.67781925201416 seconds\n",
      "Finish step 19, s = 0.8078971684000004,  in 2.6703603267669678 seconds\n",
      "Finish step 20, s = 0.8504180720000004,  in 2.686434268951416 seconds\n",
      "start reinterpolation. number of slice 22\n",
      "xbins = 1145  zbins =  503\n",
      "Finish step 21, s = 0.8929389756000005,  in 5.28801703453064 seconds\n",
      "Finish step 22, s = 0.9354598792000005,  in 3.6137306690216064 seconds\n",
      "Finish step 23, s = 0.9779807828000006,  in 3.6250295639038086 seconds\n",
      "Finish step 24, s = 1.0205016864000005,  in 3.567544937133789 seconds\n",
      "Beam at position 1.0630225900000005 is written to /global/cfs/projectdirs/m669/obed/w_chicane_pydf_outputs/b1re_0_1M_-17.0_-41.5-particles-25.h5\n",
      "Finish step 25, s = 1.0630225900000005,  in 3.9983201026916504 seconds\n",
      "Finish step 26, s = 1.1055434936000004,  in 3.6002607345581055 seconds\n",
      "Finish step 27, s = 1.1480643972000004,  in 3.7767562866210938 seconds\n",
      "Finish step 28, s = 1.1905853008000005,  in 3.624696969985962 seconds\n",
      "Finish step 29, s = 1.2331062044000005,  in 3.555711269378662 seconds\n",
      "Finish step 30, s = 1.2756271080000006,  in 3.651092767715454 seconds\n",
      "Finish step 31, s = 1.3181480116000006,  in 3.599318504333496 seconds\n",
      "Finish step 32, s = 1.3606689152000007,  in 3.3942017555236816 seconds\n",
      "Finish step 33, s = 1.4031898188000007,  in 3.385380268096924 seconds\n",
      "Finish step 34, s = 1.4457107224000008,  in 3.3838250637054443 seconds\n",
      "Finish step 35, s = 1.4882316260000008,  in 3.352283239364624 seconds\n",
      "Finish step 36, s = 1.5307525296000009,  in 3.276733636856079 seconds\n",
      "Finish step 37, s = 1.573273433200001,  in 3.318568706512451 seconds\n",
      "Finish step 38, s = 1.615794336800001,  in 3.3070058822631836 seconds\n",
      "Finish step 39, s = 1.658315240400001,  in 3.2838776111602783 seconds\n",
      "Finish step 40, s = 1.700836144000001,  in 3.255764961242676 seconds\n",
      "Finish step 41, s = 1.743357047600001,  in 3.248811721801758 seconds\n",
      "Finish step 42, s = 1.7858779512000011,  in 3.2930006980895996 seconds\n",
      "start reinterpolation. number of slice 44\n",
      "xbins = 2000  zbins =  506\n",
      "Finish step 43, s = 1.8283988548000012,  in 10.26012921333313 seconds\n",
      "Finish step 44, s = 1.8709197584000012,  in 3.8191888332366943 seconds\n",
      "Finish step 45, s = 1.9134406620000013,  in 3.7968814373016357 seconds\n",
      "Finish step 46, s = 1.9559615656000013,  in 3.845345973968506 seconds\n",
      "Finish step 47, s = 1.9984824692000014,  in 3.812396764755249 seconds\n",
      "Finish step 48, s = 2.0410033728000014,  in 3.7543697357177734 seconds\n",
      "Finish step 49, s = 2.0835242764000013,  in 3.814410924911499 seconds\n",
      "Finish step 50, s = 2.126045180000001,  in 3.859006404876709 seconds\n",
      "Beam at position 2.126045180000001 is written to /global/cfs/projectdirs/m669/obed/w_chicane_pydf_outputs/b1re_0_1M_-17.0_-41.5-particles-end.h5\n",
      "Statistics written to  /global/cfs/projectdirs/m669/obed/w_chicane_pydf_outputs/b1re_0_1M_-17.0_-41.5-statistics.h5\n",
      "CPU times: user 2min 42s, sys: 2.6 s, total: 2min 45s\n",
      "Wall time: 2min 49s\n"
     ]
    }
   ],
   "source": [
    "%%time\n",
    "B1RE0.run();"
   ]
  },
  {
   "cell_type": "code",
   "execution_count": null,
   "id": "ede8c4c0-cb06-4714-ac84-146ffe734e60",
   "metadata": {
    "tags": []
   },
   "outputs": [],
   "source": [
    "#Change config\n",
    "print(f\"Just finished lattice {i}: {lattice_names[i]}, moving onto {i+1}: {lattice_names[i+1]}\")\n",
    "i += 1;\n",
    "print(f\"Using {name} as input\")\n",
    "### Go to config, change input beam, lattice, and writename\n",
    "# Replace the beam file\n",
    "replace_config_content(init_config, 'style:', 'ParticleGroup');\n",
    "replace_config_content(init_config, 'ParticleGroup_h5:', output_dir + name');\n",
    "# Replace lattice with next in the list\n",
    "replace_config_content(init_config, 'lattice_input_file:', 'lattice_files/' + lattice_names[i] + '.yaml');\n",
    "# Replace output write name\n",
    "replace_config_content(init_config, 'write_name:', '\\'' + lattice_names[i] + '_1M_' + phi1 + '_' + phi2 + '\\'');\n",
    "curr_config = init_config;\n",
    "print('Done')"
   ]
  },
  {
   "cell_type": "code",
   "execution_count": 42,
   "id": "37079875-41a4-49ae-9691-e6031b3221ff",
   "metadata": {
    "tags": []
   },
   "outputs": [],
   "source": [
    "# Examine beam"
   ]
  },
  {
   "cell_type": "code",
   "execution_count": 78,
   "id": "38491767-8c1b-4f7e-93de-a4460abb05cb",
   "metadata": {
    "tags": []
   },
   "outputs": [],
   "source": [
    "endbc20 = r'/global/cfs/projectdirs/m669/obed/w_chicane_pydf_outputs/b1le_0_1M_-17.0_-41.5-particles-end.h5'; "
   ]
  },
  {
   "cell_type": "code",
   "execution_count": 61,
   "id": "46ba9993-be56-4e7d-97f1-7e38e06e7e41",
   "metadata": {
    "tags": []
   },
   "outputs": [
    {
     "data": {
      "image/png": "[encoded data removed]",
      "text/plain": [
       "<Figure size 640x480 with 1 Axes>"
      ]
     },
     "metadata": {},
     "output_type": "display_data"
    }
   ],
   "source": []
  },
  {
   "cell_type": "code",
   "execution_count": 63,
   "id": "a71a7b5f-19ab-453d-a60d-303d336a637b",
   "metadata": {
    "tags": []
   },
   "outputs": [
    {
     "data": {
      "image/png": "[encoded data removed]",
      "text/plain": [
       "<Figure size 640x480 with 1 Axes>"
      ]
     },
     "metadata": {},
     "output_type": "display_data"
    }
   ],
   "source": []
  },
  {
   "cell_type": "code",
   "execution_count": 79,
   "id": "88dd6c1a-8f6a-435f-bb53-b6aba6b457ce",
   "metadata": {
    "tags": []
   },
   "outputs": [
    {
     "name": "stdout",
     "output_type": "stream",
     "text": [
      "[7.09192063e-09 7.09187664e-09 7.09156994e-09 ... 7.09188957e-09\n",
      " 7.09145359e-09 7.09165563e-09]\n"
     ]
    },
    {
     "data": {
      "image/png": "[encoded data removed]",
      "text/plain": [
       "<Figure size 640x480 with 1 Axes>"
      ]
     },
     "metadata": {},
     "output_type": "display_data"
    }
   ],
   "source": []
  },
  {
   "cell_type": "code",
   "execution_count": null,
   "id": "969d4ef5-2793-429e-8d7a-edd79bbae800",
   "metadata": {},
   "outputs": [],
   "source": [
    "### Run through FF"
   ]
  },
  {
   "cell_type": "code",
   "execution_count": null,
   "id": "87a0f35c-c030-493a-8b4f-fdae5d108656",
   "metadata": {
    "scrolled": true,
    "tags": []
   },
   "outputs": [],
   "source": [
    "%%time\n",
    "FF= CSR2D(input_file= curr_config);\n",
    "# Turn off CSR\n",
    "FF.CSR_params.apply_CSR = 0;\n",
    "FF.CSR_params.compute_CSR = 0;\n",
    "FF.CSR_params.transverse_on = 0;"
   ]
  },
  {
   "cell_type": "code",
   "execution_count": null,
   "id": "0e8ac1dd-4351-4817-b2d6-3cad53e4f5e0",
   "metadata": {
    "tags": []
   },
   "outputs": [],
   "source": [
    "FF.run();"
   ]
  },
  {
   "cell_type": "code",
   "execution_count": null,
   "id": "2ea7e17c-da6d-4792-ac0a-0aa647ec118a",
   "metadata": {},
   "outputs": [],
   "source": [
    "#Change config\n",
    "print(f\"Just finished lattice {i}: {lattice_names[i]}, moving onto {i+1}: {lattice_names[i+1]}\")\n",
    "i += 1;\n",
    "print(f\"Using {name} as input\")\n",
    "### Go to config, change input beam, lattice, and writename\n",
    "# Replace the beam file\n",
    "replace_config_content(init_config, 'style:', 'ParticleGroup');\n",
    "replace_config_content(init_config, 'ParticleGroup_h5:', output_dir + name');\n",
    "# Replace lattice with next in the list\n",
    "replace_config_content(init_config, 'lattice_input_file:', 'lattice_files/' + lattice_names[i] + '.yaml');\n",
    "# Replace output write name\n",
    "replace_config_content(init_config, 'write_name:', '\\'' + lattice_names[i] + '_1M_' + phi1 + '_' + phi2 + '\\'');\n",
    "curr_config = init_config;\n",
    "print('Done')"
   ]
  },
  {
   "cell_type": "code",
   "execution_count": null,
   "id": "332bc5f9-1f9a-4674-afb0-0554edef9bab",
   "metadata": {
    "tags": []
   },
   "outputs": [],
   "source": [
    "### Run up to IP"
   ]
  },
  {
   "cell_type": "code",
   "execution_count": null,
   "id": "443a3e15-2b43-4433-9423-9368a750e2b3",
   "metadata": {},
   "outputs": [],
   "source": [
    "%%time\n",
    "IP= CSR2D(input_file= curr_config);\n",
    "# Turn off CSR\n",
    "IP.CSR_params.apply_CSR = 0;\n",
    "IP.CSR_params.compute_CSR = 0;\n",
    "IP.CSR_params.transverse_on = 0;"
   ]
  },
  {
   "cell_type": "code",
   "execution_count": null,
   "id": "e591bfec-ceec-407e-85a6-1062e2f9db5b",
   "metadata": {
    "scrolled": true,
    "tags": []
   },
   "outputs": [],
   "source": [
    "%%time\n",
    "IP.run();"
   ]
  },
  {
   "cell_type": "code",
   "execution_count": null,
   "id": "56223ec2-1be0-4430-856a-5dddc26e3682",
   "metadata": {},
   "outputs": [],
   "source": []
  },
  {
   "cell_type": "code",
   "execution_count": null,
   "id": "4c5b906c-2927-4c8b-a7a4-0e3bc814c933",
   "metadata": {},
   "outputs": [],
   "source": []
  },
  {
   "cell_type": "code",
   "execution_count": null,
   "id": "fb19143e-fe5f-40d9-a0e7-a6cffd0b611b",
   "metadata": {},
   "outputs": [],
   "source": []
  },
  {
   "cell_type": "code",
   "execution_count": null,
   "id": "2d542b0a-d4d4-4da7-88f2-0ffdf96c8fef",
   "metadata": {
    "tags": []
   },
   "outputs": [],
   "source": [
    "beams = [];\n",
    "for name in lattice_names:\n",
    "    for file in os.listdir(input_dir):\n",
    "        if file.startswith(name):\n",
    "            with h5py.File(input_dir + file, 'r') as beam:\n",
    "                D = {};\n",
    "                for key in beam.keys():\n",
    "                    try:\n",
    "                        D[key] = beam[key][:];\n",
    "                    except:\n",
    "                        D[key] = beam[key][()];\n",
    "            beams.append(D)"
   ]
  },
  {
   "cell_type": "code",
   "execution_count": null,
   "id": "57c1a08c-d597-4d19-8045-1fa33d82763b",
   "metadata": {
    "tags": []
   },
   "outputs": [],
   "source": [
    "m = len(beams)\n",
    "fig, ax = plt.subplots(m, figsize = (6, 48)  )\n",
    "for i in range(m):\n",
    "    ax[i].scatter(1e6 * beams[i]['zeta'], beams[i]['delta'], s = .1)\n"
   ]
  },
  {
   "cell_type": "code",
   "execution_count": null,
   "id": "8a8d0be2-6b53-41f7-ba11-465601f7e23a",
   "metadata": {},
   "outputs": [],
   "source": []
  }
 ],
 "metadata": {
  "kernelspec": {
   "display_name": "pydfcsr",
   "language": "python",
   "name": "pydfcsr"
  },
  "language_info": {
   "codemirror_mode": {
    "name": "ipython",
    "version": 3
   },
   "file_extension": ".py",
   "mimetype": "text/x-python",
   "name": "python",
   "nbconvert_exporter": "python",
   "pygments_lexer": "ipython3",
   "version": "3.12.4"
  }
 },
 "nbformat": 4,
 "nbformat_minor": 5
}
